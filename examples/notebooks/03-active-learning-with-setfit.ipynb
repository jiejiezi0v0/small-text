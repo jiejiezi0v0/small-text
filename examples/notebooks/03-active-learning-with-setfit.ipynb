{
 "cells": [
  {
   "cell_type": "markdown",
   "id": "bea8b7ed",
   "metadata": {},
   "source": [
    "# Use SetFit for Active Learning in Small-Text\n",
    "*Notebook 3*  \n",
    "In this tutorial we demonstrate how to use [SetFit](https://github.com/huggingface/setfit) as a classifier for active learning.\n",
    "\n",
    "----\n",
    "\n",
    "## Overview\n",
    "\n",
    "- [Part I: Installation](#nb3-part1-installation)\n",
    "- [Part II: Data](#nb3-part2-data)\n",
    "- [Part III: Active Learning](#nb3-part3-active-learning)\n",
    "- [Part IV: Comparison](#nb3-part4-comparison)\n",
    "\n",
    "----\n",
    "\n",
    "<a id=\"nb3-part1-installation\"></a>\n",
    "## I. Installation\n",
    "\n",
    "The small-text wrapper for SetFit is a part of the transformers integration, so the installation procedure is the same as for every other example that shows small-text with transformers. "
   ]
  },
  {
   "cell_type": "code",
   "execution_count": 1,
   "id": "837556c3",
   "metadata": {
    "scrolled": true,
    "tags": []
   },
   "outputs": [
    {
     "name": "stdout",
     "output_type": "stream",
     "text": [
      "\u001b[33mDEPRECATION: git+https://github.com/webis-de/small-text#egg=small-text[transformers] contains an egg fragment with a non-PEP 508 name pip 25.0 will enforce this behaviour change. A possible replacement is to use the req @ url syntax, and remove the egg fragment. Discussion can be found at https://github.com/pypa/pip/issues/11617\u001b[0m\u001b[33m\n",
      "\u001b[0mCollecting small-text[transformers]\n",
      "  Cloning https://github.com/webis-de/small-text to /tmp/pip-install-ztzj5ogn/small-text_9d9785a561904d928205b930a239e326\n",
      "  Running command git clone --filter=blob:none --quiet https://github.com/webis-de/small-text /tmp/pip-install-ztzj5ogn/small-text_9d9785a561904d928205b930a239e326\n",
      "  Resolved https://github.com/webis-de/small-text to commit 70885e6a5e8b15c7a7ebaff1ef4cc487ae016826\n",
      "  Installing build dependencies ... \u001b[?25ldone\n",
      "\u001b[?25h  Getting requirements to build wheel ... \u001b[?25ldone\n",
      "\u001b[?25h  Preparing metadata (pyproject.toml) ... \u001b[?25ldone\n",
      "\u001b[?25hRequirement already satisfied: packaging in /home/cschroeder/.pyenv/versions/3.9.18/envs/notebooks/lib/python3.9/site-packages (from small-text[transformers]) (24.1)\n",
      "Requirement already satisfied: scikit-learn>=0.24.1 in /home/cschroeder/.pyenv/versions/3.9.18/envs/notebooks/lib/python3.9/site-packages (from small-text[transformers]) (1.5.0)\n",
      "Requirement already satisfied: dill>=0.3.7 in /home/cschroeder/.pyenv/versions/3.9.18/envs/notebooks/lib/python3.9/site-packages (from small-text[transformers]) (0.3.8)\n",
      "Requirement already satisfied: scipy in /home/cschroeder/.pyenv/versions/3.9.18/envs/notebooks/lib/python3.9/site-packages (from small-text[transformers]) (1.13.1)\n",
      "Requirement already satisfied: numpy>=1.21.0 in /home/cschroeder/.pyenv/versions/3.9.18/envs/notebooks/lib/python3.9/site-packages (from small-text[transformers]) (1.26.4)\n",
      "Requirement already satisfied: tokenizers>=0.11.5 in /home/cschroeder/.pyenv/versions/3.9.18/envs/notebooks/lib/python3.9/site-packages (from small-text[transformers]) (0.19.1)\n",
      "Requirement already satisfied: tqdm in /home/cschroeder/.pyenv/versions/3.9.18/envs/notebooks/lib/python3.9/site-packages (from small-text[transformers]) (4.66.4)\n",
      "Requirement already satisfied: transformers>=4.0.0 in /home/cschroeder/.pyenv/versions/3.9.18/envs/notebooks/lib/python3.9/site-packages (from small-text[transformers]) (4.44.0)\n",
      "Requirement already satisfied: torch>=1.6.0 in /home/cschroeder/.pyenv/versions/3.9.18/envs/notebooks/lib/python3.9/site-packages (from small-text[transformers]) (2.3.0)\n",
      "Requirement already satisfied: threadpoolctl>=3.1.0 in /home/cschroeder/.pyenv/versions/3.9.18/envs/notebooks/lib/python3.9/site-packages (from scikit-learn>=0.24.1->small-text[transformers]) (3.5.0)\n",
      "Requirement already satisfied: joblib>=1.2.0 in /home/cschroeder/.pyenv/versions/3.9.18/envs/notebooks/lib/python3.9/site-packages (from scikit-learn>=0.24.1->small-text[transformers]) (1.4.2)\n",
      "Requirement already satisfied: huggingface-hub<1.0,>=0.16.4 in /home/cschroeder/.pyenv/versions/3.9.18/envs/notebooks/lib/python3.9/site-packages (from tokenizers>=0.11.5->small-text[transformers]) (0.24.5)\n",
      "Requirement already satisfied: networkx in /home/cschroeder/.pyenv/versions/3.9.18/envs/notebooks/lib/python3.9/site-packages (from torch>=1.6.0->small-text[transformers]) (3.2.1)\n",
      "Requirement already satisfied: nvidia-cuda-nvrtc-cu12==12.1.105 in /home/cschroeder/.pyenv/versions/3.9.18/envs/notebooks/lib/python3.9/site-packages (from torch>=1.6.0->small-text[transformers]) (12.1.105)\n",
      "Requirement already satisfied: fsspec in /home/cschroeder/.pyenv/versions/3.9.18/envs/notebooks/lib/python3.9/site-packages (from torch>=1.6.0->small-text[transformers]) (2024.3.1)\n",
      "Requirement already satisfied: nvidia-cusolver-cu12==11.4.5.107 in /home/cschroeder/.pyenv/versions/3.9.18/envs/notebooks/lib/python3.9/site-packages (from torch>=1.6.0->small-text[transformers]) (11.4.5.107)\n",
      "Requirement already satisfied: nvidia-cuda-cupti-cu12==12.1.105 in /home/cschroeder/.pyenv/versions/3.9.18/envs/notebooks/lib/python3.9/site-packages (from torch>=1.6.0->small-text[transformers]) (12.1.105)\n",
      "Requirement already satisfied: nvidia-cublas-cu12==12.1.3.1 in /home/cschroeder/.pyenv/versions/3.9.18/envs/notebooks/lib/python3.9/site-packages (from torch>=1.6.0->small-text[transformers]) (12.1.3.1)\n",
      "Requirement already satisfied: nvidia-cuda-runtime-cu12==12.1.105 in /home/cschroeder/.pyenv/versions/3.9.18/envs/notebooks/lib/python3.9/site-packages (from torch>=1.6.0->small-text[transformers]) (12.1.105)\n",
      "Requirement already satisfied: nvidia-cudnn-cu12==8.9.2.26 in /home/cschroeder/.pyenv/versions/3.9.18/envs/notebooks/lib/python3.9/site-packages (from torch>=1.6.0->small-text[transformers]) (8.9.2.26)\n",
      "Requirement already satisfied: triton==2.3.0 in /home/cschroeder/.pyenv/versions/3.9.18/envs/notebooks/lib/python3.9/site-packages (from torch>=1.6.0->small-text[transformers]) (2.3.0)\n",
      "Requirement already satisfied: filelock in /home/cschroeder/.pyenv/versions/3.9.18/envs/notebooks/lib/python3.9/site-packages (from torch>=1.6.0->small-text[transformers]) (3.14.0)\n",
      "Requirement already satisfied: jinja2 in /home/cschroeder/.pyenv/versions/3.9.18/envs/notebooks/lib/python3.9/site-packages (from torch>=1.6.0->small-text[transformers]) (3.1.4)\n",
      "Requirement already satisfied: typing-extensions>=4.8.0 in /home/cschroeder/.pyenv/versions/3.9.18/envs/notebooks/lib/python3.9/site-packages (from torch>=1.6.0->small-text[transformers]) (4.11.0)\n",
      "Requirement already satisfied: sympy in /home/cschroeder/.pyenv/versions/3.9.18/envs/notebooks/lib/python3.9/site-packages (from torch>=1.6.0->small-text[transformers]) (1.12)\n",
      "Requirement already satisfied: nvidia-cufft-cu12==11.0.2.54 in /home/cschroeder/.pyenv/versions/3.9.18/envs/notebooks/lib/python3.9/site-packages (from torch>=1.6.0->small-text[transformers]) (11.0.2.54)\n",
      "Requirement already satisfied: nvidia-cusparse-cu12==12.1.0.106 in /home/cschroeder/.pyenv/versions/3.9.18/envs/notebooks/lib/python3.9/site-packages (from torch>=1.6.0->small-text[transformers]) (12.1.0.106)\n",
      "Requirement already satisfied: nvidia-curand-cu12==10.3.2.106 in /home/cschroeder/.pyenv/versions/3.9.18/envs/notebooks/lib/python3.9/site-packages (from torch>=1.6.0->small-text[transformers]) (10.3.2.106)\n",
      "Requirement already satisfied: nvidia-nvtx-cu12==12.1.105 in /home/cschroeder/.pyenv/versions/3.9.18/envs/notebooks/lib/python3.9/site-packages (from torch>=1.6.0->small-text[transformers]) (12.1.105)\n",
      "Requirement already satisfied: nvidia-nccl-cu12==2.20.5 in /home/cschroeder/.pyenv/versions/3.9.18/envs/notebooks/lib/python3.9/site-packages (from torch>=1.6.0->small-text[transformers]) (2.20.5)\n",
      "Requirement already satisfied: nvidia-nvjitlink-cu12 in /home/cschroeder/.pyenv/versions/3.9.18/envs/notebooks/lib/python3.9/site-packages (from nvidia-cusolver-cu12==11.4.5.107->torch>=1.6.0->small-text[transformers]) (12.5.40)\n",
      "Requirement already satisfied: requests in /home/cschroeder/.pyenv/versions/3.9.18/envs/notebooks/lib/python3.9/site-packages (from transformers>=4.0.0->small-text[transformers]) (2.32.1)\n",
      "Requirement already satisfied: pyyaml>=5.1 in /home/cschroeder/.pyenv/versions/3.9.18/envs/notebooks/lib/python3.9/site-packages (from transformers>=4.0.0->small-text[transformers]) (6.0.1)\n",
      "Requirement already satisfied: regex!=2019.12.17 in /home/cschroeder/.pyenv/versions/3.9.18/envs/notebooks/lib/python3.9/site-packages (from transformers>=4.0.0->small-text[transformers]) (2024.5.15)\n",
      "Requirement already satisfied: safetensors>=0.4.1 in /home/cschroeder/.pyenv/versions/3.9.18/envs/notebooks/lib/python3.9/site-packages (from transformers>=4.0.0->small-text[transformers]) (0.4.3)\n",
      "Requirement already satisfied: MarkupSafe>=2.0 in /home/cschroeder/.pyenv/versions/3.9.18/envs/notebooks/lib/python3.9/site-packages (from jinja2->torch>=1.6.0->small-text[transformers]) (2.1.5)\n",
      "Requirement already satisfied: idna<4,>=2.5 in /home/cschroeder/.pyenv/versions/3.9.18/envs/notebooks/lib/python3.9/site-packages (from requests->transformers>=4.0.0->small-text[transformers]) (3.7)\n",
      "Requirement already satisfied: certifi>=2017.4.17 in /home/cschroeder/.pyenv/versions/3.9.18/envs/notebooks/lib/python3.9/site-packages (from requests->transformers>=4.0.0->small-text[transformers]) (2024.2.2)\n",
      "Requirement already satisfied: charset-normalizer<4,>=2 in /home/cschroeder/.pyenv/versions/3.9.18/envs/notebooks/lib/python3.9/site-packages (from requests->transformers>=4.0.0->small-text[transformers]) (3.3.2)\n",
      "Requirement already satisfied: urllib3<3,>=1.21.1 in /home/cschroeder/.pyenv/versions/3.9.18/envs/notebooks/lib/python3.9/site-packages (from requests->transformers>=4.0.0->small-text[transformers]) (2.2.1)\n",
      "Requirement already satisfied: mpmath>=0.19 in /home/cschroeder/.pyenv/versions/3.9.18/envs/notebooks/lib/python3.9/site-packages (from sympy->torch>=1.6.0->small-text[transformers]) (1.3.0)\n",
      "\n",
      "\u001b[1m[\u001b[0m\u001b[34;49mnotice\u001b[0m\u001b[1;39;49m]\u001b[0m\u001b[39;49m A new release of pip is available: \u001b[0m\u001b[31;49m23.0.1\u001b[0m\u001b[39;49m -> \u001b[0m\u001b[32;49m24.3.1\u001b[0m\n",
      "\u001b[1m[\u001b[0m\u001b[34;49mnotice\u001b[0m\u001b[1;39;49m]\u001b[0m\u001b[39;49m To update, run: \u001b[0m\u001b[32;49mpython3.9 -m pip install --upgrade pip\u001b[0m\n",
      "Note: you may need to restart the kernel to use updated packages.\n",
      "Requirement already satisfied: setfit==1.1.0 in /home/cschroeder/.pyenv/versions/3.9.18/envs/notebooks/lib/python3.9/site-packages (1.1.0)\n",
      "Requirement already satisfied: scikit-learn in /home/cschroeder/.pyenv/versions/3.9.18/envs/notebooks/lib/python3.9/site-packages (from setfit==1.1.0) (1.5.0)\n",
      "Requirement already satisfied: transformers>=4.41.0 in /home/cschroeder/.pyenv/versions/3.9.18/envs/notebooks/lib/python3.9/site-packages (from setfit==1.1.0) (4.44.0)\n",
      "Requirement already satisfied: sentence-transformers[train]>=3 in /home/cschroeder/.pyenv/versions/3.9.18/envs/notebooks/lib/python3.9/site-packages (from setfit==1.1.0) (3.0.1)\n",
      "Requirement already satisfied: packaging in /home/cschroeder/.pyenv/versions/3.9.18/envs/notebooks/lib/python3.9/site-packages (from setfit==1.1.0) (24.1)\n",
      "Requirement already satisfied: datasets>=2.15.0 in /home/cschroeder/.pyenv/versions/3.9.18/envs/notebooks/lib/python3.9/site-packages (from setfit==1.1.0) (2.19.1)\n",
      "Requirement already satisfied: evaluate>=0.3.0 in /home/cschroeder/.pyenv/versions/3.9.18/envs/notebooks/lib/python3.9/site-packages (from setfit==1.1.0) (0.4.2)\n",
      "Requirement already satisfied: huggingface-hub>=0.23.0 in /home/cschroeder/.pyenv/versions/3.9.18/envs/notebooks/lib/python3.9/site-packages (from setfit==1.1.0) (0.24.5)\n",
      "Requirement already satisfied: multiprocess in /home/cschroeder/.pyenv/versions/3.9.18/envs/notebooks/lib/python3.9/site-packages (from datasets>=2.15.0->setfit==1.1.0) (0.70.16)\n",
      "Requirement already satisfied: pandas in /home/cschroeder/.pyenv/versions/3.9.18/envs/notebooks/lib/python3.9/site-packages (from datasets>=2.15.0->setfit==1.1.0) (2.2.2)\n",
      "Requirement already satisfied: numpy>=1.17 in /home/cschroeder/.pyenv/versions/3.9.18/envs/notebooks/lib/python3.9/site-packages (from datasets>=2.15.0->setfit==1.1.0) (1.26.4)\n",
      "Requirement already satisfied: tqdm>=4.62.1 in /home/cschroeder/.pyenv/versions/3.9.18/envs/notebooks/lib/python3.9/site-packages (from datasets>=2.15.0->setfit==1.1.0) (4.66.4)\n",
      "Requirement already satisfied: pyarrow>=12.0.0 in /home/cschroeder/.pyenv/versions/3.9.18/envs/notebooks/lib/python3.9/site-packages (from datasets>=2.15.0->setfit==1.1.0) (16.1.0)\n",
      "Requirement already satisfied: pyarrow-hotfix in /home/cschroeder/.pyenv/versions/3.9.18/envs/notebooks/lib/python3.9/site-packages (from datasets>=2.15.0->setfit==1.1.0) (0.6)\n",
      "Requirement already satisfied: fsspec[http]<=2024.3.1,>=2023.1.0 in /home/cschroeder/.pyenv/versions/3.9.18/envs/notebooks/lib/python3.9/site-packages (from datasets>=2.15.0->setfit==1.1.0) (2024.3.1)\n",
      "Requirement already satisfied: requests>=2.19.0 in /home/cschroeder/.pyenv/versions/3.9.18/envs/notebooks/lib/python3.9/site-packages (from datasets>=2.15.0->setfit==1.1.0) (2.32.1)\n",
      "Requirement already satisfied: xxhash in /home/cschroeder/.pyenv/versions/3.9.18/envs/notebooks/lib/python3.9/site-packages (from datasets>=2.15.0->setfit==1.1.0) (3.4.1)\n",
      "Requirement already satisfied: filelock in /home/cschroeder/.pyenv/versions/3.9.18/envs/notebooks/lib/python3.9/site-packages (from datasets>=2.15.0->setfit==1.1.0) (3.14.0)\n",
      "Requirement already satisfied: aiohttp in /home/cschroeder/.pyenv/versions/3.9.18/envs/notebooks/lib/python3.9/site-packages (from datasets>=2.15.0->setfit==1.1.0) (3.9.5)\n",
      "Requirement already satisfied: dill<0.3.9,>=0.3.0 in /home/cschroeder/.pyenv/versions/3.9.18/envs/notebooks/lib/python3.9/site-packages (from datasets>=2.15.0->setfit==1.1.0) (0.3.8)\n",
      "Requirement already satisfied: pyyaml>=5.1 in /home/cschroeder/.pyenv/versions/3.9.18/envs/notebooks/lib/python3.9/site-packages (from datasets>=2.15.0->setfit==1.1.0) (6.0.1)\n",
      "Requirement already satisfied: typing-extensions>=3.7.4.3 in /home/cschroeder/.pyenv/versions/3.9.18/envs/notebooks/lib/python3.9/site-packages (from huggingface-hub>=0.23.0->setfit==1.1.0) (4.11.0)\n",
      "Requirement already satisfied: torch>=1.11.0 in /home/cschroeder/.pyenv/versions/3.9.18/envs/notebooks/lib/python3.9/site-packages (from sentence-transformers[train]>=3->setfit==1.1.0) (2.3.0)\n",
      "Requirement already satisfied: Pillow in /home/cschroeder/.pyenv/versions/3.9.18/envs/notebooks/lib/python3.9/site-packages (from sentence-transformers[train]>=3->setfit==1.1.0) (10.4.0)\n",
      "Requirement already satisfied: scipy in /home/cschroeder/.pyenv/versions/3.9.18/envs/notebooks/lib/python3.9/site-packages (from sentence-transformers[train]>=3->setfit==1.1.0) (1.13.1)\n",
      "Requirement already satisfied: accelerate>=0.20.3 in /home/cschroeder/.pyenv/versions/3.9.18/envs/notebooks/lib/python3.9/site-packages (from sentence-transformers[train]>=3->setfit==1.1.0) (0.33.0)\n",
      "Requirement already satisfied: tokenizers<0.20,>=0.19 in /home/cschroeder/.pyenv/versions/3.9.18/envs/notebooks/lib/python3.9/site-packages (from transformers>=4.41.0->setfit==1.1.0) (0.19.1)\n",
      "Requirement already satisfied: regex!=2019.12.17 in /home/cschroeder/.pyenv/versions/3.9.18/envs/notebooks/lib/python3.9/site-packages (from transformers>=4.41.0->setfit==1.1.0) (2024.5.15)\n",
      "Requirement already satisfied: safetensors>=0.4.1 in /home/cschroeder/.pyenv/versions/3.9.18/envs/notebooks/lib/python3.9/site-packages (from transformers>=4.41.0->setfit==1.1.0) (0.4.3)\n",
      "Requirement already satisfied: threadpoolctl>=3.1.0 in /home/cschroeder/.pyenv/versions/3.9.18/envs/notebooks/lib/python3.9/site-packages (from scikit-learn->setfit==1.1.0) (3.5.0)\n",
      "Requirement already satisfied: joblib>=1.2.0 in /home/cschroeder/.pyenv/versions/3.9.18/envs/notebooks/lib/python3.9/site-packages (from scikit-learn->setfit==1.1.0) (1.4.2)\n",
      "Requirement already satisfied: psutil in /home/cschroeder/.pyenv/versions/3.9.18/envs/notebooks/lib/python3.9/site-packages (from accelerate>=0.20.3->sentence-transformers[train]>=3->setfit==1.1.0) (5.9.8)\n",
      "Requirement already satisfied: yarl<2.0,>=1.0 in /home/cschroeder/.pyenv/versions/3.9.18/envs/notebooks/lib/python3.9/site-packages (from aiohttp->datasets>=2.15.0->setfit==1.1.0) (1.9.4)\n",
      "Requirement already satisfied: async-timeout<5.0,>=4.0 in /home/cschroeder/.pyenv/versions/3.9.18/envs/notebooks/lib/python3.9/site-packages (from aiohttp->datasets>=2.15.0->setfit==1.1.0) (4.0.3)\n",
      "Requirement already satisfied: frozenlist>=1.1.1 in /home/cschroeder/.pyenv/versions/3.9.18/envs/notebooks/lib/python3.9/site-packages (from aiohttp->datasets>=2.15.0->setfit==1.1.0) (1.4.1)\n",
      "Requirement already satisfied: attrs>=17.3.0 in /home/cschroeder/.pyenv/versions/3.9.18/envs/notebooks/lib/python3.9/site-packages (from aiohttp->datasets>=2.15.0->setfit==1.1.0) (23.2.0)\n",
      "Requirement already satisfied: aiosignal>=1.1.2 in /home/cschroeder/.pyenv/versions/3.9.18/envs/notebooks/lib/python3.9/site-packages (from aiohttp->datasets>=2.15.0->setfit==1.1.0) (1.3.1)\n",
      "Requirement already satisfied: multidict<7.0,>=4.5 in /home/cschroeder/.pyenv/versions/3.9.18/envs/notebooks/lib/python3.9/site-packages (from aiohttp->datasets>=2.15.0->setfit==1.1.0) (6.0.5)\n",
      "Requirement already satisfied: charset-normalizer<4,>=2 in /home/cschroeder/.pyenv/versions/3.9.18/envs/notebooks/lib/python3.9/site-packages (from requests>=2.19.0->datasets>=2.15.0->setfit==1.1.0) (3.3.2)\n",
      "Requirement already satisfied: urllib3<3,>=1.21.1 in /home/cschroeder/.pyenv/versions/3.9.18/envs/notebooks/lib/python3.9/site-packages (from requests>=2.19.0->datasets>=2.15.0->setfit==1.1.0) (2.2.1)\n",
      "Requirement already satisfied: certifi>=2017.4.17 in /home/cschroeder/.pyenv/versions/3.9.18/envs/notebooks/lib/python3.9/site-packages (from requests>=2.19.0->datasets>=2.15.0->setfit==1.1.0) (2024.2.2)\n",
      "Requirement already satisfied: idna<4,>=2.5 in /home/cschroeder/.pyenv/versions/3.9.18/envs/notebooks/lib/python3.9/site-packages (from requests>=2.19.0->datasets>=2.15.0->setfit==1.1.0) (3.7)\n",
      "Requirement already satisfied: nvidia-cuda-nvrtc-cu12==12.1.105 in /home/cschroeder/.pyenv/versions/3.9.18/envs/notebooks/lib/python3.9/site-packages (from torch>=1.11.0->sentence-transformers[train]>=3->setfit==1.1.0) (12.1.105)\n",
      "Requirement already satisfied: networkx in /home/cschroeder/.pyenv/versions/3.9.18/envs/notebooks/lib/python3.9/site-packages (from torch>=1.11.0->sentence-transformers[train]>=3->setfit==1.1.0) (3.2.1)\n",
      "Requirement already satisfied: nvidia-cusolver-cu12==11.4.5.107 in /home/cschroeder/.pyenv/versions/3.9.18/envs/notebooks/lib/python3.9/site-packages (from torch>=1.11.0->sentence-transformers[train]>=3->setfit==1.1.0) (11.4.5.107)\n",
      "Requirement already satisfied: nvidia-cudnn-cu12==8.9.2.26 in /home/cschroeder/.pyenv/versions/3.9.18/envs/notebooks/lib/python3.9/site-packages (from torch>=1.11.0->sentence-transformers[train]>=3->setfit==1.1.0) (8.9.2.26)\n",
      "Requirement already satisfied: nvidia-cufft-cu12==11.0.2.54 in /home/cschroeder/.pyenv/versions/3.9.18/envs/notebooks/lib/python3.9/site-packages (from torch>=1.11.0->sentence-transformers[train]>=3->setfit==1.1.0) (11.0.2.54)\n",
      "Requirement already satisfied: nvidia-cublas-cu12==12.1.3.1 in /home/cschroeder/.pyenv/versions/3.9.18/envs/notebooks/lib/python3.9/site-packages (from torch>=1.11.0->sentence-transformers[train]>=3->setfit==1.1.0) (12.1.3.1)\n",
      "Requirement already satisfied: nvidia-curand-cu12==10.3.2.106 in /home/cschroeder/.pyenv/versions/3.9.18/envs/notebooks/lib/python3.9/site-packages (from torch>=1.11.0->sentence-transformers[train]>=3->setfit==1.1.0) (10.3.2.106)\n",
      "Requirement already satisfied: nvidia-cusparse-cu12==12.1.0.106 in /home/cschroeder/.pyenv/versions/3.9.18/envs/notebooks/lib/python3.9/site-packages (from torch>=1.11.0->sentence-transformers[train]>=3->setfit==1.1.0) (12.1.0.106)\n",
      "Requirement already satisfied: sympy in /home/cschroeder/.pyenv/versions/3.9.18/envs/notebooks/lib/python3.9/site-packages (from torch>=1.11.0->sentence-transformers[train]>=3->setfit==1.1.0) (1.12)\n",
      "Requirement already satisfied: nvidia-nccl-cu12==2.20.5 in /home/cschroeder/.pyenv/versions/3.9.18/envs/notebooks/lib/python3.9/site-packages (from torch>=1.11.0->sentence-transformers[train]>=3->setfit==1.1.0) (2.20.5)\n",
      "Requirement already satisfied: triton==2.3.0 in /home/cschroeder/.pyenv/versions/3.9.18/envs/notebooks/lib/python3.9/site-packages (from torch>=1.11.0->sentence-transformers[train]>=3->setfit==1.1.0) (2.3.0)\n",
      "Requirement already satisfied: jinja2 in /home/cschroeder/.pyenv/versions/3.9.18/envs/notebooks/lib/python3.9/site-packages (from torch>=1.11.0->sentence-transformers[train]>=3->setfit==1.1.0) (3.1.4)\n",
      "Requirement already satisfied: nvidia-cuda-runtime-cu12==12.1.105 in /home/cschroeder/.pyenv/versions/3.9.18/envs/notebooks/lib/python3.9/site-packages (from torch>=1.11.0->sentence-transformers[train]>=3->setfit==1.1.0) (12.1.105)\n",
      "Requirement already satisfied: nvidia-cuda-cupti-cu12==12.1.105 in /home/cschroeder/.pyenv/versions/3.9.18/envs/notebooks/lib/python3.9/site-packages (from torch>=1.11.0->sentence-transformers[train]>=3->setfit==1.1.0) (12.1.105)\n",
      "Requirement already satisfied: nvidia-nvtx-cu12==12.1.105 in /home/cschroeder/.pyenv/versions/3.9.18/envs/notebooks/lib/python3.9/site-packages (from torch>=1.11.0->sentence-transformers[train]>=3->setfit==1.1.0) (12.1.105)\n",
      "Requirement already satisfied: nvidia-nvjitlink-cu12 in /home/cschroeder/.pyenv/versions/3.9.18/envs/notebooks/lib/python3.9/site-packages (from nvidia-cusolver-cu12==11.4.5.107->torch>=1.11.0->sentence-transformers[train]>=3->setfit==1.1.0) (12.5.40)\n",
      "Requirement already satisfied: python-dateutil>=2.8.2 in /home/cschroeder/.pyenv/versions/3.9.18/envs/notebooks/lib/python3.9/site-packages (from pandas->datasets>=2.15.0->setfit==1.1.0) (2.9.0.post0)\n",
      "Requirement already satisfied: pytz>=2020.1 in /home/cschroeder/.pyenv/versions/3.9.18/envs/notebooks/lib/python3.9/site-packages (from pandas->datasets>=2.15.0->setfit==1.1.0) (2024.1)\n",
      "Requirement already satisfied: tzdata>=2022.7 in /home/cschroeder/.pyenv/versions/3.9.18/envs/notebooks/lib/python3.9/site-packages (from pandas->datasets>=2.15.0->setfit==1.1.0) (2024.1)\n",
      "Requirement already satisfied: six>=1.5 in /home/cschroeder/.pyenv/versions/3.9.18/envs/notebooks/lib/python3.9/site-packages (from python-dateutil>=2.8.2->pandas->datasets>=2.15.0->setfit==1.1.0) (1.16.0)\n",
      "Requirement already satisfied: MarkupSafe>=2.0 in /home/cschroeder/.pyenv/versions/3.9.18/envs/notebooks/lib/python3.9/site-packages (from jinja2->torch>=1.11.0->sentence-transformers[train]>=3->setfit==1.1.0) (2.1.5)\n",
      "Requirement already satisfied: mpmath>=0.19 in /home/cschroeder/.pyenv/versions/3.9.18/envs/notebooks/lib/python3.9/site-packages (from sympy->torch>=1.11.0->sentence-transformers[train]>=3->setfit==1.1.0) (1.3.0)\n",
      "\n",
      "\u001b[1m[\u001b[0m\u001b[34;49mnotice\u001b[0m\u001b[1;39;49m]\u001b[0m\u001b[39;49m A new release of pip is available: \u001b[0m\u001b[31;49m23.0.1\u001b[0m\u001b[39;49m -> \u001b[0m\u001b[32;49m24.3.1\u001b[0m\n",
      "\u001b[1m[\u001b[0m\u001b[34;49mnotice\u001b[0m\u001b[1;39;49m]\u001b[0m\u001b[39;49m To update, run: \u001b[0m\u001b[32;49mpython3.9 -m pip install --upgrade pip\u001b[0m\n",
      "Note: you may need to restart the kernel to use updated packages.\n",
      "Requirement already satisfied: datasets in /home/cschroeder/.pyenv/versions/3.9.18/envs/notebooks/lib/python3.9/site-packages (2.19.1)\n",
      "Requirement already satisfied: tqdm>=4.62.1 in /home/cschroeder/.pyenv/versions/3.9.18/envs/notebooks/lib/python3.9/site-packages (from datasets) (4.66.4)\n",
      "Requirement already satisfied: aiohttp in /home/cschroeder/.pyenv/versions/3.9.18/envs/notebooks/lib/python3.9/site-packages (from datasets) (3.9.5)\n",
      "Requirement already satisfied: xxhash in /home/cschroeder/.pyenv/versions/3.9.18/envs/notebooks/lib/python3.9/site-packages (from datasets) (3.4.1)\n",
      "Requirement already satisfied: fsspec[http]<=2024.3.1,>=2023.1.0 in /home/cschroeder/.pyenv/versions/3.9.18/envs/notebooks/lib/python3.9/site-packages (from datasets) (2024.3.1)\n",
      "Requirement already satisfied: pyarrow-hotfix in /home/cschroeder/.pyenv/versions/3.9.18/envs/notebooks/lib/python3.9/site-packages (from datasets) (0.6)\n",
      "Requirement already satisfied: pyyaml>=5.1 in /home/cschroeder/.pyenv/versions/3.9.18/envs/notebooks/lib/python3.9/site-packages (from datasets) (6.0.1)\n",
      "Requirement already satisfied: requests>=2.19.0 in /home/cschroeder/.pyenv/versions/3.9.18/envs/notebooks/lib/python3.9/site-packages (from datasets) (2.32.1)\n",
      "Requirement already satisfied: multiprocess in /home/cschroeder/.pyenv/versions/3.9.18/envs/notebooks/lib/python3.9/site-packages (from datasets) (0.70.16)\n",
      "Requirement already satisfied: dill<0.3.9,>=0.3.0 in /home/cschroeder/.pyenv/versions/3.9.18/envs/notebooks/lib/python3.9/site-packages (from datasets) (0.3.8)\n",
      "Requirement already satisfied: pyarrow>=12.0.0 in /home/cschroeder/.pyenv/versions/3.9.18/envs/notebooks/lib/python3.9/site-packages (from datasets) (16.1.0)\n",
      "Requirement already satisfied: packaging in /home/cschroeder/.pyenv/versions/3.9.18/envs/notebooks/lib/python3.9/site-packages (from datasets) (24.1)\n",
      "Requirement already satisfied: pandas in /home/cschroeder/.pyenv/versions/3.9.18/envs/notebooks/lib/python3.9/site-packages (from datasets) (2.2.2)\n",
      "Requirement already satisfied: filelock in /home/cschroeder/.pyenv/versions/3.9.18/envs/notebooks/lib/python3.9/site-packages (from datasets) (3.14.0)\n",
      "Requirement already satisfied: huggingface-hub>=0.21.2 in /home/cschroeder/.pyenv/versions/3.9.18/envs/notebooks/lib/python3.9/site-packages (from datasets) (0.24.5)\n",
      "Requirement already satisfied: numpy>=1.17 in /home/cschroeder/.pyenv/versions/3.9.18/envs/notebooks/lib/python3.9/site-packages (from datasets) (1.26.4)\n",
      "Requirement already satisfied: frozenlist>=1.1.1 in /home/cschroeder/.pyenv/versions/3.9.18/envs/notebooks/lib/python3.9/site-packages (from aiohttp->datasets) (1.4.1)\n",
      "Requirement already satisfied: attrs>=17.3.0 in /home/cschroeder/.pyenv/versions/3.9.18/envs/notebooks/lib/python3.9/site-packages (from aiohttp->datasets) (23.2.0)\n",
      "Requirement already satisfied: yarl<2.0,>=1.0 in /home/cschroeder/.pyenv/versions/3.9.18/envs/notebooks/lib/python3.9/site-packages (from aiohttp->datasets) (1.9.4)\n",
      "Requirement already satisfied: multidict<7.0,>=4.5 in /home/cschroeder/.pyenv/versions/3.9.18/envs/notebooks/lib/python3.9/site-packages (from aiohttp->datasets) (6.0.5)\n",
      "Requirement already satisfied: aiosignal>=1.1.2 in /home/cschroeder/.pyenv/versions/3.9.18/envs/notebooks/lib/python3.9/site-packages (from aiohttp->datasets) (1.3.1)\n",
      "Requirement already satisfied: async-timeout<5.0,>=4.0 in /home/cschroeder/.pyenv/versions/3.9.18/envs/notebooks/lib/python3.9/site-packages (from aiohttp->datasets) (4.0.3)\n",
      "Requirement already satisfied: typing-extensions>=3.7.4.3 in /home/cschroeder/.pyenv/versions/3.9.18/envs/notebooks/lib/python3.9/site-packages (from huggingface-hub>=0.21.2->datasets) (4.11.0)\n",
      "Requirement already satisfied: urllib3<3,>=1.21.1 in /home/cschroeder/.pyenv/versions/3.9.18/envs/notebooks/lib/python3.9/site-packages (from requests>=2.19.0->datasets) (2.2.1)\n",
      "Requirement already satisfied: certifi>=2017.4.17 in /home/cschroeder/.pyenv/versions/3.9.18/envs/notebooks/lib/python3.9/site-packages (from requests>=2.19.0->datasets) (2024.2.2)\n",
      "Requirement already satisfied: charset-normalizer<4,>=2 in /home/cschroeder/.pyenv/versions/3.9.18/envs/notebooks/lib/python3.9/site-packages (from requests>=2.19.0->datasets) (3.3.2)\n",
      "Requirement already satisfied: idna<4,>=2.5 in /home/cschroeder/.pyenv/versions/3.9.18/envs/notebooks/lib/python3.9/site-packages (from requests>=2.19.0->datasets) (3.7)\n",
      "Requirement already satisfied: tzdata>=2022.7 in /home/cschroeder/.pyenv/versions/3.9.18/envs/notebooks/lib/python3.9/site-packages (from pandas->datasets) (2024.1)\n",
      "Requirement already satisfied: pytz>=2020.1 in /home/cschroeder/.pyenv/versions/3.9.18/envs/notebooks/lib/python3.9/site-packages (from pandas->datasets) (2024.1)\n",
      "Requirement already satisfied: python-dateutil>=2.8.2 in /home/cschroeder/.pyenv/versions/3.9.18/envs/notebooks/lib/python3.9/site-packages (from pandas->datasets) (2.9.0.post0)\n",
      "Requirement already satisfied: six>=1.5 in /home/cschroeder/.pyenv/versions/3.9.18/envs/notebooks/lib/python3.9/site-packages (from python-dateutil>=2.8.2->pandas->datasets) (1.16.0)\n",
      "\n",
      "\u001b[1m[\u001b[0m\u001b[34;49mnotice\u001b[0m\u001b[1;39;49m]\u001b[0m\u001b[39;49m A new release of pip is available: \u001b[0m\u001b[31;49m23.0.1\u001b[0m\u001b[39;49m -> \u001b[0m\u001b[32;49m24.3.1\u001b[0m\n",
      "\u001b[1m[\u001b[0m\u001b[34;49mnotice\u001b[0m\u001b[1;39;49m]\u001b[0m\u001b[39;49m To update, run: \u001b[0m\u001b[32;49mpython3.9 -m pip install --upgrade pip\u001b[0m\n",
      "Note: you may need to restart the kernel to use updated packages.\n",
      "Requirement already satisfied: matplotlib in /home/cschroeder/.pyenv/versions/3.9.18/envs/notebooks/lib/python3.9/site-packages (3.9.0)\n",
      "Requirement already satisfied: contourpy>=1.0.1 in /home/cschroeder/.pyenv/versions/3.9.18/envs/notebooks/lib/python3.9/site-packages (from matplotlib) (1.2.1)\n",
      "Requirement already satisfied: kiwisolver>=1.3.1 in /home/cschroeder/.pyenv/versions/3.9.18/envs/notebooks/lib/python3.9/site-packages (from matplotlib) (1.4.5)\n",
      "Requirement already satisfied: pillow>=8 in /home/cschroeder/.pyenv/versions/3.9.18/envs/notebooks/lib/python3.9/site-packages (from matplotlib) (10.4.0)\n",
      "Requirement already satisfied: pyparsing>=2.3.1 in /home/cschroeder/.pyenv/versions/3.9.18/envs/notebooks/lib/python3.9/site-packages (from matplotlib) (3.1.2)\n",
      "Requirement already satisfied: numpy>=1.23 in /home/cschroeder/.pyenv/versions/3.9.18/envs/notebooks/lib/python3.9/site-packages (from matplotlib) (1.26.4)\n",
      "Requirement already satisfied: cycler>=0.10 in /home/cschroeder/.pyenv/versions/3.9.18/envs/notebooks/lib/python3.9/site-packages (from matplotlib) (0.12.1)\n",
      "Requirement already satisfied: python-dateutil>=2.7 in /home/cschroeder/.pyenv/versions/3.9.18/envs/notebooks/lib/python3.9/site-packages (from matplotlib) (2.9.0.post0)\n",
      "Requirement already satisfied: packaging>=20.0 in /home/cschroeder/.pyenv/versions/3.9.18/envs/notebooks/lib/python3.9/site-packages (from matplotlib) (24.1)\n",
      "Requirement already satisfied: fonttools>=4.22.0 in /home/cschroeder/.pyenv/versions/3.9.18/envs/notebooks/lib/python3.9/site-packages (from matplotlib) (4.53.1)\n",
      "Requirement already satisfied: importlib-resources>=3.2.0 in /home/cschroeder/.pyenv/versions/3.9.18/envs/notebooks/lib/python3.9/site-packages (from matplotlib) (6.4.2)\n",
      "Requirement already satisfied: zipp>=3.1.0 in /home/cschroeder/.pyenv/versions/3.9.18/envs/notebooks/lib/python3.9/site-packages (from importlib-resources>=3.2.0->matplotlib) (3.20.0)\n",
      "Requirement already satisfied: six>=1.5 in /home/cschroeder/.pyenv/versions/3.9.18/envs/notebooks/lib/python3.9/site-packages (from python-dateutil>=2.7->matplotlib) (1.16.0)\n",
      "\n",
      "\u001b[1m[\u001b[0m\u001b[34;49mnotice\u001b[0m\u001b[1;39;49m]\u001b[0m\u001b[39;49m A new release of pip is available: \u001b[0m\u001b[31;49m23.0.1\u001b[0m\u001b[39;49m -> \u001b[0m\u001b[32;49m24.3.1\u001b[0m\n",
      "\u001b[1m[\u001b[0m\u001b[34;49mnotice\u001b[0m\u001b[1;39;49m]\u001b[0m\u001b[39;49m To update, run: \u001b[0m\u001b[32;49mpython3.9 -m pip install --upgrade pip\u001b[0m\n",
      "Note: you may need to restart the kernel to use updated packages.\n",
      "env: TOKENIZERS_PARALLELISM=false\n"
     ]
    }
   ],
   "source": [
    "%pip install small-text[transformers]==2.0.0dev2\n",
    "\n",
    "# setfit is used as an optional dependency here\n",
    "%pip install setfit==1.1.0\n",
    "%pip install datasets\n",
    "%pip install matplotlib\n",
    "\n",
    "import logging\n",
    "import warnings\n",
    "\n",
    "import datasets\n",
    "\n",
    "import matplotlib.pyplot as plt\n",
    "\n",
    "plt.rc('figure', titlesize=22)\n",
    "plt.rc('axes', titlesize=22, labelsize=20, linewidth=1.2)\n",
    "plt.rc('xtick', labelsize=14)\n",
    "plt.rc('ytick', labelsize=14)\n",
    "plt.rc('legend', fontsize=16)\n",
    "plt.rc('lines', linewidth=2)\n",
    "\n",
    "datasets.logging.set_verbosity_error()\n",
    "\n",
    "# disables the progress bar for notebooks: https://github.com/huggingface/datasets/issues/2651\n",
    "datasets.logging.get_verbosity = lambda: logging.NOTSET\n",
    "\n",
    "for logger_name in ['setfit.modeling', 'setfit.trainer']:\n",
    "    logger = logging.getLogger(logger_name)\n",
    "    logger.setLevel(logging.ERROR)\n",
    "\n",
    "%env TOKENIZERS_PARALLELISM=false"
   ]
  },
  {
   "cell_type": "markdown",
   "id": "bdf5fd19",
   "metadata": {},
   "source": [
    "<a id=\"nb3-part2-data\"></a>\n",
    "## II. Data\n",
    "\n",
    "We use the \"AG's News\" dataset for this demonstration. It consists of news articles which are categorized into four mutually exclusive classes."
   ]
  },
  {
   "cell_type": "code",
   "execution_count": 2,
   "id": "754e5b56",
   "metadata": {},
   "outputs": [
    {
     "name": "stdout",
     "output_type": "stream",
     "text": [
      "First 10 training samples:\n",
      "\n",
      "2   Wall St. Bears Claw Back Into the Black (Reuters) Reuters - Short-sellers, Wall Street's dwindling\\band of ultra-cynics, are seeing green again.\n",
      "2   Carlyle Looks Toward Commercial Aerospace (Reuters) Reuters - Private investment firm Carlyle Group,\\which has a reputation for making well-timed and occasionally\\controversial plays in the defense industry, has quietly placed\\its bets on another part of the market.\n",
      "2   Oil and Economy Cloud Stocks' Outlook (Reuters) Reuters - Soaring crude prices plus worries\\about the economy and the outlook for earnings are expected to\\hang over the stock market next week during the depth of the\\summer doldrums.\n",
      "2   Iraq Halts Oil Exports from Main Southern Pipeline (Reuters) Reuters - Authorities have halted oil export\\flows from the main pipeline in southern Iraq after\\intelligence showed a rebel militia could strike\\infrastructure, an oil official said on Saturday.\n",
      "2   Oil prices soar to all-time record, posing new menace to US economy (AFP) AFP - Tearaway world oil prices, toppling records and straining wallets, present a new economic menace barely three months before the US presidential elections.\n",
      "2   Stocks End Up, But Near Year Lows (Reuters) Reuters - Stocks ended slightly higher on Friday\\but stayed near lows for the year as oil prices surged past  #36;46\\a barrel, offsetting a positive outlook from computer maker\\Dell Inc. (DELL.O)\n",
      "2   Money Funds Fell in Latest Week (AP) AP - Assets of the nation's retail money market mutual funds fell by  #36;1.17 billion in the latest week to  #36;849.98 trillion, the Investment Company Institute said Thursday.\n",
      "2   Fed minutes show dissent over inflation (USATODAY.com) USATODAY.com - Retail sales bounced back a bit in July, and new claims for jobless benefits fell last week, the government said Thursday, indicating the economy is improving from a midsummer slump.\n",
      "2   Safety Net (Forbes.com) Forbes.com - After earning a PH.D. in Sociology, Danny Bazil Riley started to work as the general manager at a commercial real estate firm at an annual base salary of  #36;70,000. Soon after, a financial planner stopped by his desk to drop off brochures about insurance benefits available through his employer. But, at 32, \"buying insurance was the furthest thing from my mind,\" says Riley.\n",
      "2   Wall St. Bears Claw Back Into the Black  NEW YORK (Reuters) - Short-sellers, Wall Street's dwindling  band of ultra-cynics, are seeing green again.\n"
     ]
    }
   ],
   "source": [
    "import datasets\n",
    "import logging\n",
    "import numpy as np\n",
    "\n",
    "\n",
    "# disables the progress bar for notebooks: https://github.com/huggingface/datasets/issues/2651\n",
    "datasets.logging.get_verbosity = lambda: logging.NOTSET\n",
    "\n",
    "raw_dataset = datasets.load_dataset('ag_news')\n",
    "num_classes = np.unique(raw_dataset['train']['label']).shape[0]\n",
    "\n",
    "print('First 10 training samples:\\n')\n",
    "for i in range(10):\n",
    "    print(raw_dataset['train']['label'][i], ' ', raw_dataset['train']['text'][i])"
   ]
  },
  {
   "cell_type": "markdown",
   "id": "1742f7d7",
   "metadata": {},
   "source": [
    "### Preparing the Data\n",
    "\n",
    "The SetFit Classifier uses the `TextData` structure as input. Such datasets can be easily created from raw text and labels using `TextDataset.from_arrays()`."
   ]
  },
  {
   "cell_type": "code",
   "execution_count": 3,
   "id": "be151ce8",
   "metadata": {},
   "outputs": [],
   "source": [
    "import numpy as np\n",
    "from small_text import TextDataset\n",
    "\n",
    "num_classes = raw_dataset['train'].features['label'].num_classes\n",
    "\n",
    "target_labels = np.arange(num_classes)\n",
    "\n",
    "train = TextDataset.from_arrays(raw_dataset['train']['text'], np.array(raw_dataset['train']['label']), target_labels=target_labels)\n",
    "test = TextDataset.from_arrays(raw_dataset['test']['text'], np.array(raw_dataset['test']['label']), target_labels=target_labels)"
   ]
  },
  {
   "cell_type": "markdown",
   "id": "3db26811",
   "metadata": {},
   "source": [
    "<a id=\"nb3-part3-active-learning\"></a>\n",
    "## III. Active Learning \n",
    "\n",
    "### Configuring the Classifier"
   ]
  },
  {
   "cell_type": "code",
   "execution_count": 4,
   "id": "2184e4b7",
   "metadata": {},
   "outputs": [],
   "source": [
    "from small_text.integrations.transformers.classifiers.setfit import SetFitModelArguments\n",
    "from small_text.integrations.transformers.classifiers.factories import SetFitClassificationFactory\n",
    "\n",
    "\n",
    "num_classes = 4\n",
    "\n",
    "sentence_transformer_model_name = 'sentence-transformers/paraphrase-mpnet-base-v2'\n",
    "setfit_model_args = SetFitModelArguments(sentence_transformer_model_name)\n",
    "clf_factory = SetFitClassificationFactory(setfit_model_args, num_classes)"
   ]
  },
  {
   "cell_type": "markdown",
   "id": "017ebf3d",
   "metadata": {},
   "source": [
    "### Setting up the Active Learner\n",
    "\n",
    "Here, we construct a `PoolBasedActiveLearner` instance which requires a classifier factory, a query strategy, and the train dataset.\n",
    "\n",
    "To obtain a first model, we initialize the active learner by providing the true labels for 20 sentences. This corresponds to an initial labeling the real-world setting."
   ]
  },
  {
   "cell_type": "code",
   "execution_count": 5,
   "id": "66774521",
   "metadata": {},
   "outputs": [
    {
     "name": "stderr",
     "output_type": "stream",
     "text": [
      "/home/cschroeder/.pyenv/versions/3.9.18/envs/notebooks/lib/python3.9/site-packages/transformers/tokenization_utils_base.py:1601: FutureWarning: `clean_up_tokenization_spaces` was not set. It will be set to `True` by default. This behavior will be depracted in transformers v4.45, and will be then set to `False` by default. For more details check this issue: https://github.com/huggingface/transformers/issues/31884\n",
      "  warnings.warn(\n",
      "/home/cschroeder/.pyenv/versions/3.9.18/envs/notebooks/lib/python3.9/site-packages/small_text/integrations/transformers/classifiers/setfit.py:262: DeprecationWarning: `SetFitTrainer` has been deprecated and will be removed in v2.0.0 of SetFit. Please use `Trainer` instead.\n",
      "  trainer = SetFitTrainer(\n"
     ]
    },
    {
     "data": {
      "application/vnd.jupyter.widget-view+json": {
       "model_id": "39d37893373f467caf15d537aef44aa3",
       "version_major": 2,
       "version_minor": 0
      },
      "text/plain": [
       "Map:   0%|          | 0/20 [00:00<?, ? examples/s]"
      ]
     },
     "metadata": {},
     "output_type": "display_data"
    },
    {
     "name": "stderr",
     "output_type": "stream",
     "text": [
      "/home/cschroeder/.pyenv/versions/3.9.18/envs/notebooks/lib/python3.9/site-packages/small_text/integrations/transformers/classifiers/setfit.py:270: DeprecationWarning: `SetFitTrainer.train` does not accept keyword arguments anymore. Please provide training arguments via a `TrainingArguments` instance to the `SetFitTrainer` initialisation or the `SetFitTrainer.train` method.\n",
      "  trainer.train(max_length=self.max_seq_len, **setfit_train_kwargs)\n"
     ]
    },
    {
     "data": {
      "text/html": [
       "\n",
       "    <div>\n",
       "      \n",
       "      <progress value='25' max='25' style='width:300px; height:20px; vertical-align: middle;'></progress>\n",
       "      [25/25 00:05, Epoch 1/1]\n",
       "    </div>\n",
       "    <table border=\"1\" class=\"dataframe\">\n",
       "  <thead>\n",
       " <tr style=\"text-align: left;\">\n",
       "      <th>Step</th>\n",
       "      <th>Training Loss</th>\n",
       "    </tr>\n",
       "  </thead>\n",
       "  <tbody>\n",
       "    <tr>\n",
       "      <td>1</td>\n",
       "      <td>0.256900</td>\n",
       "    </tr>\n",
       "  </tbody>\n",
       "</table><p>"
      ],
      "text/plain": [
       "<IPython.core.display.HTML object>"
      ]
     },
     "metadata": {},
     "output_type": "display_data"
    },
    {
     "data": {
      "application/vnd.jupyter.widget-view+json": {
       "model_id": "",
       "version_major": 2,
       "version_minor": 0
      },
      "text/plain": [
       "Computing widget examples:   0%|          | 0/1 [00:00<?, ?example/s]"
      ]
     },
     "metadata": {},
     "output_type": "display_data"
    }
   ],
   "source": [
    "from small_text import (\n",
    "    PoolBasedActiveLearner, \n",
    "    random_initialization_balanced,\n",
    "    BreakingTies,\n",
    "    SubsamplingQueryStrategy\n",
    ")\n",
    "\n",
    "# define a query strategy and initialize a pool-based active learner\n",
    "query_strategy = SubsamplingQueryStrategy(BreakingTies())\n",
    "# suppress progress bars in jupyter notebook\n",
    "setfit_train_kwargs = {'show_progress_bar': False}\n",
    "active_learner = PoolBasedActiveLearner(clf_factory, query_strategy, train, fit_kwargs={'setfit_train_kwargs': setfit_train_kwargs})\n",
    "\n",
    "\n",
    "# simulate a warm start\n",
    "def initialize_active_learner(active_learner, y_train):\n",
    "\n",
    "    indices_initial = random_initialization_balanced(y_train, n_samples=20)\n",
    "    active_learner.initialize(indices_initial)\n",
    "\n",
    "    return indices_initial\n",
    "\n",
    "\n",
    "initial_indices = initialize_active_learner(active_learner, train.y)\n",
    "labeled_indices = initial_indices"
   ]
  },
  {
   "cell_type": "markdown",
   "id": "e8888591",
   "metadata": {},
   "source": [
    "### Active Learning Loop\n",
    "\n",
    "The main active learning loop queries the unlabeled pool and thereby decides which documents are labeled next.\n",
    "We then provide the labels for those documents and the active learner retrains the model.\n",
    "After each query, we evaluate the current model against the test set and save the result.\n",
    "\n",
    "\n",
    "Note: This is active learning as it is done in a scientific simulation. In reality, the label feedback would have been given by human annotators."
   ]
  },
  {
   "cell_type": "code",
   "execution_count": 6,
   "id": "aacd866c",
   "metadata": {},
   "outputs": [
    {
     "name": "stdout",
     "output_type": "stream",
     "text": [
      "Train accuracy: 1.00\n",
      "Test accuracy: 0.72\n"
     ]
    },
    {
     "name": "stderr",
     "output_type": "stream",
     "text": [
      "/home/cschroeder/.pyenv/versions/3.9.18/envs/notebooks/lib/python3.9/site-packages/transformers/tokenization_utils_base.py:1601: FutureWarning: `clean_up_tokenization_spaces` was not set. It will be set to `True` by default. This behavior will be depracted in transformers v4.45, and will be then set to `False` by default. For more details check this issue: https://github.com/huggingface/transformers/issues/31884\n",
      "  warnings.warn(\n",
      "/home/cschroeder/.pyenv/versions/3.9.18/envs/notebooks/lib/python3.9/site-packages/small_text/integrations/transformers/classifiers/setfit.py:262: DeprecationWarning: `SetFitTrainer` has been deprecated and will be removed in v2.0.0 of SetFit. Please use `Trainer` instead.\n",
      "  trainer = SetFitTrainer(\n"
     ]
    },
    {
     "data": {
      "application/vnd.jupyter.widget-view+json": {
       "model_id": "d6085512828e4ce3b65c0f99b04af83b",
       "version_major": 2,
       "version_minor": 0
      },
      "text/plain": [
       "Map:   0%|          | 0/40 [00:00<?, ? examples/s]"
      ]
     },
     "metadata": {},
     "output_type": "display_data"
    },
    {
     "name": "stderr",
     "output_type": "stream",
     "text": [
      "/home/cschroeder/.pyenv/versions/3.9.18/envs/notebooks/lib/python3.9/site-packages/small_text/integrations/transformers/classifiers/setfit.py:270: DeprecationWarning: `SetFitTrainer.train` does not accept keyword arguments anymore. Please provide training arguments via a `TrainingArguments` instance to the `SetFitTrainer` initialisation or the `SetFitTrainer.train` method.\n",
      "  trainer.train(max_length=self.max_seq_len, **setfit_train_kwargs)\n"
     ]
    },
    {
     "data": {
      "text/html": [
       "\n",
       "    <div>\n",
       "      \n",
       "      <progress value='50' max='50' style='width:300px; height:20px; vertical-align: middle;'></progress>\n",
       "      [50/50 00:08, Epoch 1/1]\n",
       "    </div>\n",
       "    <table border=\"1\" class=\"dataframe\">\n",
       "  <thead>\n",
       " <tr style=\"text-align: left;\">\n",
       "      <th>Step</th>\n",
       "      <th>Training Loss</th>\n",
       "    </tr>\n",
       "  </thead>\n",
       "  <tbody>\n",
       "    <tr>\n",
       "      <td>1</td>\n",
       "      <td>0.271900</td>\n",
       "    </tr>\n",
       "    <tr>\n",
       "      <td>50</td>\n",
       "      <td>0.172600</td>\n",
       "    </tr>\n",
       "  </tbody>\n",
       "</table><p>"
      ],
      "text/plain": [
       "<IPython.core.display.HTML object>"
      ]
     },
     "metadata": {},
     "output_type": "display_data"
    },
    {
     "data": {
      "application/vnd.jupyter.widget-view+json": {
       "model_id": "",
       "version_major": 2,
       "version_minor": 0
      },
      "text/plain": [
       "Computing widget examples:   0%|          | 0/1 [00:00<?, ?example/s]"
      ]
     },
     "metadata": {},
     "output_type": "display_data"
    },
    {
     "name": "stdout",
     "output_type": "stream",
     "text": [
      "---------------\n",
      "Iteration #0 (40 samples)\n",
      "Train accuracy: 1.00\n",
      "Test accuracy: 0.81\n"
     ]
    },
    {
     "name": "stderr",
     "output_type": "stream",
     "text": [
      "/home/cschroeder/.pyenv/versions/3.9.18/envs/notebooks/lib/python3.9/site-packages/transformers/tokenization_utils_base.py:1601: FutureWarning: `clean_up_tokenization_spaces` was not set. It will be set to `True` by default. This behavior will be depracted in transformers v4.45, and will be then set to `False` by default. For more details check this issue: https://github.com/huggingface/transformers/issues/31884\n",
      "  warnings.warn(\n",
      "/home/cschroeder/.pyenv/versions/3.9.18/envs/notebooks/lib/python3.9/site-packages/small_text/integrations/transformers/classifiers/setfit.py:262: DeprecationWarning: `SetFitTrainer` has been deprecated and will be removed in v2.0.0 of SetFit. Please use `Trainer` instead.\n",
      "  trainer = SetFitTrainer(\n"
     ]
    },
    {
     "data": {
      "application/vnd.jupyter.widget-view+json": {
       "model_id": "0faea7ce8f00433ab2fe4c6c39a27abe",
       "version_major": 2,
       "version_minor": 0
      },
      "text/plain": [
       "Map:   0%|          | 0/60 [00:00<?, ? examples/s]"
      ]
     },
     "metadata": {},
     "output_type": "display_data"
    },
    {
     "name": "stderr",
     "output_type": "stream",
     "text": [
      "/home/cschroeder/.pyenv/versions/3.9.18/envs/notebooks/lib/python3.9/site-packages/small_text/integrations/transformers/classifiers/setfit.py:270: DeprecationWarning: `SetFitTrainer.train` does not accept keyword arguments anymore. Please provide training arguments via a `TrainingArguments` instance to the `SetFitTrainer` initialisation or the `SetFitTrainer.train` method.\n",
      "  trainer.train(max_length=self.max_seq_len, **setfit_train_kwargs)\n"
     ]
    },
    {
     "data": {
      "text/html": [
       "\n",
       "    <div>\n",
       "      \n",
       "      <progress value='75' max='75' style='width:300px; height:20px; vertical-align: middle;'></progress>\n",
       "      [75/75 00:12, Epoch 1/1]\n",
       "    </div>\n",
       "    <table border=\"1\" class=\"dataframe\">\n",
       "  <thead>\n",
       " <tr style=\"text-align: left;\">\n",
       "      <th>Step</th>\n",
       "      <th>Training Loss</th>\n",
       "    </tr>\n",
       "  </thead>\n",
       "  <tbody>\n",
       "    <tr>\n",
       "      <td>1</td>\n",
       "      <td>0.369300</td>\n",
       "    </tr>\n",
       "    <tr>\n",
       "      <td>50</td>\n",
       "      <td>0.208000</td>\n",
       "    </tr>\n",
       "  </tbody>\n",
       "</table><p>"
      ],
      "text/plain": [
       "<IPython.core.display.HTML object>"
      ]
     },
     "metadata": {},
     "output_type": "display_data"
    },
    {
     "data": {
      "application/vnd.jupyter.widget-view+json": {
       "model_id": "",
       "version_major": 2,
       "version_minor": 0
      },
      "text/plain": [
       "Computing widget examples:   0%|          | 0/1 [00:00<?, ?example/s]"
      ]
     },
     "metadata": {},
     "output_type": "display_data"
    },
    {
     "name": "stdout",
     "output_type": "stream",
     "text": [
      "---------------\n",
      "Iteration #1 (60 samples)\n",
      "Train accuracy: 1.00\n",
      "Test accuracy: 0.83\n"
     ]
    },
    {
     "name": "stderr",
     "output_type": "stream",
     "text": [
      "/home/cschroeder/.pyenv/versions/3.9.18/envs/notebooks/lib/python3.9/site-packages/transformers/tokenization_utils_base.py:1601: FutureWarning: `clean_up_tokenization_spaces` was not set. It will be set to `True` by default. This behavior will be depracted in transformers v4.45, and will be then set to `False` by default. For more details check this issue: https://github.com/huggingface/transformers/issues/31884\n",
      "  warnings.warn(\n",
      "/home/cschroeder/.pyenv/versions/3.9.18/envs/notebooks/lib/python3.9/site-packages/small_text/integrations/transformers/classifiers/setfit.py:262: DeprecationWarning: `SetFitTrainer` has been deprecated and will be removed in v2.0.0 of SetFit. Please use `Trainer` instead.\n",
      "  trainer = SetFitTrainer(\n"
     ]
    },
    {
     "data": {
      "application/vnd.jupyter.widget-view+json": {
       "model_id": "01beadbeae0d477b8715f250d445edbf",
       "version_major": 2,
       "version_minor": 0
      },
      "text/plain": [
       "Map:   0%|          | 0/80 [00:00<?, ? examples/s]"
      ]
     },
     "metadata": {},
     "output_type": "display_data"
    },
    {
     "name": "stderr",
     "output_type": "stream",
     "text": [
      "/home/cschroeder/.pyenv/versions/3.9.18/envs/notebooks/lib/python3.9/site-packages/small_text/integrations/transformers/classifiers/setfit.py:270: DeprecationWarning: `SetFitTrainer.train` does not accept keyword arguments anymore. Please provide training arguments via a `TrainingArguments` instance to the `SetFitTrainer` initialisation or the `SetFitTrainer.train` method.\n",
      "  trainer.train(max_length=self.max_seq_len, **setfit_train_kwargs)\n"
     ]
    },
    {
     "data": {
      "text/html": [
       "\n",
       "    <div>\n",
       "      \n",
       "      <progress value='100' max='100' style='width:300px; height:20px; vertical-align: middle;'></progress>\n",
       "      [100/100 00:15, Epoch 1/1]\n",
       "    </div>\n",
       "    <table border=\"1\" class=\"dataframe\">\n",
       "  <thead>\n",
       " <tr style=\"text-align: left;\">\n",
       "      <th>Step</th>\n",
       "      <th>Training Loss</th>\n",
       "    </tr>\n",
       "  </thead>\n",
       "  <tbody>\n",
       "    <tr>\n",
       "      <td>1</td>\n",
       "      <td>0.336300</td>\n",
       "    </tr>\n",
       "    <tr>\n",
       "      <td>50</td>\n",
       "      <td>0.236200</td>\n",
       "    </tr>\n",
       "    <tr>\n",
       "      <td>100</td>\n",
       "      <td>0.108800</td>\n",
       "    </tr>\n",
       "  </tbody>\n",
       "</table><p>"
      ],
      "text/plain": [
       "<IPython.core.display.HTML object>"
      ]
     },
     "metadata": {},
     "output_type": "display_data"
    },
    {
     "data": {
      "application/vnd.jupyter.widget-view+json": {
       "model_id": "",
       "version_major": 2,
       "version_minor": 0
      },
      "text/plain": [
       "Computing widget examples:   0%|          | 0/1 [00:00<?, ?example/s]"
      ]
     },
     "metadata": {},
     "output_type": "display_data"
    },
    {
     "name": "stdout",
     "output_type": "stream",
     "text": [
      "---------------\n",
      "Iteration #2 (80 samples)\n",
      "Train accuracy: 1.00\n",
      "Test accuracy: 0.86\n"
     ]
    },
    {
     "name": "stderr",
     "output_type": "stream",
     "text": [
      "/home/cschroeder/.pyenv/versions/3.9.18/envs/notebooks/lib/python3.9/site-packages/transformers/tokenization_utils_base.py:1601: FutureWarning: `clean_up_tokenization_spaces` was not set. It will be set to `True` by default. This behavior will be depracted in transformers v4.45, and will be then set to `False` by default. For more details check this issue: https://github.com/huggingface/transformers/issues/31884\n",
      "  warnings.warn(\n",
      "/home/cschroeder/.pyenv/versions/3.9.18/envs/notebooks/lib/python3.9/site-packages/small_text/integrations/transformers/classifiers/setfit.py:262: DeprecationWarning: `SetFitTrainer` has been deprecated and will be removed in v2.0.0 of SetFit. Please use `Trainer` instead.\n",
      "  trainer = SetFitTrainer(\n"
     ]
    },
    {
     "data": {
      "application/vnd.jupyter.widget-view+json": {
       "model_id": "8d13eedada004e628d48603c0037bafb",
       "version_major": 2,
       "version_minor": 0
      },
      "text/plain": [
       "Map:   0%|          | 0/100 [00:00<?, ? examples/s]"
      ]
     },
     "metadata": {},
     "output_type": "display_data"
    },
    {
     "name": "stderr",
     "output_type": "stream",
     "text": [
      "/home/cschroeder/.pyenv/versions/3.9.18/envs/notebooks/lib/python3.9/site-packages/small_text/integrations/transformers/classifiers/setfit.py:270: DeprecationWarning: `SetFitTrainer.train` does not accept keyword arguments anymore. Please provide training arguments via a `TrainingArguments` instance to the `SetFitTrainer` initialisation or the `SetFitTrainer.train` method.\n",
      "  trainer.train(max_length=self.max_seq_len, **setfit_train_kwargs)\n"
     ]
    },
    {
     "data": {
      "text/html": [
       "\n",
       "    <div>\n",
       "      \n",
       "      <progress value='125' max='125' style='width:300px; height:20px; vertical-align: middle;'></progress>\n",
       "      [125/125 00:18, Epoch 1/1]\n",
       "    </div>\n",
       "    <table border=\"1\" class=\"dataframe\">\n",
       "  <thead>\n",
       " <tr style=\"text-align: left;\">\n",
       "      <th>Step</th>\n",
       "      <th>Training Loss</th>\n",
       "    </tr>\n",
       "  </thead>\n",
       "  <tbody>\n",
       "    <tr>\n",
       "      <td>1</td>\n",
       "      <td>0.315500</td>\n",
       "    </tr>\n",
       "    <tr>\n",
       "      <td>50</td>\n",
       "      <td>0.238400</td>\n",
       "    </tr>\n",
       "    <tr>\n",
       "      <td>100</td>\n",
       "      <td>0.111000</td>\n",
       "    </tr>\n",
       "  </tbody>\n",
       "</table><p>"
      ],
      "text/plain": [
       "<IPython.core.display.HTML object>"
      ]
     },
     "metadata": {},
     "output_type": "display_data"
    },
    {
     "data": {
      "application/vnd.jupyter.widget-view+json": {
       "model_id": "",
       "version_major": 2,
       "version_minor": 0
      },
      "text/plain": [
       "Computing widget examples:   0%|          | 0/1 [00:00<?, ?example/s]"
      ]
     },
     "metadata": {},
     "output_type": "display_data"
    },
    {
     "name": "stdout",
     "output_type": "stream",
     "text": [
      "---------------\n",
      "Iteration #3 (100 samples)\n",
      "Train accuracy: 1.00\n",
      "Test accuracy: 0.85\n"
     ]
    },
    {
     "name": "stderr",
     "output_type": "stream",
     "text": [
      "/home/cschroeder/.pyenv/versions/3.9.18/envs/notebooks/lib/python3.9/site-packages/transformers/tokenization_utils_base.py:1601: FutureWarning: `clean_up_tokenization_spaces` was not set. It will be set to `True` by default. This behavior will be depracted in transformers v4.45, and will be then set to `False` by default. For more details check this issue: https://github.com/huggingface/transformers/issues/31884\n",
      "  warnings.warn(\n",
      "/home/cschroeder/.pyenv/versions/3.9.18/envs/notebooks/lib/python3.9/site-packages/small_text/integrations/transformers/classifiers/setfit.py:262: DeprecationWarning: `SetFitTrainer` has been deprecated and will be removed in v2.0.0 of SetFit. Please use `Trainer` instead.\n",
      "  trainer = SetFitTrainer(\n"
     ]
    },
    {
     "data": {
      "application/vnd.jupyter.widget-view+json": {
       "model_id": "dc63053bc3434270a1ebded2dfebf249",
       "version_major": 2,
       "version_minor": 0
      },
      "text/plain": [
       "Map:   0%|          | 0/120 [00:00<?, ? examples/s]"
      ]
     },
     "metadata": {},
     "output_type": "display_data"
    },
    {
     "name": "stderr",
     "output_type": "stream",
     "text": [
      "/home/cschroeder/.pyenv/versions/3.9.18/envs/notebooks/lib/python3.9/site-packages/small_text/integrations/transformers/classifiers/setfit.py:270: DeprecationWarning: `SetFitTrainer.train` does not accept keyword arguments anymore. Please provide training arguments via a `TrainingArguments` instance to the `SetFitTrainer` initialisation or the `SetFitTrainer.train` method.\n",
      "  trainer.train(max_length=self.max_seq_len, **setfit_train_kwargs)\n"
     ]
    },
    {
     "data": {
      "text/html": [
       "\n",
       "    <div>\n",
       "      \n",
       "      <progress value='150' max='150' style='width:300px; height:20px; vertical-align: middle;'></progress>\n",
       "      [150/150 00:21, Epoch 1/1]\n",
       "    </div>\n",
       "    <table border=\"1\" class=\"dataframe\">\n",
       "  <thead>\n",
       " <tr style=\"text-align: left;\">\n",
       "      <th>Step</th>\n",
       "      <th>Training Loss</th>\n",
       "    </tr>\n",
       "  </thead>\n",
       "  <tbody>\n",
       "    <tr>\n",
       "      <td>1</td>\n",
       "      <td>0.357900</td>\n",
       "    </tr>\n",
       "    <tr>\n",
       "      <td>50</td>\n",
       "      <td>0.251400</td>\n",
       "    </tr>\n",
       "    <tr>\n",
       "      <td>100</td>\n",
       "      <td>0.119300</td>\n",
       "    </tr>\n",
       "    <tr>\n",
       "      <td>150</td>\n",
       "      <td>0.023200</td>\n",
       "    </tr>\n",
       "  </tbody>\n",
       "</table><p>"
      ],
      "text/plain": [
       "<IPython.core.display.HTML object>"
      ]
     },
     "metadata": {},
     "output_type": "display_data"
    },
    {
     "data": {
      "application/vnd.jupyter.widget-view+json": {
       "model_id": "",
       "version_major": 2,
       "version_minor": 0
      },
      "text/plain": [
       "Computing widget examples:   0%|          | 0/1 [00:00<?, ?example/s]"
      ]
     },
     "metadata": {},
     "output_type": "display_data"
    },
    {
     "name": "stdout",
     "output_type": "stream",
     "text": [
      "---------------\n",
      "Iteration #4 (120 samples)\n",
      "Train accuracy: 1.00\n",
      "Test accuracy: 0.88\n"
     ]
    },
    {
     "name": "stderr",
     "output_type": "stream",
     "text": [
      "/home/cschroeder/.pyenv/versions/3.9.18/envs/notebooks/lib/python3.9/site-packages/transformers/tokenization_utils_base.py:1601: FutureWarning: `clean_up_tokenization_spaces` was not set. It will be set to `True` by default. This behavior will be depracted in transformers v4.45, and will be then set to `False` by default. For more details check this issue: https://github.com/huggingface/transformers/issues/31884\n",
      "  warnings.warn(\n",
      "/home/cschroeder/.pyenv/versions/3.9.18/envs/notebooks/lib/python3.9/site-packages/small_text/integrations/transformers/classifiers/setfit.py:262: DeprecationWarning: `SetFitTrainer` has been deprecated and will be removed in v2.0.0 of SetFit. Please use `Trainer` instead.\n",
      "  trainer = SetFitTrainer(\n"
     ]
    },
    {
     "data": {
      "application/vnd.jupyter.widget-view+json": {
       "model_id": "35455fbd32764ed3ad9a1adc0731f0fb",
       "version_major": 2,
       "version_minor": 0
      },
      "text/plain": [
       "Map:   0%|          | 0/140 [00:00<?, ? examples/s]"
      ]
     },
     "metadata": {},
     "output_type": "display_data"
    },
    {
     "name": "stderr",
     "output_type": "stream",
     "text": [
      "/home/cschroeder/.pyenv/versions/3.9.18/envs/notebooks/lib/python3.9/site-packages/small_text/integrations/transformers/classifiers/setfit.py:270: DeprecationWarning: `SetFitTrainer.train` does not accept keyword arguments anymore. Please provide training arguments via a `TrainingArguments` instance to the `SetFitTrainer` initialisation or the `SetFitTrainer.train` method.\n",
      "  trainer.train(max_length=self.max_seq_len, **setfit_train_kwargs)\n"
     ]
    },
    {
     "data": {
      "text/html": [
       "\n",
       "    <div>\n",
       "      \n",
       "      <progress value='175' max='175' style='width:300px; height:20px; vertical-align: middle;'></progress>\n",
       "      [175/175 00:24, Epoch 1/1]\n",
       "    </div>\n",
       "    <table border=\"1\" class=\"dataframe\">\n",
       "  <thead>\n",
       " <tr style=\"text-align: left;\">\n",
       "      <th>Step</th>\n",
       "      <th>Training Loss</th>\n",
       "    </tr>\n",
       "  </thead>\n",
       "  <tbody>\n",
       "    <tr>\n",
       "      <td>1</td>\n",
       "      <td>0.335400</td>\n",
       "    </tr>\n",
       "    <tr>\n",
       "      <td>50</td>\n",
       "      <td>0.244900</td>\n",
       "    </tr>\n",
       "    <tr>\n",
       "      <td>100</td>\n",
       "      <td>0.118100</td>\n",
       "    </tr>\n",
       "    <tr>\n",
       "      <td>150</td>\n",
       "      <td>0.013200</td>\n",
       "    </tr>\n",
       "  </tbody>\n",
       "</table><p>"
      ],
      "text/plain": [
       "<IPython.core.display.HTML object>"
      ]
     },
     "metadata": {},
     "output_type": "display_data"
    },
    {
     "data": {
      "application/vnd.jupyter.widget-view+json": {
       "model_id": "",
       "version_major": 2,
       "version_minor": 0
      },
      "text/plain": [
       "Computing widget examples:   0%|          | 0/1 [00:00<?, ?example/s]"
      ]
     },
     "metadata": {},
     "output_type": "display_data"
    },
    {
     "name": "stdout",
     "output_type": "stream",
     "text": [
      "---------------\n",
      "Iteration #5 (140 samples)\n",
      "Train accuracy: 1.00\n",
      "Test accuracy: 0.87\n"
     ]
    },
    {
     "name": "stderr",
     "output_type": "stream",
     "text": [
      "/home/cschroeder/.pyenv/versions/3.9.18/envs/notebooks/lib/python3.9/site-packages/transformers/tokenization_utils_base.py:1601: FutureWarning: `clean_up_tokenization_spaces` was not set. It will be set to `True` by default. This behavior will be depracted in transformers v4.45, and will be then set to `False` by default. For more details check this issue: https://github.com/huggingface/transformers/issues/31884\n",
      "  warnings.warn(\n",
      "/home/cschroeder/.pyenv/versions/3.9.18/envs/notebooks/lib/python3.9/site-packages/small_text/integrations/transformers/classifiers/setfit.py:262: DeprecationWarning: `SetFitTrainer` has been deprecated and will be removed in v2.0.0 of SetFit. Please use `Trainer` instead.\n",
      "  trainer = SetFitTrainer(\n"
     ]
    },
    {
     "data": {
      "application/vnd.jupyter.widget-view+json": {
       "model_id": "964a359ee3bf488f8aa391c1fd459462",
       "version_major": 2,
       "version_minor": 0
      },
      "text/plain": [
       "Map:   0%|          | 0/160 [00:00<?, ? examples/s]"
      ]
     },
     "metadata": {},
     "output_type": "display_data"
    },
    {
     "name": "stderr",
     "output_type": "stream",
     "text": [
      "/home/cschroeder/.pyenv/versions/3.9.18/envs/notebooks/lib/python3.9/site-packages/small_text/integrations/transformers/classifiers/setfit.py:270: DeprecationWarning: `SetFitTrainer.train` does not accept keyword arguments anymore. Please provide training arguments via a `TrainingArguments` instance to the `SetFitTrainer` initialisation or the `SetFitTrainer.train` method.\n",
      "  trainer.train(max_length=self.max_seq_len, **setfit_train_kwargs)\n"
     ]
    },
    {
     "data": {
      "text/html": [
       "\n",
       "    <div>\n",
       "      \n",
       "      <progress value='200' max='200' style='width:300px; height:20px; vertical-align: middle;'></progress>\n",
       "      [200/200 00:28, Epoch 1/1]\n",
       "    </div>\n",
       "    <table border=\"1\" class=\"dataframe\">\n",
       "  <thead>\n",
       " <tr style=\"text-align: left;\">\n",
       "      <th>Step</th>\n",
       "      <th>Training Loss</th>\n",
       "    </tr>\n",
       "  </thead>\n",
       "  <tbody>\n",
       "    <tr>\n",
       "      <td>1</td>\n",
       "      <td>0.358000</td>\n",
       "    </tr>\n",
       "    <tr>\n",
       "      <td>50</td>\n",
       "      <td>0.251800</td>\n",
       "    </tr>\n",
       "    <tr>\n",
       "      <td>100</td>\n",
       "      <td>0.154700</td>\n",
       "    </tr>\n",
       "    <tr>\n",
       "      <td>150</td>\n",
       "      <td>0.045900</td>\n",
       "    </tr>\n",
       "    <tr>\n",
       "      <td>200</td>\n",
       "      <td>0.005600</td>\n",
       "    </tr>\n",
       "  </tbody>\n",
       "</table><p>"
      ],
      "text/plain": [
       "<IPython.core.display.HTML object>"
      ]
     },
     "metadata": {},
     "output_type": "display_data"
    },
    {
     "data": {
      "application/vnd.jupyter.widget-view+json": {
       "model_id": "",
       "version_major": 2,
       "version_minor": 0
      },
      "text/plain": [
       "Computing widget examples:   0%|          | 0/1 [00:00<?, ?example/s]"
      ]
     },
     "metadata": {},
     "output_type": "display_data"
    },
    {
     "name": "stdout",
     "output_type": "stream",
     "text": [
      "---------------\n",
      "Iteration #6 (160 samples)\n",
      "Train accuracy: 1.00\n",
      "Test accuracy: 0.88\n"
     ]
    },
    {
     "name": "stderr",
     "output_type": "stream",
     "text": [
      "/home/cschroeder/.pyenv/versions/3.9.18/envs/notebooks/lib/python3.9/site-packages/transformers/tokenization_utils_base.py:1601: FutureWarning: `clean_up_tokenization_spaces` was not set. It will be set to `True` by default. This behavior will be depracted in transformers v4.45, and will be then set to `False` by default. For more details check this issue: https://github.com/huggingface/transformers/issues/31884\n",
      "  warnings.warn(\n",
      "/home/cschroeder/.pyenv/versions/3.9.18/envs/notebooks/lib/python3.9/site-packages/small_text/integrations/transformers/classifiers/setfit.py:262: DeprecationWarning: `SetFitTrainer` has been deprecated and will be removed in v2.0.0 of SetFit. Please use `Trainer` instead.\n",
      "  trainer = SetFitTrainer(\n"
     ]
    },
    {
     "data": {
      "application/vnd.jupyter.widget-view+json": {
       "model_id": "acddab148779442b8f2d7166e4ee6491",
       "version_major": 2,
       "version_minor": 0
      },
      "text/plain": [
       "Map:   0%|          | 0/180 [00:00<?, ? examples/s]"
      ]
     },
     "metadata": {},
     "output_type": "display_data"
    },
    {
     "name": "stderr",
     "output_type": "stream",
     "text": [
      "/home/cschroeder/.pyenv/versions/3.9.18/envs/notebooks/lib/python3.9/site-packages/small_text/integrations/transformers/classifiers/setfit.py:270: DeprecationWarning: `SetFitTrainer.train` does not accept keyword arguments anymore. Please provide training arguments via a `TrainingArguments` instance to the `SetFitTrainer` initialisation or the `SetFitTrainer.train` method.\n",
      "  trainer.train(max_length=self.max_seq_len, **setfit_train_kwargs)\n"
     ]
    },
    {
     "data": {
      "text/html": [
       "\n",
       "    <div>\n",
       "      \n",
       "      <progress value='225' max='225' style='width:300px; height:20px; vertical-align: middle;'></progress>\n",
       "      [225/225 00:32, Epoch 1/1]\n",
       "    </div>\n",
       "    <table border=\"1\" class=\"dataframe\">\n",
       "  <thead>\n",
       " <tr style=\"text-align: left;\">\n",
       "      <th>Step</th>\n",
       "      <th>Training Loss</th>\n",
       "    </tr>\n",
       "  </thead>\n",
       "  <tbody>\n",
       "    <tr>\n",
       "      <td>1</td>\n",
       "      <td>0.347700</td>\n",
       "    </tr>\n",
       "    <tr>\n",
       "      <td>50</td>\n",
       "      <td>0.251900</td>\n",
       "    </tr>\n",
       "    <tr>\n",
       "      <td>100</td>\n",
       "      <td>0.155700</td>\n",
       "    </tr>\n",
       "    <tr>\n",
       "      <td>150</td>\n",
       "      <td>0.031000</td>\n",
       "    </tr>\n",
       "    <tr>\n",
       "      <td>200</td>\n",
       "      <td>0.003100</td>\n",
       "    </tr>\n",
       "  </tbody>\n",
       "</table><p>"
      ],
      "text/plain": [
       "<IPython.core.display.HTML object>"
      ]
     },
     "metadata": {},
     "output_type": "display_data"
    },
    {
     "data": {
      "application/vnd.jupyter.widget-view+json": {
       "model_id": "",
       "version_major": 2,
       "version_minor": 0
      },
      "text/plain": [
       "Computing widget examples:   0%|          | 0/1 [00:00<?, ?example/s]"
      ]
     },
     "metadata": {},
     "output_type": "display_data"
    },
    {
     "name": "stdout",
     "output_type": "stream",
     "text": [
      "---------------\n",
      "Iteration #7 (180 samples)\n",
      "Train accuracy: 1.00\n",
      "Test accuracy: 0.88\n"
     ]
    },
    {
     "name": "stderr",
     "output_type": "stream",
     "text": [
      "/home/cschroeder/.pyenv/versions/3.9.18/envs/notebooks/lib/python3.9/site-packages/transformers/tokenization_utils_base.py:1601: FutureWarning: `clean_up_tokenization_spaces` was not set. It will be set to `True` by default. This behavior will be depracted in transformers v4.45, and will be then set to `False` by default. For more details check this issue: https://github.com/huggingface/transformers/issues/31884\n",
      "  warnings.warn(\n",
      "/home/cschroeder/.pyenv/versions/3.9.18/envs/notebooks/lib/python3.9/site-packages/small_text/integrations/transformers/classifiers/setfit.py:262: DeprecationWarning: `SetFitTrainer` has been deprecated and will be removed in v2.0.0 of SetFit. Please use `Trainer` instead.\n",
      "  trainer = SetFitTrainer(\n"
     ]
    },
    {
     "data": {
      "application/vnd.jupyter.widget-view+json": {
       "model_id": "4de65d2cb3a141278a40eff87145d450",
       "version_major": 2,
       "version_minor": 0
      },
      "text/plain": [
       "Map:   0%|          | 0/200 [00:00<?, ? examples/s]"
      ]
     },
     "metadata": {},
     "output_type": "display_data"
    },
    {
     "name": "stderr",
     "output_type": "stream",
     "text": [
      "/home/cschroeder/.pyenv/versions/3.9.18/envs/notebooks/lib/python3.9/site-packages/small_text/integrations/transformers/classifiers/setfit.py:270: DeprecationWarning: `SetFitTrainer.train` does not accept keyword arguments anymore. Please provide training arguments via a `TrainingArguments` instance to the `SetFitTrainer` initialisation or the `SetFitTrainer.train` method.\n",
      "  trainer.train(max_length=self.max_seq_len, **setfit_train_kwargs)\n"
     ]
    },
    {
     "data": {
      "text/html": [
       "\n",
       "    <div>\n",
       "      \n",
       "      <progress value='250' max='250' style='width:300px; height:20px; vertical-align: middle;'></progress>\n",
       "      [250/250 00:36, Epoch 1/1]\n",
       "    </div>\n",
       "    <table border=\"1\" class=\"dataframe\">\n",
       "  <thead>\n",
       " <tr style=\"text-align: left;\">\n",
       "      <th>Step</th>\n",
       "      <th>Training Loss</th>\n",
       "    </tr>\n",
       "  </thead>\n",
       "  <tbody>\n",
       "    <tr>\n",
       "      <td>1</td>\n",
       "      <td>0.333000</td>\n",
       "    </tr>\n",
       "    <tr>\n",
       "      <td>50</td>\n",
       "      <td>0.266100</td>\n",
       "    </tr>\n",
       "    <tr>\n",
       "      <td>100</td>\n",
       "      <td>0.179700</td>\n",
       "    </tr>\n",
       "    <tr>\n",
       "      <td>150</td>\n",
       "      <td>0.052900</td>\n",
       "    </tr>\n",
       "    <tr>\n",
       "      <td>200</td>\n",
       "      <td>0.003900</td>\n",
       "    </tr>\n",
       "    <tr>\n",
       "      <td>250</td>\n",
       "      <td>0.001700</td>\n",
       "    </tr>\n",
       "  </tbody>\n",
       "</table><p>"
      ],
      "text/plain": [
       "<IPython.core.display.HTML object>"
      ]
     },
     "metadata": {},
     "output_type": "display_data"
    },
    {
     "data": {
      "application/vnd.jupyter.widget-view+json": {
       "model_id": "c6c9cb9a028d47ac8a8f482ec54b0016",
       "version_major": 2,
       "version_minor": 0
      },
      "text/plain": [
       "Computing widget examples:   0%|          | 0/1 [00:00<?, ?example/s]"
      ]
     },
     "metadata": {},
     "output_type": "display_data"
    },
    {
     "name": "stdout",
     "output_type": "stream",
     "text": [
      "---------------\n",
      "Iteration #8 (200 samples)\n",
      "Train accuracy: 1.00\n",
      "Test accuracy: 0.89\n"
     ]
    },
    {
     "name": "stderr",
     "output_type": "stream",
     "text": [
      "/home/cschroeder/.pyenv/versions/3.9.18/envs/notebooks/lib/python3.9/site-packages/transformers/tokenization_utils_base.py:1601: FutureWarning: `clean_up_tokenization_spaces` was not set. It will be set to `True` by default. This behavior will be depracted in transformers v4.45, and will be then set to `False` by default. For more details check this issue: https://github.com/huggingface/transformers/issues/31884\n",
      "  warnings.warn(\n",
      "/home/cschroeder/.pyenv/versions/3.9.18/envs/notebooks/lib/python3.9/site-packages/small_text/integrations/transformers/classifiers/setfit.py:262: DeprecationWarning: `SetFitTrainer` has been deprecated and will be removed in v2.0.0 of SetFit. Please use `Trainer` instead.\n",
      "  trainer = SetFitTrainer(\n"
     ]
    },
    {
     "data": {
      "application/vnd.jupyter.widget-view+json": {
       "model_id": "6123b217c82549cc95b72ce5c7725d9f",
       "version_major": 2,
       "version_minor": 0
      },
      "text/plain": [
       "Map:   0%|          | 0/220 [00:00<?, ? examples/s]"
      ]
     },
     "metadata": {},
     "output_type": "display_data"
    },
    {
     "name": "stderr",
     "output_type": "stream",
     "text": [
      "/home/cschroeder/.pyenv/versions/3.9.18/envs/notebooks/lib/python3.9/site-packages/small_text/integrations/transformers/classifiers/setfit.py:270: DeprecationWarning: `SetFitTrainer.train` does not accept keyword arguments anymore. Please provide training arguments via a `TrainingArguments` instance to the `SetFitTrainer` initialisation or the `SetFitTrainer.train` method.\n",
      "  trainer.train(max_length=self.max_seq_len, **setfit_train_kwargs)\n"
     ]
    },
    {
     "data": {
      "text/html": [
       "\n",
       "    <div>\n",
       "      \n",
       "      <progress value='275' max='275' style='width:300px; height:20px; vertical-align: middle;'></progress>\n",
       "      [275/275 00:39, Epoch 1/1]\n",
       "    </div>\n",
       "    <table border=\"1\" class=\"dataframe\">\n",
       "  <thead>\n",
       " <tr style=\"text-align: left;\">\n",
       "      <th>Step</th>\n",
       "      <th>Training Loss</th>\n",
       "    </tr>\n",
       "  </thead>\n",
       "  <tbody>\n",
       "    <tr>\n",
       "      <td>1</td>\n",
       "      <td>0.387900</td>\n",
       "    </tr>\n",
       "    <tr>\n",
       "      <td>50</td>\n",
       "      <td>0.262400</td>\n",
       "    </tr>\n",
       "    <tr>\n",
       "      <td>100</td>\n",
       "      <td>0.174700</td>\n",
       "    </tr>\n",
       "    <tr>\n",
       "      <td>150</td>\n",
       "      <td>0.052800</td>\n",
       "    </tr>\n",
       "    <tr>\n",
       "      <td>200</td>\n",
       "      <td>0.004400</td>\n",
       "    </tr>\n",
       "    <tr>\n",
       "      <td>250</td>\n",
       "      <td>0.001700</td>\n",
       "    </tr>\n",
       "  </tbody>\n",
       "</table><p>"
      ],
      "text/plain": [
       "<IPython.core.display.HTML object>"
      ]
     },
     "metadata": {},
     "output_type": "display_data"
    },
    {
     "data": {
      "application/vnd.jupyter.widget-view+json": {
       "model_id": "39c932e664ad4ab2832f89f82bce6b80",
       "version_major": 2,
       "version_minor": 0
      },
      "text/plain": [
       "Computing widget examples:   0%|          | 0/1 [00:00<?, ?example/s]"
      ]
     },
     "metadata": {},
     "output_type": "display_data"
    },
    {
     "name": "stdout",
     "output_type": "stream",
     "text": [
      "---------------\n",
      "Iteration #9 (220 samples)\n",
      "Train accuracy: 1.00\n",
      "Test accuracy: 0.89\n"
     ]
    }
   ],
   "source": [
    "import gc\n",
    "import torch\n",
    "from sklearn.metrics import accuracy_score\n",
    "\n",
    "\n",
    "num_queries = 10\n",
    "\n",
    "\n",
    "def evaluate(active_learner, train, test):\n",
    "    y_pred = active_learner.classifier.predict(train)\n",
    "    y_pred_test = active_learner.classifier.predict(test)\n",
    "    \n",
    "    test_acc = accuracy_score(y_pred_test, test.y)\n",
    "\n",
    "    print('Train accuracy: {:.2f}'.format(accuracy_score(y_pred, train.y)))\n",
    "    print('Test accuracy: {:.2f}'.format(test_acc))\n",
    "    \n",
    "    return test_acc\n",
    "\n",
    "\n",
    "results_setfit = []\n",
    "results_setfit.append(evaluate(active_learner, train[labeled_indices], test))\n",
    "\n",
    "    \n",
    "for i in range(num_queries):\n",
    "    # ...where each iteration consists of labelling 20 samples\n",
    "    q_indices = active_learner.query(num_samples=20)\n",
    "\n",
    "    # Simulate user interaction here. Replace this for real-world usage.\n",
    "    y = train.y[q_indices]\n",
    "\n",
    "    # Return the labels for the current query to the active learner.\n",
    "    active_learner.update(y)\n",
    "    \n",
    "    # memory fix: https://github.com/UKPLab/sentence-transformers/issues/1793\n",
    "    gc.collect()\n",
    "    torch.cuda.empty_cache()\n",
    "\n",
    "    labeled_indices = np.concatenate([q_indices, labeled_indices])\n",
    "\n",
    "    print('---------------')\n",
    "    print('Iteration #{:d} ({} samples)'.format(i, len(labeled_indices)))\n",
    "    results_setfit.append(evaluate(active_learner, train[labeled_indices], test))\n"
   ]
  },
  {
   "cell_type": "markdown",
   "id": "5eeb9a63",
   "metadata": {},
   "source": [
    "## Plotting the Results\n",
    "\n",
    "With the previous results we can plot a [learning curve](https://en.wikipedia.org/wiki/Learning_curve_(machine_learning)) to visualize the performance."
   ]
  },
  {
   "cell_type": "code",
   "execution_count": 7,
   "id": "278c1d13",
   "metadata": {},
   "outputs": [
    {
     "data": {
      "text/plain": [
       "<module 'matplotlib.pyplot' from '/home/cschroeder/.pyenv/versions/3.9.18/envs/notebooks/lib/python3.9/site-packages/matplotlib/pyplot.py'>"
      ]
     },
     "metadata": {},
     "output_type": "display_data"
    },
    {
     "data": {
      "image/png": "[encoded data removed]",
      "text/plain": [
       "<Figure size 1200x800 with 1 Axes>"
      ]
     },
     "metadata": {},
     "output_type": "display_data"
    }
   ],
   "source": [
    "%matplotlib inline\n",
    "import matplotlib.pyplot as plt\n",
    "\n",
    "fig = plt.figure(figsize=(12, 8))\n",
    "ax = plt.axes()\n",
    "\n",
    "ax.plot(np.arange(num_queries+1), results_setfit, label='SetFit')\n",
    "ax.legend()\n",
    "\n",
    "plt.ylabel('accuracy')\n",
    "plt.xlabel('num queries')\n",
    "\n",
    "display(plt)"
   ]
  },
  {
   "cell_type": "markdown",
   "id": "7b6f8f75",
   "metadata": {},
   "source": [
    "<a id=\"nb3-part4-comparison\"></a>\n",
    "## IV. Comparing against BERT\n",
    "\n",
    "We perform the same steps again for BERT."
   ]
  },
  {
   "cell_type": "code",
   "execution_count": 8,
   "id": "0c64d809",
   "metadata": {},
   "outputs": [],
   "source": [
    "import numpy as np\n",
    "\n",
    "from small_text import TransformersDataset\n",
    "from transformers import AutoTokenizer\n",
    "\n",
    "\n",
    "transformer_model_name = 'bert-base-uncased'\n",
    "\n",
    "tokenizer_kwargs = {'clean_up_tokenization_spaces': True}\n",
    "tokenizer = AutoTokenizer.from_pretrained(\n",
    "    transformer_model_name,\n",
    "    **tokenizer_kwargs\n",
    ")\n",
    "\n",
    "num_classes = raw_dataset['train'].features['label'].num_classes\n",
    "\n",
    "target_labels = np.arange(num_classes)\n",
    "max_length = 128\n",
    "\n",
    "\n",
    "train = TransformersDataset.from_arrays(raw_dataset['train']['text'], \n",
    "                                        np.array(raw_dataset['train']['label']), \n",
    "                                        tokenizer,\n",
    "                                        target_labels=target_labels,\n",
    "                                        max_length=max_length)\n",
    "test = TransformersDataset.from_arrays(raw_dataset['test']['text'], \n",
    "                                       np.array(raw_dataset['test']['label']), \n",
    "                                       tokenizer,\n",
    "                                       target_labels=target_labels,\n",
    "                                       max_length=max_length)"
   ]
  },
  {
   "cell_type": "code",
   "execution_count": 9,
   "id": "b8b78fc9",
   "metadata": {},
   "outputs": [],
   "source": [
    "from small_text import TransformerBasedClassificationFactory, TransformerModelArguments\n",
    "\n",
    "model_args = TransformerModelArguments(transformer_model_name, tokenizer_kwargs=tokenizer_kwargs)\n",
    "clf_factory = TransformerBasedClassificationFactory(model_args, num_classes)"
   ]
  },
  {
   "cell_type": "code",
   "execution_count": 10,
   "id": "a2d93583",
   "metadata": {},
   "outputs": [],
   "source": [
    "from small_text import (\n",
    "    PoolBasedActiveLearner, \n",
    "    random_initialization_balanced,\n",
    "    BreakingTies,\n",
    "    SubsamplingQueryStrategy\n",
    ")\n",
    "\n",
    "# define a query strategy and initialize a pool-based active learner\n",
    "query_strategy = SubsamplingQueryStrategy(BreakingTies())\n",
    "active_learner = PoolBasedActiveLearner(clf_factory, query_strategy, train)\n",
    "\n",
    "\n",
    "# use the same initial set as above\n",
    "active_learner.initialize(initial_indices)\n",
    "labeled_indices = initial_indices"
   ]
  },
  {
   "cell_type": "code",
   "execution_count": 11,
   "id": "e4252f63",
   "metadata": {},
   "outputs": [
    {
     "name": "stdout",
     "output_type": "stream",
     "text": [
      "Train accuracy: 0.85\n",
      "Test accuracy: 0.41\n",
      "---------------\n",
      "Iteration #0 (40 samples)\n",
      "Train accuracy: 0.95\n",
      "Test accuracy: 0.60\n",
      "---------------\n",
      "Iteration #1 (60 samples)\n",
      "Train accuracy: 0.90\n",
      "Test accuracy: 0.65\n",
      "---------------\n",
      "Iteration #2 (80 samples)\n",
      "Train accuracy: 0.93\n",
      "Test accuracy: 0.70\n",
      "---------------\n",
      "Iteration #3 (100 samples)\n",
      "Train accuracy: 0.96\n",
      "Test accuracy: 0.78\n",
      "---------------\n",
      "Iteration #4 (120 samples)\n",
      "Train accuracy: 0.97\n",
      "Test accuracy: 0.79\n",
      "---------------\n",
      "Iteration #5 (140 samples)\n",
      "Train accuracy: 0.99\n",
      "Test accuracy: 0.84\n",
      "---------------\n",
      "Iteration #6 (160 samples)\n",
      "Train accuracy: 0.96\n",
      "Test accuracy: 0.81\n",
      "---------------\n",
      "Iteration #7 (180 samples)\n",
      "Train accuracy: 0.97\n",
      "Test accuracy: 0.86\n",
      "---------------\n",
      "Iteration #8 (200 samples)\n",
      "Train accuracy: 0.97\n",
      "Test accuracy: 0.87\n",
      "---------------\n",
      "Iteration #9 (220 samples)\n",
      "Train accuracy: 0.98\n",
      "Test accuracy: 0.86\n"
     ]
    }
   ],
   "source": [
    "results_bert = []\n",
    "results_bert.append(evaluate(active_learner, train[labeled_indices], test))\n",
    "\n",
    "    \n",
    "for i in range(num_queries):\n",
    "    # ...where each iteration consists of labelling 20 samples\n",
    "    q_indices = active_learner.query(num_samples=20)\n",
    "\n",
    "    # Simulate user interaction here. Replace this for real-world usage.\n",
    "    y = train.y[q_indices]\n",
    "\n",
    "    # Return the labels for the current query to the active learner.\n",
    "    active_learner.update(y)\n",
    "\n",
    "    labeled_indices = np.concatenate([q_indices, labeled_indices])\n",
    "    \n",
    "    print('---------------')\n",
    "    print('Iteration #{:d} ({} samples)'.format(i, len(labeled_indices)))\n",
    "    results_bert.append(evaluate(active_learner, train[labeled_indices], test))\n"
   ]
  },
  {
   "cell_type": "markdown",
   "id": "b282d8bb",
   "metadata": {},
   "source": [
    "### Comparison\n",
    "\n",
    "This time we plot the learning curves of SetFit and BERT. Not only does SetFit run quite fast (albeit we did not measure the runtime here) but also its learning curve is quite steep.\n",
    "\n",
    "Do not draw any conclusions from this besides the impressive performance and runtime of SetFit. The comparison itself is not really fair and should be in favor of `bert-base-uncased` which has 12 layers and outputs embeddings of size 768 compared to `paraphrase-MiniLM-L3-v2` which has only three layers and outputs embeddings of size 384."
   ]
  },
  {
   "cell_type": "code",
   "execution_count": 12,
   "id": "c2c39b7b",
   "metadata": {},
   "outputs": [
    {
     "data": {
      "text/plain": [
       "<module 'matplotlib.pyplot' from '/home/cschroeder/.pyenv/versions/3.9.18/envs/notebooks/lib/python3.9/site-packages/matplotlib/pyplot.py'>"
      ]
     },
     "metadata": {},
     "output_type": "display_data"
    },
    {
     "data": {
      "image/png": "[encoded data removed]",
      "text/plain": [
       "<Figure size 1200x800 with 1 Axes>"
      ]
     },
     "metadata": {},
     "output_type": "display_data"
    }
   ],
   "source": [
    "%matplotlib inline\n",
    "import matplotlib.pyplot as plt\n",
    "\n",
    "fig = plt.figure(figsize=(12, 8))\n",
    "ax = plt.axes()\n",
    "\n",
    "ax.plot(np.arange(20, 240, 20), results_setfit, label=f'SetFit ({sentence_transformer_model_name})')\n",
    "ax.plot(np.arange(20, 240, 20), results_bert, label=f'BERT ({transformer_model_name})')\n",
    "ax.legend(loc='lower right')\n",
    "\n",
    "plt.xticks(np.arange(20, 240, 20))\n",
    "plt.ylim((0.25, 1.0))\n",
    "\n",
    "plt.ylabel('accuracy')\n",
    "plt.xlabel('number of instances')\n",
    "\n",
    "plt.title('AG\\'s News / Breaking Ties')\n",
    "\n",
    "\n",
    "display(plt)"
   ]
  },
  {
   "cell_type": "code",
   "execution_count": null,
   "id": "1579319a-0dcc-4180-96d1-b53f194e2741",
   "metadata": {},
   "outputs": [],
   "source": []
  },
  {
   "cell_type": "code",
   "execution_count": null,
   "id": "d8776025-3037-4d22-871c-c8c4ac7c6aaf",
   "metadata": {},
   "outputs": [],
   "source": []
  }
 ],
 "metadata": {
  "kernelspec": {
   "display_name": "Python 3 (ipykernel)",
   "language": "python",
   "name": "python3"
  },
  "language_info": {
   "codemirror_mode": {
    "name": "ipython",
    "version": 3
   },
   "file_extension": ".py",
   "mimetype": "text/x-python",
   "name": "python",
   "nbconvert_exporter": "python",
   "pygments_lexer": "ipython3",
   "version": "3.9.18"
  }
 },
 "nbformat": 4,
 "nbformat_minor": 5
}
