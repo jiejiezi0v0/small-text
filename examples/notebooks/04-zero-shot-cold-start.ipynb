{
 "cells": [
  {
   "cell_type": "markdown",
   "id": "bea8b7ed",
   "metadata": {},
   "source": [
    "# Use SetFit for Active Learning with Small-Text\n",
    "\n",
    "*Notebook 4*  \n",
    "In this tutorial we demonstrate how to use cold start initialization with [SetFit](https://github.com/huggingface/setfit), i.e. we start active learning directly without having to provide an initial set of labels.\n",
    "\n",
    "----\n",
    "\n",
    "## Overview\n",
    "\n",
    "- [Part I: Introduction and Installation](#nb4-part1-introduction)\n",
    "- [Part II: Loading, Investigating, and Preparing the AG's News Dataset](#nb4-part2-data)\n",
    "- [Part III: Active Learning](#nb4-part3-active-learning)\n",
    "- [Part IV: Plotting the results](#nb4-part4-evaluation)\n",
    "\n",
    "----\n",
    "\n",
    "<a id=\"nb4-part1-introduction\"></a>\n",
    "## I. Introduction\n",
    "\n",
    "By *SetFit* we refer to the method by Tunstall et al. from the paper [Efficient Few-Shot Learning Without Prompts](https://arxiv.org/pdf/2209.11055.pdf). SetFit is an efficient approach that is based on constrative fine-tuning on sentence-transformer embeddings. In small-text, the [Hugging Face SetFit implementation](https://github.com/huggingface/setfit) is wrapped so that you can you use with all existing small-text components.\n",
    "\n",
    "### Installation and Preparation\n",
    "\n",
    "The small-text wrapper for SetFit is a part of the transformers integration, so the installation procedure is the same as for every other example that shows small-text with transformers. "
   ]
  },
  {
   "cell_type": "code",
   "execution_count": 1,
   "id": "837556c3",
   "metadata": {
    "scrolled": true
   },
   "outputs": [
    {
     "name": "stdout",
     "output_type": "stream",
     "text": [
      "\u001b[33mDEPRECATION: git+https://github.com/webis-de/small-text#egg=small-text[transformers] contains an egg fragment with a non-PEP 508 name pip 25.0 will enforce this behaviour change. A possible replacement is to use the req @ url syntax, and remove the egg fragment. Discussion can be found at https://github.com/pypa/pip/issues/11617\u001b[0m\u001b[33m\n",
      "\u001b[0mCollecting small-text[transformers]\n",
      "  Cloning https://github.com/webis-de/small-text to /tmp/pip-install-gvuaj45u/small-text_0855a21a667d4063acffef438dadbc44\n",
      "  Running command git clone --filter=blob:none --quiet https://github.com/webis-de/small-text /tmp/pip-install-gvuaj45u/small-text_0855a21a667d4063acffef438dadbc44\n",
      "  Resolved https://github.com/webis-de/small-text to commit 2aad698d90013b3305f18f56e3ebbf5959047e0d\n",
      "  Installing build dependencies ... \u001b[?25ldone\n",
      "\u001b[?25h  Getting requirements to build wheel ... \u001b[?25ldone\n",
      "\u001b[?25h  Preparing metadata (pyproject.toml) ... \u001b[?25ldone\n",
      "\u001b[?25hRequirement already satisfied: packaging in /home/cschroeder/.pyenv/versions/3.9.18/envs/notebooks/lib/python3.9/site-packages (from small-text[transformers]) (24.1)\n",
      "Requirement already satisfied: dill>=0.3.7 in /home/cschroeder/.pyenv/versions/3.9.18/envs/notebooks/lib/python3.9/site-packages (from small-text[transformers]) (0.3.8)\n",
      "Requirement already satisfied: tokenizers>=0.11.5 in /home/cschroeder/.pyenv/versions/3.9.18/envs/notebooks/lib/python3.9/site-packages (from small-text[transformers]) (0.19.1)\n",
      "Requirement already satisfied: scipy in /home/cschroeder/.pyenv/versions/3.9.18/envs/notebooks/lib/python3.9/site-packages (from small-text[transformers]) (1.13.1)\n",
      "Requirement already satisfied: scikit-learn>=0.24.1 in /home/cschroeder/.pyenv/versions/3.9.18/envs/notebooks/lib/python3.9/site-packages (from small-text[transformers]) (1.5.0)\n",
      "Requirement already satisfied: numpy>=1.21.0 in /home/cschroeder/.pyenv/versions/3.9.18/envs/notebooks/lib/python3.9/site-packages (from small-text[transformers]) (1.26.4)\n",
      "Requirement already satisfied: tqdm in /home/cschroeder/.pyenv/versions/3.9.18/envs/notebooks/lib/python3.9/site-packages (from small-text[transformers]) (4.66.4)\n",
      "Requirement already satisfied: torch>=1.6.0 in /home/cschroeder/.pyenv/versions/3.9.18/envs/notebooks/lib/python3.9/site-packages (from small-text[transformers]) (2.3.0)\n",
      "Requirement already satisfied: transformers>=4.0.0 in /home/cschroeder/.pyenv/versions/3.9.18/envs/notebooks/lib/python3.9/site-packages (from small-text[transformers]) (4.44.0)\n",
      "Requirement already satisfied: joblib>=1.2.0 in /home/cschroeder/.pyenv/versions/3.9.18/envs/notebooks/lib/python3.9/site-packages (from scikit-learn>=0.24.1->small-text[transformers]) (1.4.2)\n",
      "Requirement already satisfied: threadpoolctl>=3.1.0 in /home/cschroeder/.pyenv/versions/3.9.18/envs/notebooks/lib/python3.9/site-packages (from scikit-learn>=0.24.1->small-text[transformers]) (3.5.0)\n",
      "Requirement already satisfied: huggingface-hub<1.0,>=0.16.4 in /home/cschroeder/.pyenv/versions/3.9.18/envs/notebooks/lib/python3.9/site-packages (from tokenizers>=0.11.5->small-text[transformers]) (0.24.5)\n",
      "Requirement already satisfied: filelock in /home/cschroeder/.pyenv/versions/3.9.18/envs/notebooks/lib/python3.9/site-packages (from torch>=1.6.0->small-text[transformers]) (3.14.0)\n",
      "Requirement already satisfied: networkx in /home/cschroeder/.pyenv/versions/3.9.18/envs/notebooks/lib/python3.9/site-packages (from torch>=1.6.0->small-text[transformers]) (3.2.1)\n",
      "Requirement already satisfied: nvidia-cuda-cupti-cu12==12.1.105 in /home/cschroeder/.pyenv/versions/3.9.18/envs/notebooks/lib/python3.9/site-packages (from torch>=1.6.0->small-text[transformers]) (12.1.105)\n",
      "Requirement already satisfied: nvidia-cudnn-cu12==8.9.2.26 in /home/cschroeder/.pyenv/versions/3.9.18/envs/notebooks/lib/python3.9/site-packages (from torch>=1.6.0->small-text[transformers]) (8.9.2.26)\n",
      "Requirement already satisfied: typing-extensions>=4.8.0 in /home/cschroeder/.pyenv/versions/3.9.18/envs/notebooks/lib/python3.9/site-packages (from torch>=1.6.0->small-text[transformers]) (4.11.0)\n",
      "Requirement already satisfied: nvidia-cuda-runtime-cu12==12.1.105 in /home/cschroeder/.pyenv/versions/3.9.18/envs/notebooks/lib/python3.9/site-packages (from torch>=1.6.0->small-text[transformers]) (12.1.105)\n",
      "Requirement already satisfied: nvidia-nvtx-cu12==12.1.105 in /home/cschroeder/.pyenv/versions/3.9.18/envs/notebooks/lib/python3.9/site-packages (from torch>=1.6.0->small-text[transformers]) (12.1.105)\n",
      "Requirement already satisfied: fsspec in /home/cschroeder/.pyenv/versions/3.9.18/envs/notebooks/lib/python3.9/site-packages (from torch>=1.6.0->small-text[transformers]) (2024.3.1)\n",
      "Requirement already satisfied: nvidia-cuda-nvrtc-cu12==12.1.105 in /home/cschroeder/.pyenv/versions/3.9.18/envs/notebooks/lib/python3.9/site-packages (from torch>=1.6.0->small-text[transformers]) (12.1.105)\n",
      "Requirement already satisfied: nvidia-curand-cu12==10.3.2.106 in /home/cschroeder/.pyenv/versions/3.9.18/envs/notebooks/lib/python3.9/site-packages (from torch>=1.6.0->small-text[transformers]) (10.3.2.106)\n",
      "Requirement already satisfied: nvidia-cusolver-cu12==11.4.5.107 in /home/cschroeder/.pyenv/versions/3.9.18/envs/notebooks/lib/python3.9/site-packages (from torch>=1.6.0->small-text[transformers]) (11.4.5.107)\n",
      "Requirement already satisfied: triton==2.3.0 in /home/cschroeder/.pyenv/versions/3.9.18/envs/notebooks/lib/python3.9/site-packages (from torch>=1.6.0->small-text[transformers]) (2.3.0)\n",
      "Requirement already satisfied: sympy in /home/cschroeder/.pyenv/versions/3.9.18/envs/notebooks/lib/python3.9/site-packages (from torch>=1.6.0->small-text[transformers]) (1.12)\n",
      "Requirement already satisfied: nvidia-nccl-cu12==2.20.5 in /home/cschroeder/.pyenv/versions/3.9.18/envs/notebooks/lib/python3.9/site-packages (from torch>=1.6.0->small-text[transformers]) (2.20.5)\n",
      "Requirement already satisfied: nvidia-cublas-cu12==12.1.3.1 in /home/cschroeder/.pyenv/versions/3.9.18/envs/notebooks/lib/python3.9/site-packages (from torch>=1.6.0->small-text[transformers]) (12.1.3.1)\n",
      "Requirement already satisfied: nvidia-cusparse-cu12==12.1.0.106 in /home/cschroeder/.pyenv/versions/3.9.18/envs/notebooks/lib/python3.9/site-packages (from torch>=1.6.0->small-text[transformers]) (12.1.0.106)\n",
      "Requirement already satisfied: jinja2 in /home/cschroeder/.pyenv/versions/3.9.18/envs/notebooks/lib/python3.9/site-packages (from torch>=1.6.0->small-text[transformers]) (3.1.4)\n",
      "Requirement already satisfied: nvidia-cufft-cu12==11.0.2.54 in /home/cschroeder/.pyenv/versions/3.9.18/envs/notebooks/lib/python3.9/site-packages (from torch>=1.6.0->small-text[transformers]) (11.0.2.54)\n",
      "Requirement already satisfied: nvidia-nvjitlink-cu12 in /home/cschroeder/.pyenv/versions/3.9.18/envs/notebooks/lib/python3.9/site-packages (from nvidia-cusolver-cu12==11.4.5.107->torch>=1.6.0->small-text[transformers]) (12.5.40)\n",
      "Requirement already satisfied: pyyaml>=5.1 in /home/cschroeder/.pyenv/versions/3.9.18/envs/notebooks/lib/python3.9/site-packages (from transformers>=4.0.0->small-text[transformers]) (6.0.1)\n",
      "Requirement already satisfied: regex!=2019.12.17 in /home/cschroeder/.pyenv/versions/3.9.18/envs/notebooks/lib/python3.9/site-packages (from transformers>=4.0.0->small-text[transformers]) (2024.5.15)\n",
      "Requirement already satisfied: safetensors>=0.4.1 in /home/cschroeder/.pyenv/versions/3.9.18/envs/notebooks/lib/python3.9/site-packages (from transformers>=4.0.0->small-text[transformers]) (0.4.3)\n",
      "Requirement already satisfied: requests in /home/cschroeder/.pyenv/versions/3.9.18/envs/notebooks/lib/python3.9/site-packages (from transformers>=4.0.0->small-text[transformers]) (2.32.1)\n",
      "Requirement already satisfied: MarkupSafe>=2.0 in /home/cschroeder/.pyenv/versions/3.9.18/envs/notebooks/lib/python3.9/site-packages (from jinja2->torch>=1.6.0->small-text[transformers]) (2.1.5)\n",
      "Requirement already satisfied: charset-normalizer<4,>=2 in /home/cschroeder/.pyenv/versions/3.9.18/envs/notebooks/lib/python3.9/site-packages (from requests->transformers>=4.0.0->small-text[transformers]) (3.3.2)\n",
      "Requirement already satisfied: idna<4,>=2.5 in /home/cschroeder/.pyenv/versions/3.9.18/envs/notebooks/lib/python3.9/site-packages (from requests->transformers>=4.0.0->small-text[transformers]) (3.7)\n",
      "Requirement already satisfied: certifi>=2017.4.17 in /home/cschroeder/.pyenv/versions/3.9.18/envs/notebooks/lib/python3.9/site-packages (from requests->transformers>=4.0.0->small-text[transformers]) (2024.2.2)\n",
      "Requirement already satisfied: urllib3<3,>=1.21.1 in /home/cschroeder/.pyenv/versions/3.9.18/envs/notebooks/lib/python3.9/site-packages (from requests->transformers>=4.0.0->small-text[transformers]) (2.2.1)\n",
      "Requirement already satisfied: mpmath>=0.19 in /home/cschroeder/.pyenv/versions/3.9.18/envs/notebooks/lib/python3.9/site-packages (from sympy->torch>=1.6.0->small-text[transformers]) (1.3.0)\n",
      "\n",
      "\u001b[1m[\u001b[0m\u001b[34;49mnotice\u001b[0m\u001b[1;39;49m]\u001b[0m\u001b[39;49m A new release of pip is available: \u001b[0m\u001b[31;49m23.0.1\u001b[0m\u001b[39;49m -> \u001b[0m\u001b[32;49m24.3.1\u001b[0m\n",
      "\u001b[1m[\u001b[0m\u001b[34;49mnotice\u001b[0m\u001b[1;39;49m]\u001b[0m\u001b[39;49m To update, run: \u001b[0m\u001b[32;49mpython3.9 -m pip install --upgrade pip\u001b[0m\n",
      "Note: you may need to restart the kernel to use updated packages.\n",
      "Requirement already satisfied: setfit==1.1.0 in /home/cschroeder/.pyenv/versions/3.9.18/envs/notebooks/lib/python3.9/site-packages (1.1.0)\n",
      "Requirement already satisfied: evaluate>=0.3.0 in /home/cschroeder/.pyenv/versions/3.9.18/envs/notebooks/lib/python3.9/site-packages (from setfit==1.1.0) (0.4.2)\n",
      "Requirement already satisfied: sentence-transformers[train]>=3 in /home/cschroeder/.pyenv/versions/3.9.18/envs/notebooks/lib/python3.9/site-packages (from setfit==1.1.0) (3.0.1)\n",
      "Requirement already satisfied: scikit-learn in /home/cschroeder/.pyenv/versions/3.9.18/envs/notebooks/lib/python3.9/site-packages (from setfit==1.1.0) (1.5.0)\n",
      "Requirement already satisfied: datasets>=2.15.0 in /home/cschroeder/.pyenv/versions/3.9.18/envs/notebooks/lib/python3.9/site-packages (from setfit==1.1.0) (2.19.1)\n",
      "Requirement already satisfied: huggingface-hub>=0.23.0 in /home/cschroeder/.pyenv/versions/3.9.18/envs/notebooks/lib/python3.9/site-packages (from setfit==1.1.0) (0.24.5)\n",
      "Requirement already satisfied: packaging in /home/cschroeder/.pyenv/versions/3.9.18/envs/notebooks/lib/python3.9/site-packages (from setfit==1.1.0) (24.1)\n",
      "Requirement already satisfied: transformers>=4.41.0 in /home/cschroeder/.pyenv/versions/3.9.18/envs/notebooks/lib/python3.9/site-packages (from setfit==1.1.0) (4.44.0)\n",
      "Requirement already satisfied: requests>=2.19.0 in /home/cschroeder/.pyenv/versions/3.9.18/envs/notebooks/lib/python3.9/site-packages (from datasets>=2.15.0->setfit==1.1.0) (2.32.1)\n",
      "Requirement already satisfied: fsspec[http]<=2024.3.1,>=2023.1.0 in /home/cschroeder/.pyenv/versions/3.9.18/envs/notebooks/lib/python3.9/site-packages (from datasets>=2.15.0->setfit==1.1.0) (2024.3.1)\n",
      "Requirement already satisfied: numpy>=1.17 in /home/cschroeder/.pyenv/versions/3.9.18/envs/notebooks/lib/python3.9/site-packages (from datasets>=2.15.0->setfit==1.1.0) (1.26.4)\n",
      "Requirement already satisfied: pyarrow-hotfix in /home/cschroeder/.pyenv/versions/3.9.18/envs/notebooks/lib/python3.9/site-packages (from datasets>=2.15.0->setfit==1.1.0) (0.6)\n",
      "Requirement already satisfied: filelock in /home/cschroeder/.pyenv/versions/3.9.18/envs/notebooks/lib/python3.9/site-packages (from datasets>=2.15.0->setfit==1.1.0) (3.14.0)\n",
      "Requirement already satisfied: pyyaml>=5.1 in /home/cschroeder/.pyenv/versions/3.9.18/envs/notebooks/lib/python3.9/site-packages (from datasets>=2.15.0->setfit==1.1.0) (6.0.1)\n",
      "Requirement already satisfied: dill<0.3.9,>=0.3.0 in /home/cschroeder/.pyenv/versions/3.9.18/envs/notebooks/lib/python3.9/site-packages (from datasets>=2.15.0->setfit==1.1.0) (0.3.8)\n",
      "Requirement already satisfied: aiohttp in /home/cschroeder/.pyenv/versions/3.9.18/envs/notebooks/lib/python3.9/site-packages (from datasets>=2.15.0->setfit==1.1.0) (3.9.5)\n",
      "Requirement already satisfied: tqdm>=4.62.1 in /home/cschroeder/.pyenv/versions/3.9.18/envs/notebooks/lib/python3.9/site-packages (from datasets>=2.15.0->setfit==1.1.0) (4.66.4)\n",
      "Requirement already satisfied: pandas in /home/cschroeder/.pyenv/versions/3.9.18/envs/notebooks/lib/python3.9/site-packages (from datasets>=2.15.0->setfit==1.1.0) (2.2.2)\n",
      "Requirement already satisfied: pyarrow>=12.0.0 in /home/cschroeder/.pyenv/versions/3.9.18/envs/notebooks/lib/python3.9/site-packages (from datasets>=2.15.0->setfit==1.1.0) (16.1.0)\n",
      "Requirement already satisfied: xxhash in /home/cschroeder/.pyenv/versions/3.9.18/envs/notebooks/lib/python3.9/site-packages (from datasets>=2.15.0->setfit==1.1.0) (3.4.1)\n",
      "Requirement already satisfied: multiprocess in /home/cschroeder/.pyenv/versions/3.9.18/envs/notebooks/lib/python3.9/site-packages (from datasets>=2.15.0->setfit==1.1.0) (0.70.16)\n",
      "Requirement already satisfied: typing-extensions>=3.7.4.3 in /home/cschroeder/.pyenv/versions/3.9.18/envs/notebooks/lib/python3.9/site-packages (from huggingface-hub>=0.23.0->setfit==1.1.0) (4.11.0)\n",
      "Requirement already satisfied: scipy in /home/cschroeder/.pyenv/versions/3.9.18/envs/notebooks/lib/python3.9/site-packages (from sentence-transformers[train]>=3->setfit==1.1.0) (1.13.1)\n",
      "Requirement already satisfied: Pillow in /home/cschroeder/.pyenv/versions/3.9.18/envs/notebooks/lib/python3.9/site-packages (from sentence-transformers[train]>=3->setfit==1.1.0) (10.4.0)\n",
      "Requirement already satisfied: torch>=1.11.0 in /home/cschroeder/.pyenv/versions/3.9.18/envs/notebooks/lib/python3.9/site-packages (from sentence-transformers[train]>=3->setfit==1.1.0) (2.3.0)\n",
      "Requirement already satisfied: accelerate>=0.20.3 in /home/cschroeder/.pyenv/versions/3.9.18/envs/notebooks/lib/python3.9/site-packages (from sentence-transformers[train]>=3->setfit==1.1.0) (0.33.0)\n",
      "Requirement already satisfied: safetensors>=0.4.1 in /home/cschroeder/.pyenv/versions/3.9.18/envs/notebooks/lib/python3.9/site-packages (from transformers>=4.41.0->setfit==1.1.0) (0.4.3)\n",
      "Requirement already satisfied: tokenizers<0.20,>=0.19 in /home/cschroeder/.pyenv/versions/3.9.18/envs/notebooks/lib/python3.9/site-packages (from transformers>=4.41.0->setfit==1.1.0) (0.19.1)\n",
      "Requirement already satisfied: regex!=2019.12.17 in /home/cschroeder/.pyenv/versions/3.9.18/envs/notebooks/lib/python3.9/site-packages (from transformers>=4.41.0->setfit==1.1.0) (2024.5.15)\n",
      "Requirement already satisfied: joblib>=1.2.0 in /home/cschroeder/.pyenv/versions/3.9.18/envs/notebooks/lib/python3.9/site-packages (from scikit-learn->setfit==1.1.0) (1.4.2)\n",
      "Requirement already satisfied: threadpoolctl>=3.1.0 in /home/cschroeder/.pyenv/versions/3.9.18/envs/notebooks/lib/python3.9/site-packages (from scikit-learn->setfit==1.1.0) (3.5.0)\n",
      "Requirement already satisfied: psutil in /home/cschroeder/.pyenv/versions/3.9.18/envs/notebooks/lib/python3.9/site-packages (from accelerate>=0.20.3->sentence-transformers[train]>=3->setfit==1.1.0) (5.9.8)\n",
      "Requirement already satisfied: multidict<7.0,>=4.5 in /home/cschroeder/.pyenv/versions/3.9.18/envs/notebooks/lib/python3.9/site-packages (from aiohttp->datasets>=2.15.0->setfit==1.1.0) (6.0.5)\n",
      "Requirement already satisfied: yarl<2.0,>=1.0 in /home/cschroeder/.pyenv/versions/3.9.18/envs/notebooks/lib/python3.9/site-packages (from aiohttp->datasets>=2.15.0->setfit==1.1.0) (1.9.4)\n",
      "Requirement already satisfied: frozenlist>=1.1.1 in /home/cschroeder/.pyenv/versions/3.9.18/envs/notebooks/lib/python3.9/site-packages (from aiohttp->datasets>=2.15.0->setfit==1.1.0) (1.4.1)\n",
      "Requirement already satisfied: aiosignal>=1.1.2 in /home/cschroeder/.pyenv/versions/3.9.18/envs/notebooks/lib/python3.9/site-packages (from aiohttp->datasets>=2.15.0->setfit==1.1.0) (1.3.1)\n",
      "Requirement already satisfied: attrs>=17.3.0 in /home/cschroeder/.pyenv/versions/3.9.18/envs/notebooks/lib/python3.9/site-packages (from aiohttp->datasets>=2.15.0->setfit==1.1.0) (23.2.0)\n",
      "Requirement already satisfied: async-timeout<5.0,>=4.0 in /home/cschroeder/.pyenv/versions/3.9.18/envs/notebooks/lib/python3.9/site-packages (from aiohttp->datasets>=2.15.0->setfit==1.1.0) (4.0.3)\n",
      "Requirement already satisfied: idna<4,>=2.5 in /home/cschroeder/.pyenv/versions/3.9.18/envs/notebooks/lib/python3.9/site-packages (from requests>=2.19.0->datasets>=2.15.0->setfit==1.1.0) (3.7)\n",
      "Requirement already satisfied: certifi>=2017.4.17 in /home/cschroeder/.pyenv/versions/3.9.18/envs/notebooks/lib/python3.9/site-packages (from requests>=2.19.0->datasets>=2.15.0->setfit==1.1.0) (2024.2.2)\n",
      "Requirement already satisfied: charset-normalizer<4,>=2 in /home/cschroeder/.pyenv/versions/3.9.18/envs/notebooks/lib/python3.9/site-packages (from requests>=2.19.0->datasets>=2.15.0->setfit==1.1.0) (3.3.2)\n",
      "Requirement already satisfied: urllib3<3,>=1.21.1 in /home/cschroeder/.pyenv/versions/3.9.18/envs/notebooks/lib/python3.9/site-packages (from requests>=2.19.0->datasets>=2.15.0->setfit==1.1.0) (2.2.1)\n",
      "Requirement already satisfied: nvidia-curand-cu12==10.3.2.106 in /home/cschroeder/.pyenv/versions/3.9.18/envs/notebooks/lib/python3.9/site-packages (from torch>=1.11.0->sentence-transformers[train]>=3->setfit==1.1.0) (10.3.2.106)\n",
      "Requirement already satisfied: triton==2.3.0 in /home/cschroeder/.pyenv/versions/3.9.18/envs/notebooks/lib/python3.9/site-packages (from torch>=1.11.0->sentence-transformers[train]>=3->setfit==1.1.0) (2.3.0)\n",
      "Requirement already satisfied: nvidia-cuda-cupti-cu12==12.1.105 in /home/cschroeder/.pyenv/versions/3.9.18/envs/notebooks/lib/python3.9/site-packages (from torch>=1.11.0->sentence-transformers[train]>=3->setfit==1.1.0) (12.1.105)\n",
      "Requirement already satisfied: nvidia-cublas-cu12==12.1.3.1 in /home/cschroeder/.pyenv/versions/3.9.18/envs/notebooks/lib/python3.9/site-packages (from torch>=1.11.0->sentence-transformers[train]>=3->setfit==1.1.0) (12.1.3.1)\n",
      "Requirement already satisfied: nvidia-nvtx-cu12==12.1.105 in /home/cschroeder/.pyenv/versions/3.9.18/envs/notebooks/lib/python3.9/site-packages (from torch>=1.11.0->sentence-transformers[train]>=3->setfit==1.1.0) (12.1.105)\n",
      "Requirement already satisfied: nvidia-cudnn-cu12==8.9.2.26 in /home/cschroeder/.pyenv/versions/3.9.18/envs/notebooks/lib/python3.9/site-packages (from torch>=1.11.0->sentence-transformers[train]>=3->setfit==1.1.0) (8.9.2.26)\n",
      "Requirement already satisfied: nvidia-cuda-runtime-cu12==12.1.105 in /home/cschroeder/.pyenv/versions/3.9.18/envs/notebooks/lib/python3.9/site-packages (from torch>=1.11.0->sentence-transformers[train]>=3->setfit==1.1.0) (12.1.105)\n",
      "Requirement already satisfied: nvidia-cufft-cu12==11.0.2.54 in /home/cschroeder/.pyenv/versions/3.9.18/envs/notebooks/lib/python3.9/site-packages (from torch>=1.11.0->sentence-transformers[train]>=3->setfit==1.1.0) (11.0.2.54)\n",
      "Requirement already satisfied: nvidia-cuda-nvrtc-cu12==12.1.105 in /home/cschroeder/.pyenv/versions/3.9.18/envs/notebooks/lib/python3.9/site-packages (from torch>=1.11.0->sentence-transformers[train]>=3->setfit==1.1.0) (12.1.105)\n",
      "Requirement already satisfied: nvidia-cusolver-cu12==11.4.5.107 in /home/cschroeder/.pyenv/versions/3.9.18/envs/notebooks/lib/python3.9/site-packages (from torch>=1.11.0->sentence-transformers[train]>=3->setfit==1.1.0) (11.4.5.107)\n",
      "Requirement already satisfied: sympy in /home/cschroeder/.pyenv/versions/3.9.18/envs/notebooks/lib/python3.9/site-packages (from torch>=1.11.0->sentence-transformers[train]>=3->setfit==1.1.0) (1.12)\n",
      "Requirement already satisfied: nvidia-cusparse-cu12==12.1.0.106 in /home/cschroeder/.pyenv/versions/3.9.18/envs/notebooks/lib/python3.9/site-packages (from torch>=1.11.0->sentence-transformers[train]>=3->setfit==1.1.0) (12.1.0.106)\n",
      "Requirement already satisfied: networkx in /home/cschroeder/.pyenv/versions/3.9.18/envs/notebooks/lib/python3.9/site-packages (from torch>=1.11.0->sentence-transformers[train]>=3->setfit==1.1.0) (3.2.1)\n",
      "Requirement already satisfied: nvidia-nccl-cu12==2.20.5 in /home/cschroeder/.pyenv/versions/3.9.18/envs/notebooks/lib/python3.9/site-packages (from torch>=1.11.0->sentence-transformers[train]>=3->setfit==1.1.0) (2.20.5)\n",
      "Requirement already satisfied: jinja2 in /home/cschroeder/.pyenv/versions/3.9.18/envs/notebooks/lib/python3.9/site-packages (from torch>=1.11.0->sentence-transformers[train]>=3->setfit==1.1.0) (3.1.4)\n",
      "Requirement already satisfied: nvidia-nvjitlink-cu12 in /home/cschroeder/.pyenv/versions/3.9.18/envs/notebooks/lib/python3.9/site-packages (from nvidia-cusolver-cu12==11.4.5.107->torch>=1.11.0->sentence-transformers[train]>=3->setfit==1.1.0) (12.5.40)\n",
      "Requirement already satisfied: tzdata>=2022.7 in /home/cschroeder/.pyenv/versions/3.9.18/envs/notebooks/lib/python3.9/site-packages (from pandas->datasets>=2.15.0->setfit==1.1.0) (2024.1)\n",
      "Requirement already satisfied: python-dateutil>=2.8.2 in /home/cschroeder/.pyenv/versions/3.9.18/envs/notebooks/lib/python3.9/site-packages (from pandas->datasets>=2.15.0->setfit==1.1.0) (2.9.0.post0)\n",
      "Requirement already satisfied: pytz>=2020.1 in /home/cschroeder/.pyenv/versions/3.9.18/envs/notebooks/lib/python3.9/site-packages (from pandas->datasets>=2.15.0->setfit==1.1.0) (2024.1)\n",
      "Requirement already satisfied: six>=1.5 in /home/cschroeder/.pyenv/versions/3.9.18/envs/notebooks/lib/python3.9/site-packages (from python-dateutil>=2.8.2->pandas->datasets>=2.15.0->setfit==1.1.0) (1.16.0)\n",
      "Requirement already satisfied: MarkupSafe>=2.0 in /home/cschroeder/.pyenv/versions/3.9.18/envs/notebooks/lib/python3.9/site-packages (from jinja2->torch>=1.11.0->sentence-transformers[train]>=3->setfit==1.1.0) (2.1.5)\n",
      "Requirement already satisfied: mpmath>=0.19 in /home/cschroeder/.pyenv/versions/3.9.18/envs/notebooks/lib/python3.9/site-packages (from sympy->torch>=1.11.0->sentence-transformers[train]>=3->setfit==1.1.0) (1.3.0)\n",
      "\n",
      "\u001b[1m[\u001b[0m\u001b[34;49mnotice\u001b[0m\u001b[1;39;49m]\u001b[0m\u001b[39;49m A new release of pip is available: \u001b[0m\u001b[31;49m23.0.1\u001b[0m\u001b[39;49m -> \u001b[0m\u001b[32;49m24.3.1\u001b[0m\n",
      "\u001b[1m[\u001b[0m\u001b[34;49mnotice\u001b[0m\u001b[1;39;49m]\u001b[0m\u001b[39;49m To update, run: \u001b[0m\u001b[32;49mpython3.9 -m pip install --upgrade pip\u001b[0m\n",
      "Note: you may need to restart the kernel to use updated packages.\n",
      "Requirement already satisfied: datasets in /home/cschroeder/.pyenv/versions/3.9.18/envs/notebooks/lib/python3.9/site-packages (2.19.1)\n",
      "Requirement already satisfied: pyarrow-hotfix in /home/cschroeder/.pyenv/versions/3.9.18/envs/notebooks/lib/python3.9/site-packages (from datasets) (0.6)\n",
      "Requirement already satisfied: requests>=2.19.0 in /home/cschroeder/.pyenv/versions/3.9.18/envs/notebooks/lib/python3.9/site-packages (from datasets) (2.32.1)\n",
      "Requirement already satisfied: packaging in /home/cschroeder/.pyenv/versions/3.9.18/envs/notebooks/lib/python3.9/site-packages (from datasets) (24.1)\n",
      "Requirement already satisfied: huggingface-hub>=0.21.2 in /home/cschroeder/.pyenv/versions/3.9.18/envs/notebooks/lib/python3.9/site-packages (from datasets) (0.24.5)\n",
      "Requirement already satisfied: numpy>=1.17 in /home/cschroeder/.pyenv/versions/3.9.18/envs/notebooks/lib/python3.9/site-packages (from datasets) (1.26.4)\n",
      "Requirement already satisfied: dill<0.3.9,>=0.3.0 in /home/cschroeder/.pyenv/versions/3.9.18/envs/notebooks/lib/python3.9/site-packages (from datasets) (0.3.8)\n",
      "Requirement already satisfied: pyyaml>=5.1 in /home/cschroeder/.pyenv/versions/3.9.18/envs/notebooks/lib/python3.9/site-packages (from datasets) (6.0.1)\n",
      "Requirement already satisfied: multiprocess in /home/cschroeder/.pyenv/versions/3.9.18/envs/notebooks/lib/python3.9/site-packages (from datasets) (0.70.16)\n",
      "Requirement already satisfied: xxhash in /home/cschroeder/.pyenv/versions/3.9.18/envs/notebooks/lib/python3.9/site-packages (from datasets) (3.4.1)\n",
      "Requirement already satisfied: fsspec[http]<=2024.3.1,>=2023.1.0 in /home/cschroeder/.pyenv/versions/3.9.18/envs/notebooks/lib/python3.9/site-packages (from datasets) (2024.3.1)\n",
      "Requirement already satisfied: filelock in /home/cschroeder/.pyenv/versions/3.9.18/envs/notebooks/lib/python3.9/site-packages (from datasets) (3.14.0)\n",
      "Requirement already satisfied: pandas in /home/cschroeder/.pyenv/versions/3.9.18/envs/notebooks/lib/python3.9/site-packages (from datasets) (2.2.2)\n",
      "Requirement already satisfied: tqdm>=4.62.1 in /home/cschroeder/.pyenv/versions/3.9.18/envs/notebooks/lib/python3.9/site-packages (from datasets) (4.66.4)\n",
      "Requirement already satisfied: pyarrow>=12.0.0 in /home/cschroeder/.pyenv/versions/3.9.18/envs/notebooks/lib/python3.9/site-packages (from datasets) (16.1.0)\n",
      "Requirement already satisfied: aiohttp in /home/cschroeder/.pyenv/versions/3.9.18/envs/notebooks/lib/python3.9/site-packages (from datasets) (3.9.5)\n",
      "Requirement already satisfied: attrs>=17.3.0 in /home/cschroeder/.pyenv/versions/3.9.18/envs/notebooks/lib/python3.9/site-packages (from aiohttp->datasets) (23.2.0)\n",
      "Requirement already satisfied: yarl<2.0,>=1.0 in /home/cschroeder/.pyenv/versions/3.9.18/envs/notebooks/lib/python3.9/site-packages (from aiohttp->datasets) (1.9.4)\n",
      "Requirement already satisfied: frozenlist>=1.1.1 in /home/cschroeder/.pyenv/versions/3.9.18/envs/notebooks/lib/python3.9/site-packages (from aiohttp->datasets) (1.4.1)\n",
      "Requirement already satisfied: aiosignal>=1.1.2 in /home/cschroeder/.pyenv/versions/3.9.18/envs/notebooks/lib/python3.9/site-packages (from aiohttp->datasets) (1.3.1)\n",
      "Requirement already satisfied: multidict<7.0,>=4.5 in /home/cschroeder/.pyenv/versions/3.9.18/envs/notebooks/lib/python3.9/site-packages (from aiohttp->datasets) (6.0.5)\n",
      "Requirement already satisfied: async-timeout<5.0,>=4.0 in /home/cschroeder/.pyenv/versions/3.9.18/envs/notebooks/lib/python3.9/site-packages (from aiohttp->datasets) (4.0.3)\n",
      "Requirement already satisfied: typing-extensions>=3.7.4.3 in /home/cschroeder/.pyenv/versions/3.9.18/envs/notebooks/lib/python3.9/site-packages (from huggingface-hub>=0.21.2->datasets) (4.11.0)\n",
      "Requirement already satisfied: idna<4,>=2.5 in /home/cschroeder/.pyenv/versions/3.9.18/envs/notebooks/lib/python3.9/site-packages (from requests>=2.19.0->datasets) (3.7)\n",
      "Requirement already satisfied: urllib3<3,>=1.21.1 in /home/cschroeder/.pyenv/versions/3.9.18/envs/notebooks/lib/python3.9/site-packages (from requests>=2.19.0->datasets) (2.2.1)\n",
      "Requirement already satisfied: certifi>=2017.4.17 in /home/cschroeder/.pyenv/versions/3.9.18/envs/notebooks/lib/python3.9/site-packages (from requests>=2.19.0->datasets) (2024.2.2)\n",
      "Requirement already satisfied: charset-normalizer<4,>=2 in /home/cschroeder/.pyenv/versions/3.9.18/envs/notebooks/lib/python3.9/site-packages (from requests>=2.19.0->datasets) (3.3.2)\n",
      "Requirement already satisfied: pytz>=2020.1 in /home/cschroeder/.pyenv/versions/3.9.18/envs/notebooks/lib/python3.9/site-packages (from pandas->datasets) (2024.1)\n",
      "Requirement already satisfied: python-dateutil>=2.8.2 in /home/cschroeder/.pyenv/versions/3.9.18/envs/notebooks/lib/python3.9/site-packages (from pandas->datasets) (2.9.0.post0)\n",
      "Requirement already satisfied: tzdata>=2022.7 in /home/cschroeder/.pyenv/versions/3.9.18/envs/notebooks/lib/python3.9/site-packages (from pandas->datasets) (2024.1)\n",
      "Requirement already satisfied: six>=1.5 in /home/cschroeder/.pyenv/versions/3.9.18/envs/notebooks/lib/python3.9/site-packages (from python-dateutil>=2.8.2->pandas->datasets) (1.16.0)\n",
      "\n",
      "\u001b[1m[\u001b[0m\u001b[34;49mnotice\u001b[0m\u001b[1;39;49m]\u001b[0m\u001b[39;49m A new release of pip is available: \u001b[0m\u001b[31;49m23.0.1\u001b[0m\u001b[39;49m -> \u001b[0m\u001b[32;49m24.3.1\u001b[0m\n",
      "\u001b[1m[\u001b[0m\u001b[34;49mnotice\u001b[0m\u001b[1;39;49m]\u001b[0m\u001b[39;49m To update, run: \u001b[0m\u001b[32;49mpython3.9 -m pip install --upgrade pip\u001b[0m\n",
      "Note: you may need to restart the kernel to use updated packages.\n",
      "Requirement already satisfied: matplotlib in /home/cschroeder/.pyenv/versions/3.9.18/envs/notebooks/lib/python3.9/site-packages (3.9.0)\n",
      "Requirement already satisfied: pyparsing>=2.3.1 in /home/cschroeder/.pyenv/versions/3.9.18/envs/notebooks/lib/python3.9/site-packages (from matplotlib) (3.1.2)\n",
      "Requirement already satisfied: contourpy>=1.0.1 in /home/cschroeder/.pyenv/versions/3.9.18/envs/notebooks/lib/python3.9/site-packages (from matplotlib) (1.2.1)\n",
      "Requirement already satisfied: cycler>=0.10 in /home/cschroeder/.pyenv/versions/3.9.18/envs/notebooks/lib/python3.9/site-packages (from matplotlib) (0.12.1)\n",
      "Requirement already satisfied: packaging>=20.0 in /home/cschroeder/.pyenv/versions/3.9.18/envs/notebooks/lib/python3.9/site-packages (from matplotlib) (24.1)\n",
      "Requirement already satisfied: kiwisolver>=1.3.1 in /home/cschroeder/.pyenv/versions/3.9.18/envs/notebooks/lib/python3.9/site-packages (from matplotlib) (1.4.5)\n",
      "Requirement already satisfied: fonttools>=4.22.0 in /home/cschroeder/.pyenv/versions/3.9.18/envs/notebooks/lib/python3.9/site-packages (from matplotlib) (4.53.1)\n",
      "Requirement already satisfied: numpy>=1.23 in /home/cschroeder/.pyenv/versions/3.9.18/envs/notebooks/lib/python3.9/site-packages (from matplotlib) (1.26.4)\n",
      "Requirement already satisfied: importlib-resources>=3.2.0 in /home/cschroeder/.pyenv/versions/3.9.18/envs/notebooks/lib/python3.9/site-packages (from matplotlib) (6.4.2)\n",
      "Requirement already satisfied: pillow>=8 in /home/cschroeder/.pyenv/versions/3.9.18/envs/notebooks/lib/python3.9/site-packages (from matplotlib) (10.4.0)\n",
      "Requirement already satisfied: python-dateutil>=2.7 in /home/cschroeder/.pyenv/versions/3.9.18/envs/notebooks/lib/python3.9/site-packages (from matplotlib) (2.9.0.post0)\n",
      "Requirement already satisfied: zipp>=3.1.0 in /home/cschroeder/.pyenv/versions/3.9.18/envs/notebooks/lib/python3.9/site-packages (from importlib-resources>=3.2.0->matplotlib) (3.20.0)\n",
      "Requirement already satisfied: six>=1.5 in /home/cschroeder/.pyenv/versions/3.9.18/envs/notebooks/lib/python3.9/site-packages (from python-dateutil>=2.7->matplotlib) (1.16.0)\n",
      "\n",
      "\u001b[1m[\u001b[0m\u001b[34;49mnotice\u001b[0m\u001b[1;39;49m]\u001b[0m\u001b[39;49m A new release of pip is available: \u001b[0m\u001b[31;49m23.0.1\u001b[0m\u001b[39;49m -> \u001b[0m\u001b[32;49m24.3.1\u001b[0m\n",
      "\u001b[1m[\u001b[0m\u001b[34;49mnotice\u001b[0m\u001b[1;39;49m]\u001b[0m\u001b[39;49m To update, run: \u001b[0m\u001b[32;49mpython3.9 -m pip install --upgrade pip\u001b[0m\n",
      "Note: you may need to restart the kernel to use updated packages.\n",
      "env: TOKENIZERS_PARALLELISM=false\n"
     ]
    }
   ],
   "source": [
    "%pip install small-text[transformers]==2.0.0dev1\n",
    "\n",
    "# setfit is an optional dependency and must be installed as well\n",
    "%pip install setfit==1.1.0\n",
    "%pip install datasets\n",
    "%pip install matplotlib\n",
    "\n",
    "%env TOKENIZERS_PARALLELISM=false\n",
    "\n",
    "import logging\n",
    "import warnings\n",
    "\n",
    "import datasets\n",
    "import matplotlib.pyplot as plt\n",
    "\n",
    "plt.rc('figure', titlesize=22)\n",
    "plt.rc('axes', titlesize=22, labelsize=20, linewidth=1.2)\n",
    "plt.rc('xtick', labelsize=14)\n",
    "plt.rc('ytick', labelsize=14)\n",
    "plt.rc('legend', fontsize=16)\n",
    "plt.rc('lines', linewidth=2)\n",
    "\n",
    "datasets.logging.set_verbosity_error()\n",
    "\n",
    "# disables the progress bar for notebooks: https://github.com/huggingface/datasets/issues/2651\n",
    "datasets.logging.get_verbosity = lambda: logging.NOTSET\n",
    "\n",
    "for logger_name in ['setfit.modeling', 'setfit.trainer', 'sentence_transformers']:\n",
    "    logger = logging.getLogger(logger_name)\n",
    "    logger.setLevel(logging.ERROR)\n",
    "\n",
    "warnings.filterwarnings(action='ignore', category=FutureWarning, message=r'.*`clean_up_tokenization_spaces` was not set.*')"
   ]
  },
  {
   "cell_type": "markdown",
   "id": "bdf5fd19",
   "metadata": {},
   "source": [
    "----\n",
    "\n",
    "<a id=\"nb4-part2-data\"></a>\n",
    "## II. Loading the Data\n",
    "\n",
    "We use the \"AG's News\" dataset for this demonstration. It consists of news articles which are categorized into four mutually exclusive classes."
   ]
  },
  {
   "cell_type": "code",
   "execution_count": 2,
   "id": "754e5b56",
   "metadata": {},
   "outputs": [
    {
     "name": "stdout",
     "output_type": "stream",
     "text": [
      "First 10 training samples:\n",
      "\n",
      "2   Wall St. Bears Claw Back Into the Black (Reuters) Reuters - Short-sellers, Wall Street's dwindling\\band of ultra-cynics, are seeing green again.\n",
      "2   Carlyle Looks Toward Commercial Aerospace (Reuters) Reuters - Private investment firm Carlyle Group,\\which has a reputation for making well-timed and occasionally\\controversial plays in the defense industry, has quietly placed\\its bets on another part of the market.\n",
      "2   Oil and Economy Cloud Stocks' Outlook (Reuters) Reuters - Soaring crude prices plus worries\\about the economy and the outlook for earnings are expected to\\hang over the stock market next week during the depth of the\\summer doldrums.\n",
      "2   Iraq Halts Oil Exports from Main Southern Pipeline (Reuters) Reuters - Authorities have halted oil export\\flows from the main pipeline in southern Iraq after\\intelligence showed a rebel militia could strike\\infrastructure, an oil official said on Saturday.\n",
      "2   Oil prices soar to all-time record, posing new menace to US economy (AFP) AFP - Tearaway world oil prices, toppling records and straining wallets, present a new economic menace barely three months before the US presidential elections.\n",
      "2   Stocks End Up, But Near Year Lows (Reuters) Reuters - Stocks ended slightly higher on Friday\\but stayed near lows for the year as oil prices surged past  #36;46\\a barrel, offsetting a positive outlook from computer maker\\Dell Inc. (DELL.O)\n",
      "2   Money Funds Fell in Latest Week (AP) AP - Assets of the nation's retail money market mutual funds fell by  #36;1.17 billion in the latest week to  #36;849.98 trillion, the Investment Company Institute said Thursday.\n",
      "2   Fed minutes show dissent over inflation (USATODAY.com) USATODAY.com - Retail sales bounced back a bit in July, and new claims for jobless benefits fell last week, the government said Thursday, indicating the economy is improving from a midsummer slump.\n",
      "2   Safety Net (Forbes.com) Forbes.com - After earning a PH.D. in Sociology, Danny Bazil Riley started to work as the general manager at a commercial real estate firm at an annual base salary of  #36;70,000. Soon after, a financial planner stopped by his desk to drop off brochures about insurance benefits available through his employer. But, at 32, \"buying insurance was the furthest thing from my mind,\" says Riley.\n",
      "2   Wall St. Bears Claw Back Into the Black  NEW YORK (Reuters) - Short-sellers, Wall Street's dwindling  band of ultra-cynics, are seeing green again.\n"
     ]
    }
   ],
   "source": [
    "import datasets\n",
    "import numpy as np\n",
    "\n",
    "\n",
    "# disables the progress bar for notebooks: https://github.com/huggingface/datasets/issues/2651\n",
    "datasets.logging.get_verbosity = lambda: logging.NOTSET\n",
    "\n",
    "raw_dataset = datasets.load_dataset('ag_news')\n",
    "num_classes = np.unique(raw_dataset['train']['label']).shape[0]\n",
    "\n",
    "print('First 10 training samples:\\n')\n",
    "for i in range(10):\n",
    "    print(raw_dataset['train']['label'][i], ' ', raw_dataset['train']['text'][i])"
   ]
  },
  {
   "cell_type": "code",
   "execution_count": 3,
   "id": "80d66199",
   "metadata": {},
   "outputs": [
    {
     "name": "stdout",
     "output_type": "stream",
     "text": [
      "ClassLabel(names=['World', 'Sports', 'Business', 'Sci/Tech'], id=None)\n"
     ]
    }
   ],
   "source": [
    "print(raw_dataset['train'].features['label'])"
   ]
  },
  {
   "cell_type": "markdown",
   "id": "1742f7d7",
   "metadata": {},
   "source": [
    "### Preparing the Data\n",
    "\n",
    "The SetFit Classifier uses the `TextData` structure as input. Such datasets can be easily created from raw text and labels using `TextDataset.from_arrays()`."
   ]
  },
  {
   "cell_type": "code",
   "execution_count": 4,
   "id": "be151ce8",
   "metadata": {},
   "outputs": [],
   "source": [
    "import numpy as np\n",
    "from small_text import TextDataset\n",
    "\n",
    "num_classes = raw_dataset['train'].features['label'].num_classes\n",
    "\n",
    "target_labels = np.arange(num_classes)\n",
    "\n",
    "train = TextDataset.from_arrays(raw_dataset['train']['text'], np.array(raw_dataset['train']['label']), target_labels=target_labels)\n",
    "test = TextDataset.from_arrays(raw_dataset['test']['text'], np.array(raw_dataset['test']['label']), target_labels=target_labels)"
   ]
  },
  {
   "cell_type": "markdown",
   "id": "3db26811",
   "metadata": {},
   "source": [
    "----\n",
    "\n",
    "<a id=\"nb4-part3-active-learning\"></a>\n",
    "## III. Active Learning\n",
    "\n",
    "First, we setup the classifier. Compared to the previous notebook examples, we use the SetFit factory and model arguments instead of the transformer-based variants."
   ]
  },
  {
   "cell_type": "code",
   "execution_count": 5,
   "id": "2184e4b7",
   "metadata": {},
   "outputs": [],
   "source": [
    "# TODO: use short imports\n",
    "from small_text.integrations.transformers.classifiers.setfit import SetFitModelArguments\n",
    "from small_text.integrations.transformers.classifiers.factories import SetFitClassificationFactory\n",
    "\n",
    "sentence_transformer_model_name = 'sentence-transformers/paraphrase-mpnet-base-v2'\n",
    "setfit_model_args = SetFitModelArguments(sentence_transformer_model_name)\n",
    "\n",
    "clf_factory = SetFitClassificationFactory(setfit_model_args, num_classes)"
   ]
  },
  {
   "cell_type": "markdown",
   "id": "017ebf3d",
   "metadata": {},
   "source": [
    "## Setting up the Active Learner\n",
    "\n",
    "Here, we construct a `PoolBasedActiveLearner` instance which requires a classifier factory, a query strategy, and the train dataset.\n",
    "\n",
    "To obtain a first model, we initialize the active learner by providing the true labels for 20 sentences. This corresponds to an initial labeling the real-world setting."
   ]
  },
  {
   "cell_type": "code",
   "execution_count": 6,
   "id": "66774521",
   "metadata": {
    "tags": []
   },
   "outputs": [
    {
     "name": "stderr",
     "output_type": "stream",
     "text": [
      "/home/cschroeder/.pyenv/versions/3.9.18/envs/notebooks/lib/python3.9/site-packages/small_text/integrations/transformers/classifiers/setfit.py:262: DeprecationWarning: `SetFitTrainer` has been deprecated and will be removed in v2.0.0 of SetFit. Please use `Trainer` instead.\n",
      "  trainer = SetFitTrainer(\n"
     ]
    },
    {
     "data": {
      "application/vnd.jupyter.widget-view+json": {
       "model_id": "998cd2c262be4022a599c7fbf436df4a",
       "version_major": 2,
       "version_minor": 0
      },
      "text/plain": [
       "Map:   0%|          | 0/4 [00:00<?, ? examples/s]"
      ]
     },
     "metadata": {},
     "output_type": "display_data"
    },
    {
     "name": "stderr",
     "output_type": "stream",
     "text": [
      "/home/cschroeder/.pyenv/versions/3.9.18/envs/notebooks/lib/python3.9/site-packages/small_text/integrations/transformers/classifiers/setfit.py:270: DeprecationWarning: `SetFitTrainer.train` does not accept keyword arguments anymore. Please provide training arguments via a `TrainingArguments` instance to the `SetFitTrainer` initialisation or the `SetFitTrainer.train` method.\n",
      "  trainer.train(max_length=self.max_seq_len, **setfit_train_kwargs)\n"
     ]
    },
    {
     "data": {
      "text/html": [
       "\n",
       "    <div>\n",
       "      \n",
       "      <progress value='5' max='5' style='width:300px; height:20px; vertical-align: middle;'></progress>\n",
       "      [5/5 00:01, Epoch 1/1]\n",
       "    </div>\n",
       "    <table border=\"1\" class=\"dataframe\">\n",
       "  <thead>\n",
       " <tr style=\"text-align: left;\">\n",
       "      <th>Step</th>\n",
       "      <th>Training Loss</th>\n",
       "    </tr>\n",
       "  </thead>\n",
       "  <tbody>\n",
       "    <tr>\n",
       "      <td>1</td>\n",
       "      <td>0.040100</td>\n",
       "    </tr>\n",
       "  </tbody>\n",
       "</table><p>"
      ],
      "text/plain": [
       "<IPython.core.display.HTML object>"
      ]
     },
     "metadata": {},
     "output_type": "display_data"
    },
    {
     "data": {
      "application/vnd.jupyter.widget-view+json": {
       "model_id": "",
       "version_major": 2,
       "version_minor": 0
      },
      "text/plain": [
       "Computing widget examples:   0%|          | 0/1 [00:00<?, ?example/s]"
      ]
     },
     "metadata": {},
     "output_type": "display_data"
    },
    {
     "name": "stdout",
     "output_type": "stream",
     "text": [
      "[]\n"
     ]
    }
   ],
   "source": [
    "from small_text import (\n",
    "    PoolBasedActiveLearner, \n",
    "    BreakingTies,\n",
    "    SubsamplingQueryStrategy\n",
    ")\n",
    "\n",
    "# define a query strategy and initialize a pool-based active learner\n",
    "query_strategy = SubsamplingQueryStrategy(BreakingTies())\n",
    "\n",
    "def initialize_with_coldstart():\n",
    "    cold_start_labels = np.array([0, 1, 2, 3])\n",
    "    cold_start_dataset = TextDataset.from_arrays([\n",
    "            'This is about world news.',\n",
    "            'This is about sports.',\n",
    "            'This is about business.',\n",
    "            'This is about science and technology.'\n",
    "        ], \n",
    "        cold_start_labels,\n",
    "        target_labels=target_labels)\n",
    "\n",
    "    train = TextDataset.from_arrays(cold_start_dataset.x + raw_dataset['train']['text'], \n",
    "                                    np.append(cold_start_labels, np.array(raw_dataset['train']['label'])), \n",
    "                                    target_labels=target_labels)\n",
    "    \n",
    "    # suppress progress bars in jupyter notebook\n",
    "    setfit_train_kwargs = {'show_progress_bar': False}\n",
    "\n",
    "    active_learner = PoolBasedActiveLearner(clf_factory, query_strategy, train, fit_kwargs={'setfit_train_kwargs': setfit_train_kwargs})\n",
    "    \n",
    "    clf = clf_factory.new()\n",
    "    clf.fit(cold_start_dataset, setfit_train_kwargs=setfit_train_kwargs)\n",
    "\n",
    "    active_learner.initialize(clf)\n",
    "    print(active_learner.y)\n",
    "\n",
    "    return active_learner, train\n",
    "\n",
    "\n",
    "active_learner, train = initialize_with_coldstart()"
   ]
  },
  {
   "cell_type": "markdown",
   "id": "e8888591",
   "metadata": {
    "tags": []
   },
   "source": [
    "### Active Learning\n",
    "\n",
    "The main active learning loop queries the unlabeled pool and thereby decides which documents are labeled next.\n",
    "We then provide the labels for those documents and the active learner retrains the model.\n",
    "After each query, we evaluate the current model against the test set and save the result.\n",
    "\n",
    "\n",
    "Note: This is active learning as it is done in a scientific simulation. In reality, the label feedback would have been given by human annotators."
   ]
  },
  {
   "cell_type": "markdown",
   "id": "df13d646-ebde-4ff5-8aa1-b59aa4794bac",
   "metadata": {},
   "source": [
    "#### Active Learning Loop"
   ]
  },
  {
   "cell_type": "code",
   "execution_count": 7,
   "id": "aacd866c",
   "metadata": {
    "tags": []
   },
   "outputs": [
    {
     "name": "stdout",
     "output_type": "stream",
     "text": [
      "[]\n"
     ]
    },
    {
     "name": "stderr",
     "output_type": "stream",
     "text": [
      "/home/cschroeder/.pyenv/versions/3.9.18/envs/notebooks/lib/python3.9/site-packages/small_text/integrations/transformers/classifiers/setfit.py:262: DeprecationWarning: `SetFitTrainer` has been deprecated and will be removed in v2.0.0 of SetFit. Please use `Trainer` instead.\n",
      "  trainer = SetFitTrainer(\n"
     ]
    },
    {
     "data": {
      "application/vnd.jupyter.widget-view+json": {
       "model_id": "011c644b5b994a129d12c92111354a78",
       "version_major": 2,
       "version_minor": 0
      },
      "text/plain": [
       "Map:   0%|          | 0/20 [00:00<?, ? examples/s]"
      ]
     },
     "metadata": {},
     "output_type": "display_data"
    },
    {
     "name": "stderr",
     "output_type": "stream",
     "text": [
      "/home/cschroeder/.pyenv/versions/3.9.18/envs/notebooks/lib/python3.9/site-packages/small_text/integrations/transformers/classifiers/setfit.py:270: DeprecationWarning: `SetFitTrainer.train` does not accept keyword arguments anymore. Please provide training arguments via a `TrainingArguments` instance to the `SetFitTrainer` initialisation or the `SetFitTrainer.train` method.\n",
      "  trainer.train(max_length=self.max_seq_len, **setfit_train_kwargs)\n"
     ]
    },
    {
     "data": {
      "text/html": [
       "\n",
       "    <div>\n",
       "      \n",
       "      <progress value='25' max='25' style='width:300px; height:20px; vertical-align: middle;'></progress>\n",
       "      [25/25 00:04, Epoch 1/1]\n",
       "    </div>\n",
       "    <table border=\"1\" class=\"dataframe\">\n",
       "  <thead>\n",
       " <tr style=\"text-align: left;\">\n",
       "      <th>Step</th>\n",
       "      <th>Training Loss</th>\n",
       "    </tr>\n",
       "  </thead>\n",
       "  <tbody>\n",
       "    <tr>\n",
       "      <td>1</td>\n",
       "      <td>0.349000</td>\n",
       "    </tr>\n",
       "  </tbody>\n",
       "</table><p>"
      ],
      "text/plain": [
       "<IPython.core.display.HTML object>"
      ]
     },
     "metadata": {},
     "output_type": "display_data"
    },
    {
     "data": {
      "application/vnd.jupyter.widget-view+json": {
       "model_id": "",
       "version_major": 2,
       "version_minor": 0
      },
      "text/plain": [
       "Computing widget examples:   0%|          | 0/1 [00:00<?, ?example/s]"
      ]
     },
     "metadata": {},
     "output_type": "display_data"
    },
    {
     "name": "stdout",
     "output_type": "stream",
     "text": [
      "---------------\n",
      "Iteration #0 (20 samples)\n",
      "Train accuracy: 1.00\n",
      "Test accuracy: 0.53\n"
     ]
    },
    {
     "name": "stderr",
     "output_type": "stream",
     "text": [
      "/home/cschroeder/.pyenv/versions/3.9.18/envs/notebooks/lib/python3.9/site-packages/small_text/integrations/transformers/classifiers/setfit.py:262: DeprecationWarning: `SetFitTrainer` has been deprecated and will be removed in v2.0.0 of SetFit. Please use `Trainer` instead.\n",
      "  trainer = SetFitTrainer(\n"
     ]
    },
    {
     "data": {
      "application/vnd.jupyter.widget-view+json": {
       "model_id": "3f2a584f80cf477cb8528096d84caf2d",
       "version_major": 2,
       "version_minor": 0
      },
      "text/plain": [
       "Map:   0%|          | 0/40 [00:00<?, ? examples/s]"
      ]
     },
     "metadata": {},
     "output_type": "display_data"
    },
    {
     "name": "stderr",
     "output_type": "stream",
     "text": [
      "/home/cschroeder/.pyenv/versions/3.9.18/envs/notebooks/lib/python3.9/site-packages/small_text/integrations/transformers/classifiers/setfit.py:270: DeprecationWarning: `SetFitTrainer.train` does not accept keyword arguments anymore. Please provide training arguments via a `TrainingArguments` instance to the `SetFitTrainer` initialisation or the `SetFitTrainer.train` method.\n",
      "  trainer.train(max_length=self.max_seq_len, **setfit_train_kwargs)\n"
     ]
    },
    {
     "data": {
      "text/html": [
       "\n",
       "    <div>\n",
       "      \n",
       "      <progress value='50' max='50' style='width:300px; height:20px; vertical-align: middle;'></progress>\n",
       "      [50/50 00:07, Epoch 1/1]\n",
       "    </div>\n",
       "    <table border=\"1\" class=\"dataframe\">\n",
       "  <thead>\n",
       " <tr style=\"text-align: left;\">\n",
       "      <th>Step</th>\n",
       "      <th>Training Loss</th>\n",
       "    </tr>\n",
       "  </thead>\n",
       "  <tbody>\n",
       "    <tr>\n",
       "      <td>1</td>\n",
       "      <td>0.390100</td>\n",
       "    </tr>\n",
       "    <tr>\n",
       "      <td>50</td>\n",
       "      <td>0.106300</td>\n",
       "    </tr>\n",
       "  </tbody>\n",
       "</table><p>"
      ],
      "text/plain": [
       "<IPython.core.display.HTML object>"
      ]
     },
     "metadata": {},
     "output_type": "display_data"
    },
    {
     "data": {
      "application/vnd.jupyter.widget-view+json": {
       "model_id": "",
       "version_major": 2,
       "version_minor": 0
      },
      "text/plain": [
       "Computing widget examples:   0%|          | 0/1 [00:00<?, ?example/s]"
      ]
     },
     "metadata": {},
     "output_type": "display_data"
    },
    {
     "name": "stdout",
     "output_type": "stream",
     "text": [
      "---------------\n",
      "Iteration #1 (40 samples)\n",
      "Train accuracy: 1.00\n",
      "Test accuracy: 0.82\n"
     ]
    },
    {
     "name": "stderr",
     "output_type": "stream",
     "text": [
      "/home/cschroeder/.pyenv/versions/3.9.18/envs/notebooks/lib/python3.9/site-packages/small_text/integrations/transformers/classifiers/setfit.py:262: DeprecationWarning: `SetFitTrainer` has been deprecated and will be removed in v2.0.0 of SetFit. Please use `Trainer` instead.\n",
      "  trainer = SetFitTrainer(\n"
     ]
    },
    {
     "data": {
      "application/vnd.jupyter.widget-view+json": {
       "model_id": "1e85d769a58a4e588f5ad9672c76b2b9",
       "version_major": 2,
       "version_minor": 0
      },
      "text/plain": [
       "Map:   0%|          | 0/60 [00:00<?, ? examples/s]"
      ]
     },
     "metadata": {},
     "output_type": "display_data"
    },
    {
     "name": "stderr",
     "output_type": "stream",
     "text": [
      "/home/cschroeder/.pyenv/versions/3.9.18/envs/notebooks/lib/python3.9/site-packages/small_text/integrations/transformers/classifiers/setfit.py:270: DeprecationWarning: `SetFitTrainer.train` does not accept keyword arguments anymore. Please provide training arguments via a `TrainingArguments` instance to the `SetFitTrainer` initialisation or the `SetFitTrainer.train` method.\n",
      "  trainer.train(max_length=self.max_seq_len, **setfit_train_kwargs)\n"
     ]
    },
    {
     "data": {
      "text/html": [
       "\n",
       "    <div>\n",
       "      \n",
       "      <progress value='75' max='75' style='width:300px; height:20px; vertical-align: middle;'></progress>\n",
       "      [75/75 00:10, Epoch 1/1]\n",
       "    </div>\n",
       "    <table border=\"1\" class=\"dataframe\">\n",
       "  <thead>\n",
       " <tr style=\"text-align: left;\">\n",
       "      <th>Step</th>\n",
       "      <th>Training Loss</th>\n",
       "    </tr>\n",
       "  </thead>\n",
       "  <tbody>\n",
       "    <tr>\n",
       "      <td>1</td>\n",
       "      <td>0.404800</td>\n",
       "    </tr>\n",
       "    <tr>\n",
       "      <td>50</td>\n",
       "      <td>0.159200</td>\n",
       "    </tr>\n",
       "  </tbody>\n",
       "</table><p>"
      ],
      "text/plain": [
       "<IPython.core.display.HTML object>"
      ]
     },
     "metadata": {},
     "output_type": "display_data"
    },
    {
     "data": {
      "application/vnd.jupyter.widget-view+json": {
       "model_id": "",
       "version_major": 2,
       "version_minor": 0
      },
      "text/plain": [
       "Computing widget examples:   0%|          | 0/1 [00:00<?, ?example/s]"
      ]
     },
     "metadata": {},
     "output_type": "display_data"
    },
    {
     "name": "stdout",
     "output_type": "stream",
     "text": [
      "---------------\n",
      "Iteration #2 (60 samples)\n",
      "Train accuracy: 1.00\n",
      "Test accuracy: 0.86\n"
     ]
    },
    {
     "name": "stderr",
     "output_type": "stream",
     "text": [
      "/home/cschroeder/.pyenv/versions/3.9.18/envs/notebooks/lib/python3.9/site-packages/small_text/integrations/transformers/classifiers/setfit.py:262: DeprecationWarning: `SetFitTrainer` has been deprecated and will be removed in v2.0.0 of SetFit. Please use `Trainer` instead.\n",
      "  trainer = SetFitTrainer(\n"
     ]
    },
    {
     "data": {
      "application/vnd.jupyter.widget-view+json": {
       "model_id": "ee611ee9fc7d4d4da3b9daa20dcdd33b",
       "version_major": 2,
       "version_minor": 0
      },
      "text/plain": [
       "Map:   0%|          | 0/80 [00:00<?, ? examples/s]"
      ]
     },
     "metadata": {},
     "output_type": "display_data"
    },
    {
     "name": "stderr",
     "output_type": "stream",
     "text": [
      "/home/cschroeder/.pyenv/versions/3.9.18/envs/notebooks/lib/python3.9/site-packages/small_text/integrations/transformers/classifiers/setfit.py:270: DeprecationWarning: `SetFitTrainer.train` does not accept keyword arguments anymore. Please provide training arguments via a `TrainingArguments` instance to the `SetFitTrainer` initialisation or the `SetFitTrainer.train` method.\n",
      "  trainer.train(max_length=self.max_seq_len, **setfit_train_kwargs)\n"
     ]
    },
    {
     "data": {
      "text/html": [
       "\n",
       "    <div>\n",
       "      \n",
       "      <progress value='100' max='100' style='width:300px; height:20px; vertical-align: middle;'></progress>\n",
       "      [100/100 00:13, Epoch 1/1]\n",
       "    </div>\n",
       "    <table border=\"1\" class=\"dataframe\">\n",
       "  <thead>\n",
       " <tr style=\"text-align: left;\">\n",
       "      <th>Step</th>\n",
       "      <th>Training Loss</th>\n",
       "    </tr>\n",
       "  </thead>\n",
       "  <tbody>\n",
       "    <tr>\n",
       "      <td>1</td>\n",
       "      <td>0.350000</td>\n",
       "    </tr>\n",
       "    <tr>\n",
       "      <td>50</td>\n",
       "      <td>0.205900</td>\n",
       "    </tr>\n",
       "    <tr>\n",
       "      <td>100</td>\n",
       "      <td>0.052600</td>\n",
       "    </tr>\n",
       "  </tbody>\n",
       "</table><p>"
      ],
      "text/plain": [
       "<IPython.core.display.HTML object>"
      ]
     },
     "metadata": {},
     "output_type": "display_data"
    },
    {
     "data": {
      "application/vnd.jupyter.widget-view+json": {
       "model_id": "",
       "version_major": 2,
       "version_minor": 0
      },
      "text/plain": [
       "Computing widget examples:   0%|          | 0/1 [00:00<?, ?example/s]"
      ]
     },
     "metadata": {},
     "output_type": "display_data"
    },
    {
     "name": "stdout",
     "output_type": "stream",
     "text": [
      "---------------\n",
      "Iteration #3 (80 samples)\n",
      "Train accuracy: 1.00\n",
      "Test accuracy: 0.87\n"
     ]
    },
    {
     "name": "stderr",
     "output_type": "stream",
     "text": [
      "/home/cschroeder/.pyenv/versions/3.9.18/envs/notebooks/lib/python3.9/site-packages/small_text/integrations/transformers/classifiers/setfit.py:262: DeprecationWarning: `SetFitTrainer` has been deprecated and will be removed in v2.0.0 of SetFit. Please use `Trainer` instead.\n",
      "  trainer = SetFitTrainer(\n"
     ]
    },
    {
     "data": {
      "application/vnd.jupyter.widget-view+json": {
       "model_id": "f26e8d6a7c624d8e89ea9e100d9164e8",
       "version_major": 2,
       "version_minor": 0
      },
      "text/plain": [
       "Map:   0%|          | 0/100 [00:00<?, ? examples/s]"
      ]
     },
     "metadata": {},
     "output_type": "display_data"
    },
    {
     "name": "stderr",
     "output_type": "stream",
     "text": [
      "/home/cschroeder/.pyenv/versions/3.9.18/envs/notebooks/lib/python3.9/site-packages/small_text/integrations/transformers/classifiers/setfit.py:270: DeprecationWarning: `SetFitTrainer.train` does not accept keyword arguments anymore. Please provide training arguments via a `TrainingArguments` instance to the `SetFitTrainer` initialisation or the `SetFitTrainer.train` method.\n",
      "  trainer.train(max_length=self.max_seq_len, **setfit_train_kwargs)\n"
     ]
    },
    {
     "data": {
      "text/html": [
       "\n",
       "    <div>\n",
       "      \n",
       "      <progress value='125' max='125' style='width:300px; height:20px; vertical-align: middle;'></progress>\n",
       "      [125/125 00:16, Epoch 1/1]\n",
       "    </div>\n",
       "    <table border=\"1\" class=\"dataframe\">\n",
       "  <thead>\n",
       " <tr style=\"text-align: left;\">\n",
       "      <th>Step</th>\n",
       "      <th>Training Loss</th>\n",
       "    </tr>\n",
       "  </thead>\n",
       "  <tbody>\n",
       "    <tr>\n",
       "      <td>1</td>\n",
       "      <td>0.328900</td>\n",
       "    </tr>\n",
       "    <tr>\n",
       "      <td>50</td>\n",
       "      <td>0.209300</td>\n",
       "    </tr>\n",
       "    <tr>\n",
       "      <td>100</td>\n",
       "      <td>0.057600</td>\n",
       "    </tr>\n",
       "  </tbody>\n",
       "</table><p>"
      ],
      "text/plain": [
       "<IPython.core.display.HTML object>"
      ]
     },
     "metadata": {},
     "output_type": "display_data"
    },
    {
     "data": {
      "application/vnd.jupyter.widget-view+json": {
       "model_id": "",
       "version_major": 2,
       "version_minor": 0
      },
      "text/plain": [
       "Computing widget examples:   0%|          | 0/1 [00:00<?, ?example/s]"
      ]
     },
     "metadata": {},
     "output_type": "display_data"
    },
    {
     "name": "stdout",
     "output_type": "stream",
     "text": [
      "---------------\n",
      "Iteration #4 (100 samples)\n",
      "Train accuracy: 1.00\n",
      "Test accuracy: 0.88\n"
     ]
    },
    {
     "name": "stderr",
     "output_type": "stream",
     "text": [
      "/home/cschroeder/.pyenv/versions/3.9.18/envs/notebooks/lib/python3.9/site-packages/small_text/integrations/transformers/classifiers/setfit.py:262: DeprecationWarning: `SetFitTrainer` has been deprecated and will be removed in v2.0.0 of SetFit. Please use `Trainer` instead.\n",
      "  trainer = SetFitTrainer(\n"
     ]
    },
    {
     "data": {
      "application/vnd.jupyter.widget-view+json": {
       "model_id": "5d824b5c0385406abcd7086fe1fec6fb",
       "version_major": 2,
       "version_minor": 0
      },
      "text/plain": [
       "Map:   0%|          | 0/120 [00:00<?, ? examples/s]"
      ]
     },
     "metadata": {},
     "output_type": "display_data"
    },
    {
     "name": "stderr",
     "output_type": "stream",
     "text": [
      "/home/cschroeder/.pyenv/versions/3.9.18/envs/notebooks/lib/python3.9/site-packages/small_text/integrations/transformers/classifiers/setfit.py:270: DeprecationWarning: `SetFitTrainer.train` does not accept keyword arguments anymore. Please provide training arguments via a `TrainingArguments` instance to the `SetFitTrainer` initialisation or the `SetFitTrainer.train` method.\n",
      "  trainer.train(max_length=self.max_seq_len, **setfit_train_kwargs)\n"
     ]
    },
    {
     "data": {
      "text/html": [
       "\n",
       "    <div>\n",
       "      \n",
       "      <progress value='150' max='150' style='width:300px; height:20px; vertical-align: middle;'></progress>\n",
       "      [150/150 00:19, Epoch 1/1]\n",
       "    </div>\n",
       "    <table border=\"1\" class=\"dataframe\">\n",
       "  <thead>\n",
       " <tr style=\"text-align: left;\">\n",
       "      <th>Step</th>\n",
       "      <th>Training Loss</th>\n",
       "    </tr>\n",
       "  </thead>\n",
       "  <tbody>\n",
       "    <tr>\n",
       "      <td>1</td>\n",
       "      <td>0.359400</td>\n",
       "    </tr>\n",
       "    <tr>\n",
       "      <td>50</td>\n",
       "      <td>0.251500</td>\n",
       "    </tr>\n",
       "    <tr>\n",
       "      <td>100</td>\n",
       "      <td>0.116800</td>\n",
       "    </tr>\n",
       "    <tr>\n",
       "      <td>150</td>\n",
       "      <td>0.031500</td>\n",
       "    </tr>\n",
       "  </tbody>\n",
       "</table><p>"
      ],
      "text/plain": [
       "<IPython.core.display.HTML object>"
      ]
     },
     "metadata": {},
     "output_type": "display_data"
    },
    {
     "data": {
      "application/vnd.jupyter.widget-view+json": {
       "model_id": "",
       "version_major": 2,
       "version_minor": 0
      },
      "text/plain": [
       "Computing widget examples:   0%|          | 0/1 [00:00<?, ?example/s]"
      ]
     },
     "metadata": {},
     "output_type": "display_data"
    },
    {
     "name": "stdout",
     "output_type": "stream",
     "text": [
      "---------------\n",
      "Iteration #5 (120 samples)\n",
      "Train accuracy: 1.00\n",
      "Test accuracy: 0.88\n"
     ]
    },
    {
     "name": "stderr",
     "output_type": "stream",
     "text": [
      "/home/cschroeder/.pyenv/versions/3.9.18/envs/notebooks/lib/python3.9/site-packages/small_text/integrations/transformers/classifiers/setfit.py:262: DeprecationWarning: `SetFitTrainer` has been deprecated and will be removed in v2.0.0 of SetFit. Please use `Trainer` instead.\n",
      "  trainer = SetFitTrainer(\n"
     ]
    },
    {
     "data": {
      "application/vnd.jupyter.widget-view+json": {
       "model_id": "a60b5647726241d7ae6b981b7a883d84",
       "version_major": 2,
       "version_minor": 0
      },
      "text/plain": [
       "Map:   0%|          | 0/140 [00:00<?, ? examples/s]"
      ]
     },
     "metadata": {},
     "output_type": "display_data"
    },
    {
     "name": "stderr",
     "output_type": "stream",
     "text": [
      "/home/cschroeder/.pyenv/versions/3.9.18/envs/notebooks/lib/python3.9/site-packages/small_text/integrations/transformers/classifiers/setfit.py:270: DeprecationWarning: `SetFitTrainer.train` does not accept keyword arguments anymore. Please provide training arguments via a `TrainingArguments` instance to the `SetFitTrainer` initialisation or the `SetFitTrainer.train` method.\n",
      "  trainer.train(max_length=self.max_seq_len, **setfit_train_kwargs)\n"
     ]
    },
    {
     "data": {
      "text/html": [
       "\n",
       "    <div>\n",
       "      \n",
       "      <progress value='175' max='175' style='width:300px; height:20px; vertical-align: middle;'></progress>\n",
       "      [175/175 00:22, Epoch 1/1]\n",
       "    </div>\n",
       "    <table border=\"1\" class=\"dataframe\">\n",
       "  <thead>\n",
       " <tr style=\"text-align: left;\">\n",
       "      <th>Step</th>\n",
       "      <th>Training Loss</th>\n",
       "    </tr>\n",
       "  </thead>\n",
       "  <tbody>\n",
       "    <tr>\n",
       "      <td>1</td>\n",
       "      <td>0.293800</td>\n",
       "    </tr>\n",
       "    <tr>\n",
       "      <td>50</td>\n",
       "      <td>0.250800</td>\n",
       "    </tr>\n",
       "    <tr>\n",
       "      <td>100</td>\n",
       "      <td>0.126500</td>\n",
       "    </tr>\n",
       "    <tr>\n",
       "      <td>150</td>\n",
       "      <td>0.014200</td>\n",
       "    </tr>\n",
       "  </tbody>\n",
       "</table><p>"
      ],
      "text/plain": [
       "<IPython.core.display.HTML object>"
      ]
     },
     "metadata": {},
     "output_type": "display_data"
    },
    {
     "data": {
      "application/vnd.jupyter.widget-view+json": {
       "model_id": "",
       "version_major": 2,
       "version_minor": 0
      },
      "text/plain": [
       "Computing widget examples:   0%|          | 0/1 [00:00<?, ?example/s]"
      ]
     },
     "metadata": {},
     "output_type": "display_data"
    },
    {
     "name": "stdout",
     "output_type": "stream",
     "text": [
      "---------------\n",
      "Iteration #6 (140 samples)\n",
      "Train accuracy: 1.00\n",
      "Test accuracy: 0.88\n"
     ]
    },
    {
     "name": "stderr",
     "output_type": "stream",
     "text": [
      "/home/cschroeder/.pyenv/versions/3.9.18/envs/notebooks/lib/python3.9/site-packages/small_text/integrations/transformers/classifiers/setfit.py:262: DeprecationWarning: `SetFitTrainer` has been deprecated and will be removed in v2.0.0 of SetFit. Please use `Trainer` instead.\n",
      "  trainer = SetFitTrainer(\n"
     ]
    },
    {
     "data": {
      "application/vnd.jupyter.widget-view+json": {
       "model_id": "2f68a6ce6807432ebe442435a405b012",
       "version_major": 2,
       "version_minor": 0
      },
      "text/plain": [
       "Map:   0%|          | 0/160 [00:00<?, ? examples/s]"
      ]
     },
     "metadata": {},
     "output_type": "display_data"
    },
    {
     "name": "stderr",
     "output_type": "stream",
     "text": [
      "/home/cschroeder/.pyenv/versions/3.9.18/envs/notebooks/lib/python3.9/site-packages/small_text/integrations/transformers/classifiers/setfit.py:270: DeprecationWarning: `SetFitTrainer.train` does not accept keyword arguments anymore. Please provide training arguments via a `TrainingArguments` instance to the `SetFitTrainer` initialisation or the `SetFitTrainer.train` method.\n",
      "  trainer.train(max_length=self.max_seq_len, **setfit_train_kwargs)\n"
     ]
    },
    {
     "data": {
      "text/html": [
       "\n",
       "    <div>\n",
       "      \n",
       "      <progress value='200' max='200' style='width:300px; height:20px; vertical-align: middle;'></progress>\n",
       "      [200/200 00:27, Epoch 1/1]\n",
       "    </div>\n",
       "    <table border=\"1\" class=\"dataframe\">\n",
       "  <thead>\n",
       " <tr style=\"text-align: left;\">\n",
       "      <th>Step</th>\n",
       "      <th>Training Loss</th>\n",
       "    </tr>\n",
       "  </thead>\n",
       "  <tbody>\n",
       "    <tr>\n",
       "      <td>1</td>\n",
       "      <td>0.427100</td>\n",
       "    </tr>\n",
       "    <tr>\n",
       "      <td>50</td>\n",
       "      <td>0.258200</td>\n",
       "    </tr>\n",
       "    <tr>\n",
       "      <td>100</td>\n",
       "      <td>0.148400</td>\n",
       "    </tr>\n",
       "    <tr>\n",
       "      <td>150</td>\n",
       "      <td>0.033400</td>\n",
       "    </tr>\n",
       "    <tr>\n",
       "      <td>200</td>\n",
       "      <td>0.003700</td>\n",
       "    </tr>\n",
       "  </tbody>\n",
       "</table><p>"
      ],
      "text/plain": [
       "<IPython.core.display.HTML object>"
      ]
     },
     "metadata": {},
     "output_type": "display_data"
    },
    {
     "data": {
      "application/vnd.jupyter.widget-view+json": {
       "model_id": "",
       "version_major": 2,
       "version_minor": 0
      },
      "text/plain": [
       "Computing widget examples:   0%|          | 0/1 [00:00<?, ?example/s]"
      ]
     },
     "metadata": {},
     "output_type": "display_data"
    },
    {
     "name": "stdout",
     "output_type": "stream",
     "text": [
      "---------------\n",
      "Iteration #7 (160 samples)\n",
      "Train accuracy: 1.00\n",
      "Test accuracy: 0.89\n"
     ]
    },
    {
     "name": "stderr",
     "output_type": "stream",
     "text": [
      "/home/cschroeder/.pyenv/versions/3.9.18/envs/notebooks/lib/python3.9/site-packages/small_text/integrations/transformers/classifiers/setfit.py:262: DeprecationWarning: `SetFitTrainer` has been deprecated and will be removed in v2.0.0 of SetFit. Please use `Trainer` instead.\n",
      "  trainer = SetFitTrainer(\n"
     ]
    },
    {
     "data": {
      "application/vnd.jupyter.widget-view+json": {
       "model_id": "5fbe34e1d65848dc8c2579cce93900df",
       "version_major": 2,
       "version_minor": 0
      },
      "text/plain": [
       "Map:   0%|          | 0/180 [00:00<?, ? examples/s]"
      ]
     },
     "metadata": {},
     "output_type": "display_data"
    },
    {
     "name": "stderr",
     "output_type": "stream",
     "text": [
      "/home/cschroeder/.pyenv/versions/3.9.18/envs/notebooks/lib/python3.9/site-packages/small_text/integrations/transformers/classifiers/setfit.py:270: DeprecationWarning: `SetFitTrainer.train` does not accept keyword arguments anymore. Please provide training arguments via a `TrainingArguments` instance to the `SetFitTrainer` initialisation or the `SetFitTrainer.train` method.\n",
      "  trainer.train(max_length=self.max_seq_len, **setfit_train_kwargs)\n"
     ]
    },
    {
     "data": {
      "text/html": [
       "\n",
       "    <div>\n",
       "      \n",
       "      <progress value='225' max='225' style='width:300px; height:20px; vertical-align: middle;'></progress>\n",
       "      [225/225 00:29, Epoch 1/1]\n",
       "    </div>\n",
       "    <table border=\"1\" class=\"dataframe\">\n",
       "  <thead>\n",
       " <tr style=\"text-align: left;\">\n",
       "      <th>Step</th>\n",
       "      <th>Training Loss</th>\n",
       "    </tr>\n",
       "  </thead>\n",
       "  <tbody>\n",
       "    <tr>\n",
       "      <td>1</td>\n",
       "      <td>0.404500</td>\n",
       "    </tr>\n",
       "    <tr>\n",
       "      <td>50</td>\n",
       "      <td>0.257200</td>\n",
       "    </tr>\n",
       "    <tr>\n",
       "      <td>100</td>\n",
       "      <td>0.165400</td>\n",
       "    </tr>\n",
       "    <tr>\n",
       "      <td>150</td>\n",
       "      <td>0.035500</td>\n",
       "    </tr>\n",
       "    <tr>\n",
       "      <td>200</td>\n",
       "      <td>0.003300</td>\n",
       "    </tr>\n",
       "  </tbody>\n",
       "</table><p>"
      ],
      "text/plain": [
       "<IPython.core.display.HTML object>"
      ]
     },
     "metadata": {},
     "output_type": "display_data"
    },
    {
     "data": {
      "application/vnd.jupyter.widget-view+json": {
       "model_id": "9dc3d594dc804500baab915769904f41",
       "version_major": 2,
       "version_minor": 0
      },
      "text/plain": [
       "Computing widget examples:   0%|          | 0/1 [00:00<?, ?example/s]"
      ]
     },
     "metadata": {},
     "output_type": "display_data"
    },
    {
     "name": "stdout",
     "output_type": "stream",
     "text": [
      "---------------\n",
      "Iteration #8 (180 samples)\n",
      "Train accuracy: 1.00\n",
      "Test accuracy: 0.89\n"
     ]
    },
    {
     "name": "stderr",
     "output_type": "stream",
     "text": [
      "/home/cschroeder/.pyenv/versions/3.9.18/envs/notebooks/lib/python3.9/site-packages/small_text/integrations/transformers/classifiers/setfit.py:262: DeprecationWarning: `SetFitTrainer` has been deprecated and will be removed in v2.0.0 of SetFit. Please use `Trainer` instead.\n",
      "  trainer = SetFitTrainer(\n"
     ]
    },
    {
     "data": {
      "application/vnd.jupyter.widget-view+json": {
       "model_id": "445e1316011c4085ad7a6d0ca90f9b0f",
       "version_major": 2,
       "version_minor": 0
      },
      "text/plain": [
       "Map:   0%|          | 0/200 [00:00<?, ? examples/s]"
      ]
     },
     "metadata": {},
     "output_type": "display_data"
    },
    {
     "name": "stderr",
     "output_type": "stream",
     "text": [
      "/home/cschroeder/.pyenv/versions/3.9.18/envs/notebooks/lib/python3.9/site-packages/small_text/integrations/transformers/classifiers/setfit.py:270: DeprecationWarning: `SetFitTrainer.train` does not accept keyword arguments anymore. Please provide training arguments via a `TrainingArguments` instance to the `SetFitTrainer` initialisation or the `SetFitTrainer.train` method.\n",
      "  trainer.train(max_length=self.max_seq_len, **setfit_train_kwargs)\n"
     ]
    },
    {
     "data": {
      "text/html": [
       "\n",
       "    <div>\n",
       "      \n",
       "      <progress value='250' max='250' style='width:300px; height:20px; vertical-align: middle;'></progress>\n",
       "      [250/250 00:32, Epoch 1/1]\n",
       "    </div>\n",
       "    <table border=\"1\" class=\"dataframe\">\n",
       "  <thead>\n",
       " <tr style=\"text-align: left;\">\n",
       "      <th>Step</th>\n",
       "      <th>Training Loss</th>\n",
       "    </tr>\n",
       "  </thead>\n",
       "  <tbody>\n",
       "    <tr>\n",
       "      <td>1</td>\n",
       "      <td>0.321800</td>\n",
       "    </tr>\n",
       "    <tr>\n",
       "      <td>50</td>\n",
       "      <td>0.273800</td>\n",
       "    </tr>\n",
       "    <tr>\n",
       "      <td>100</td>\n",
       "      <td>0.180100</td>\n",
       "    </tr>\n",
       "    <tr>\n",
       "      <td>150</td>\n",
       "      <td>0.051200</td>\n",
       "    </tr>\n",
       "    <tr>\n",
       "      <td>200</td>\n",
       "      <td>0.004100</td>\n",
       "    </tr>\n",
       "    <tr>\n",
       "      <td>250</td>\n",
       "      <td>0.002000</td>\n",
       "    </tr>\n",
       "  </tbody>\n",
       "</table><p>"
      ],
      "text/plain": [
       "<IPython.core.display.HTML object>"
      ]
     },
     "metadata": {},
     "output_type": "display_data"
    },
    {
     "data": {
      "application/vnd.jupyter.widget-view+json": {
       "model_id": "",
       "version_major": 2,
       "version_minor": 0
      },
      "text/plain": [
       "Computing widget examples:   0%|          | 0/1 [00:00<?, ?example/s]"
      ]
     },
     "metadata": {},
     "output_type": "display_data"
    },
    {
     "name": "stdout",
     "output_type": "stream",
     "text": [
      "---------------\n",
      "Iteration #9 (200 samples)\n",
      "Train accuracy: 1.00\n",
      "Test accuracy: 0.89\n"
     ]
    }
   ],
   "source": [
    "import gc\n",
    "import torch\n",
    "from sklearn.metrics import accuracy_score\n",
    "\n",
    "\n",
    "num_queries = 10\n",
    "\n",
    "\n",
    "def evaluate(active_learner, train, test):\n",
    "    \n",
    "    if len(train) == 0:\n",
    "        return np.nan\n",
    "    \n",
    "    y_pred = active_learner.classifier.predict(train)\n",
    "    y_pred_test = active_learner.classifier.predict(test)\n",
    "    \n",
    "    test_acc = accuracy_score(y_pred_test, test.y)\n",
    "\n",
    "    print('Train accuracy: {:.2f}'.format(accuracy_score(y_pred, train.y)))\n",
    "    print('Test accuracy: {:.2f}'.format(test_acc))\n",
    "    \n",
    "    return test_acc\n",
    "\n",
    "print(active_learner.y)\n",
    "results_setfit = []\n",
    "results_setfit.append(evaluate(active_learner, train[active_learner.indices_labeled], test))\n",
    "    \n",
    "for i in range(num_queries):\n",
    "\n",
    "    # ...where each iteration consists of labelling 20 samples\n",
    "    q_indices = active_learner.query(num_samples=20)\n",
    "\n",
    "    # Simulate user interaction here. Replace this for real-world usage.\n",
    "    y = train.y[q_indices]\n",
    "\n",
    "    # Return the labels for the current query to the active learner.\n",
    "    active_learner.update(y)\n",
    "    \n",
    "    # memory fix: https://github.com/UKPLab/sentence-transformers/issues/487, https://github.com/UKPLab/sentence-transformers/issues/1793\n",
    "    gc.collect()\n",
    "    torch.cuda.empty_cache()\n",
    "    \n",
    "    print('---------------')\n",
    "    print('Iteration #{:d} ({} samples)'.format(i, len(active_learner.indices_labeled)))\n",
    "    results_setfit.append(evaluate(active_learner, train[active_learner.indices_labeled], test))\n"
   ]
  },
  {
   "cell_type": "markdown",
   "id": "5eeb9a63",
   "metadata": {
    "tags": []
   },
   "source": [
    "----\n",
    "\n",
    "<a id=\"nb4-part4-evaluation\"></a>\n",
    "## IV. Plotting the Results\n",
    "\n",
    "With the previous results we can plot a [learning curve](https://en.wikipedia.org/wiki/Learning_curve_(machine_learning)) to visualize the performance."
   ]
  },
  {
   "cell_type": "code",
   "execution_count": 8,
   "id": "278c1d13",
   "metadata": {},
   "outputs": [
    {
     "data": {
      "text/plain": [
       "<module 'matplotlib.pyplot' from '/home/cschroeder/.pyenv/versions/3.9.18/envs/notebooks/lib/python3.9/site-packages/matplotlib/pyplot.py'>"
      ]
     },
     "metadata": {},
     "output_type": "display_data"
    },
    {
     "data": {
      "image/png": "[encoded data removed]",
      "text/plain": [
       "<Figure size 1200x800 with 1 Axes>"
      ]
     },
     "metadata": {},
     "output_type": "display_data"
    }
   ],
   "source": [
    "%matplotlib inline\n",
    "import matplotlib.pyplot as plt\n",
    "\n",
    "fig = plt.figure(figsize=(12, 8))\n",
    "ax = plt.axes()\n",
    "\n",
    "ax.plot(np.arange(num_queries+1), results_setfit, label='SetFit')\n",
    "ax.legend()\n",
    "\n",
    "plt.ylabel('accuracy')\n",
    "plt.xlabel('num queries')\n",
    "\n",
    "display(plt)"
   ]
  },
  {
   "cell_type": "code",
   "execution_count": null,
   "id": "e0b2d085-e9a6-4df0-9fe4-781dc2e62887",
   "metadata": {},
   "outputs": [],
   "source": []
  }
 ],
 "metadata": {
  "kernelspec": {
   "display_name": "Python 3 (ipykernel)",
   "language": "python",
   "name": "python3"
  },
  "language_info": {
   "codemirror_mode": {
    "name": "ipython",
    "version": 3
   },
   "file_extension": ".py",
   "mimetype": "text/x-python",
   "name": "python",
   "nbconvert_exporter": "python",
   "pygments_lexer": "ipython3",
   "version": "3.9.18"
  }
 },
 "nbformat": 4,
 "nbformat_minor": 5
}
