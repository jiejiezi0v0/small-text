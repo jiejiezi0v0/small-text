{
 "cells": [
  {
   "cell_type": "markdown",
   "id": "bea8b7ed",
   "metadata": {},
   "source": [
    "# Active Learning for Text Classification using Small-Text\n",
    "*Notebook 1*  \n",
    "This is an introductory example that shows you how to use [small-text](https://github.com/webis-de/small-text) to perform active learning for text classification using state-of-the-art transformer models.\n",
    "\n",
    "----\n",
    "\n",
    "## Overview\n",
    "\n",
    "- [Part I: Installation](#nb1-part1-installation)\n",
    "- [Part II: Data](#nb1-part2-data)\n",
    "- [Part III: Setting up the Active Learner](#nb1-part3-active-learning)\n",
    "- [Part IV: Plotting the Results](#nb1-part4-plotting)\n",
    "\n",
    "----\n",
    "\n",
    "<a id=\"nb1-part1-installation\"></a>\n",
    "## I. Installation\n",
    "\n",
    "First, we install small-text for its active learning functionality, [datasets](https://github.com/huggingface/datasets) to load an example dataset, and [matptlotlib](https://matplotlib.org/) to plot the learning curves at the end."
   ]
  },
  {
   "cell_type": "code",
   "execution_count": 1,
   "id": "837556c3",
   "metadata": {
    "scrolled": true
   },
   "outputs": [
    {
     "name": "stdout",
     "output_type": "stream",
     "text": [
      "\u001B[33mDEPRECATION: git+https://github.com/webis-de/small-text.git@v1.4.x#egg=small-text[transformers] contains an egg fragment with a non-PEP 508 name pip 25.0 will enforce this behaviour change. A possible replacement is to use the req @ url syntax, and remove the egg fragment. Discussion can be found at https://github.com/pypa/pip/issues/11617\u001B[0m\u001B[33m\n",
      "\u001B[0mCollecting small-text[transformers]\n",
      "  Cloning https://github.com/webis-de/small-text.git (to revision v1.4.x) to /tmp/pip-install-9prlcx7n/small-text_367720c88f9b446d950043587901608d\n",
      "  Running command git clone --filter=blob:none --quiet https://github.com/webis-de/small-text.git /tmp/pip-install-9prlcx7n/small-text_367720c88f9b446d950043587901608d\n",
      "  Running command git checkout -b v1.4.x --track origin/v1.4.x\n",
      "  Switched to a new branch 'v1.4.x'\n",
      "  branch 'v1.4.x' set up to track 'origin/v1.4.x'.\n",
      "  Resolved https://github.com/webis-de/small-text.git to commit 1193e540f1317ef589393541b428b2cb4716cc3a\n",
      "  Installing build dependencies ... \u001B[?25ldone\n",
      "\u001B[?25h  Getting requirements to build wheel ... \u001B[?25ldone\n",
      "\u001B[?25h  Preparing metadata (pyproject.toml) ... \u001B[?25ldone\n",
      "\u001B[?25hRequirement already satisfied: scikit-learn>=0.24.1 in /home/cschroeder/.pyenv/versions/3.9.18/envs/notebooks/lib/python3.9/site-packages (from small-text[transformers]) (1.5.0)\n",
      "Requirement already satisfied: numpy>=1.20.0 in /home/cschroeder/.pyenv/versions/3.9.18/envs/notebooks/lib/python3.9/site-packages (from small-text[transformers]) (1.26.4)\n",
      "Requirement already satisfied: scipy in /home/cschroeder/.pyenv/versions/3.9.18/envs/notebooks/lib/python3.9/site-packages (from small-text[transformers]) (1.13.1)\n",
      "Requirement already satisfied: tqdm in /home/cschroeder/.pyenv/versions/3.9.18/envs/notebooks/lib/python3.9/site-packages (from small-text[transformers]) (4.66.4)\n",
      "Requirement already satisfied: dill in /home/cschroeder/.pyenv/versions/3.9.18/envs/notebooks/lib/python3.9/site-packages (from small-text[transformers]) (0.3.8)\n",
      "Requirement already satisfied: packaging in /home/cschroeder/.pyenv/versions/3.9.18/envs/notebooks/lib/python3.9/site-packages (from small-text[transformers]) (24.1)\n",
      "Requirement already satisfied: torch>=1.6.0 in /home/cschroeder/.pyenv/versions/3.9.18/envs/notebooks/lib/python3.9/site-packages (from small-text[transformers]) (2.3.0)\n",
      "Requirement already satisfied: transformers>=4.0.0 in /home/cschroeder/.pyenv/versions/3.9.18/envs/notebooks/lib/python3.9/site-packages (from small-text[transformers]) (4.41.1)\n",
      "Requirement already satisfied: torchtext>=0.7.0 in /home/cschroeder/.pyenv/versions/3.9.18/envs/notebooks/lib/python3.9/site-packages (from small-text[transformers]) (0.18.0)\n",
      "Requirement already satisfied: joblib>=1.2.0 in /home/cschroeder/.pyenv/versions/3.9.18/envs/notebooks/lib/python3.9/site-packages (from scikit-learn>=0.24.1->small-text[transformers]) (1.4.2)\n",
      "Requirement already satisfied: threadpoolctl>=3.1.0 in /home/cschroeder/.pyenv/versions/3.9.18/envs/notebooks/lib/python3.9/site-packages (from scikit-learn>=0.24.1->small-text[transformers]) (3.5.0)\n",
      "Requirement already satisfied: nvidia-curand-cu12==10.3.2.106 in /home/cschroeder/.pyenv/versions/3.9.18/envs/notebooks/lib/python3.9/site-packages (from torch>=1.6.0->small-text[transformers]) (10.3.2.106)\n",
      "Requirement already satisfied: nvidia-cusolver-cu12==11.4.5.107 in /home/cschroeder/.pyenv/versions/3.9.18/envs/notebooks/lib/python3.9/site-packages (from torch>=1.6.0->small-text[transformers]) (11.4.5.107)\n",
      "Requirement already satisfied: nvidia-cuda-runtime-cu12==12.1.105 in /home/cschroeder/.pyenv/versions/3.9.18/envs/notebooks/lib/python3.9/site-packages (from torch>=1.6.0->small-text[transformers]) (12.1.105)\n",
      "Requirement already satisfied: nvidia-cufft-cu12==11.0.2.54 in /home/cschroeder/.pyenv/versions/3.9.18/envs/notebooks/lib/python3.9/site-packages (from torch>=1.6.0->small-text[transformers]) (11.0.2.54)\n",
      "Requirement already satisfied: nvidia-nccl-cu12==2.20.5 in /home/cschroeder/.pyenv/versions/3.9.18/envs/notebooks/lib/python3.9/site-packages (from torch>=1.6.0->small-text[transformers]) (2.20.5)\n",
      "Requirement already satisfied: triton==2.3.0 in /home/cschroeder/.pyenv/versions/3.9.18/envs/notebooks/lib/python3.9/site-packages (from torch>=1.6.0->small-text[transformers]) (2.3.0)\n",
      "Requirement already satisfied: filelock in /home/cschroeder/.pyenv/versions/3.9.18/envs/notebooks/lib/python3.9/site-packages (from torch>=1.6.0->small-text[transformers]) (3.14.0)\n",
      "Requirement already satisfied: networkx in /home/cschroeder/.pyenv/versions/3.9.18/envs/notebooks/lib/python3.9/site-packages (from torch>=1.6.0->small-text[transformers]) (3.2.1)\n",
      "Requirement already satisfied: fsspec in /home/cschroeder/.pyenv/versions/3.9.18/envs/notebooks/lib/python3.9/site-packages (from torch>=1.6.0->small-text[transformers]) (2024.3.1)\n",
      "Requirement already satisfied: nvidia-cublas-cu12==12.1.3.1 in /home/cschroeder/.pyenv/versions/3.9.18/envs/notebooks/lib/python3.9/site-packages (from torch>=1.6.0->small-text[transformers]) (12.1.3.1)\n",
      "Requirement already satisfied: nvidia-cudnn-cu12==8.9.2.26 in /home/cschroeder/.pyenv/versions/3.9.18/envs/notebooks/lib/python3.9/site-packages (from torch>=1.6.0->small-text[transformers]) (8.9.2.26)\n",
      "Requirement already satisfied: nvidia-cuda-nvrtc-cu12==12.1.105 in /home/cschroeder/.pyenv/versions/3.9.18/envs/notebooks/lib/python3.9/site-packages (from torch>=1.6.0->small-text[transformers]) (12.1.105)\n",
      "Requirement already satisfied: nvidia-cusparse-cu12==12.1.0.106 in /home/cschroeder/.pyenv/versions/3.9.18/envs/notebooks/lib/python3.9/site-packages (from torch>=1.6.0->small-text[transformers]) (12.1.0.106)\n",
      "Requirement already satisfied: jinja2 in /home/cschroeder/.pyenv/versions/3.9.18/envs/notebooks/lib/python3.9/site-packages (from torch>=1.6.0->small-text[transformers]) (3.1.4)\n",
      "Requirement already satisfied: sympy in /home/cschroeder/.pyenv/versions/3.9.18/envs/notebooks/lib/python3.9/site-packages (from torch>=1.6.0->small-text[transformers]) (1.12)\n",
      "Requirement already satisfied: typing-extensions>=4.8.0 in /home/cschroeder/.pyenv/versions/3.9.18/envs/notebooks/lib/python3.9/site-packages (from torch>=1.6.0->small-text[transformers]) (4.11.0)\n",
      "Requirement already satisfied: nvidia-cuda-cupti-cu12==12.1.105 in /home/cschroeder/.pyenv/versions/3.9.18/envs/notebooks/lib/python3.9/site-packages (from torch>=1.6.0->small-text[transformers]) (12.1.105)\n",
      "Requirement already satisfied: nvidia-nvtx-cu12==12.1.105 in /home/cschroeder/.pyenv/versions/3.9.18/envs/notebooks/lib/python3.9/site-packages (from torch>=1.6.0->small-text[transformers]) (12.1.105)\n",
      "Requirement already satisfied: nvidia-nvjitlink-cu12 in /home/cschroeder/.pyenv/versions/3.9.18/envs/notebooks/lib/python3.9/site-packages (from nvidia-cusolver-cu12==11.4.5.107->torch>=1.6.0->small-text[transformers]) (12.5.40)\n",
      "Requirement already satisfied: requests in /home/cschroeder/.pyenv/versions/3.9.18/envs/notebooks/lib/python3.9/site-packages (from torchtext>=0.7.0->small-text[transformers]) (2.32.1)\n",
      "Requirement already satisfied: safetensors>=0.4.1 in /home/cschroeder/.pyenv/versions/3.9.18/envs/notebooks/lib/python3.9/site-packages (from transformers>=4.0.0->small-text[transformers]) (0.4.3)\n",
      "Requirement already satisfied: huggingface-hub<1.0,>=0.23.0 in /home/cschroeder/.pyenv/versions/3.9.18/envs/notebooks/lib/python3.9/site-packages (from transformers>=4.0.0->small-text[transformers]) (0.23.1)\n",
      "Requirement already satisfied: tokenizers<0.20,>=0.19 in /home/cschroeder/.pyenv/versions/3.9.18/envs/notebooks/lib/python3.9/site-packages (from transformers>=4.0.0->small-text[transformers]) (0.19.1)\n",
      "Requirement already satisfied: pyyaml>=5.1 in /home/cschroeder/.pyenv/versions/3.9.18/envs/notebooks/lib/python3.9/site-packages (from transformers>=4.0.0->small-text[transformers]) (6.0.1)\n",
      "Requirement already satisfied: regex!=2019.12.17 in /home/cschroeder/.pyenv/versions/3.9.18/envs/notebooks/lib/python3.9/site-packages (from transformers>=4.0.0->small-text[transformers]) (2024.5.15)\n",
      "Requirement already satisfied: MarkupSafe>=2.0 in /home/cschroeder/.pyenv/versions/3.9.18/envs/notebooks/lib/python3.9/site-packages (from jinja2->torch>=1.6.0->small-text[transformers]) (2.1.5)\n",
      "Requirement already satisfied: urllib3<3,>=1.21.1 in /home/cschroeder/.pyenv/versions/3.9.18/envs/notebooks/lib/python3.9/site-packages (from requests->torchtext>=0.7.0->small-text[transformers]) (2.2.1)\n",
      "Requirement already satisfied: idna<4,>=2.5 in /home/cschroeder/.pyenv/versions/3.9.18/envs/notebooks/lib/python3.9/site-packages (from requests->torchtext>=0.7.0->small-text[transformers]) (3.7)\n",
      "Requirement already satisfied: charset-normalizer<4,>=2 in /home/cschroeder/.pyenv/versions/3.9.18/envs/notebooks/lib/python3.9/site-packages (from requests->torchtext>=0.7.0->small-text[transformers]) (3.3.2)\n",
      "Requirement already satisfied: certifi>=2017.4.17 in /home/cschroeder/.pyenv/versions/3.9.18/envs/notebooks/lib/python3.9/site-packages (from requests->torchtext>=0.7.0->small-text[transformers]) (2024.2.2)\n",
      "Requirement already satisfied: mpmath>=0.19 in /home/cschroeder/.pyenv/versions/3.9.18/envs/notebooks/lib/python3.9/site-packages (from sympy->torch>=1.6.0->small-text[transformers]) (1.3.0)\n",
      "\n",
      "\u001B[1m[\u001B[0m\u001B[34;49mnotice\u001B[0m\u001B[1;39;49m]\u001B[0m\u001B[39;49m A new release of pip is available: \u001B[0m\u001B[31;49m23.0.1\u001B[0m\u001B[39;49m -> \u001B[0m\u001B[32;49m24.2\u001B[0m\n",
      "\u001B[1m[\u001B[0m\u001B[34;49mnotice\u001B[0m\u001B[1;39;49m]\u001B[0m\u001B[39;49m To update, run: \u001B[0m\u001B[32;49mpython3.9 -m pip install --upgrade pip\u001B[0m\n",
      "Note: you may need to restart the kernel to use updated packages.\n",
      "Requirement already satisfied: datasets in /home/cschroeder/.pyenv/versions/3.9.18/envs/notebooks/lib/python3.9/site-packages (2.19.1)\n",
      "Requirement already satisfied: matplotlib in /home/cschroeder/.pyenv/versions/3.9.18/envs/notebooks/lib/python3.9/site-packages (3.7.3)\n",
      "Collecting seaborn>=0.13.0\n",
      "  Using cached seaborn-0.13.2-py3-none-any.whl (294 kB)\n",
      "Requirement already satisfied: pandas in /home/cschroeder/.pyenv/versions/3.9.18/envs/notebooks/lib/python3.9/site-packages (2.2.2)\n",
      "Requirement already satisfied: requests>=2.19.0 in /home/cschroeder/.pyenv/versions/3.9.18/envs/notebooks/lib/python3.9/site-packages (from datasets) (2.32.1)\n",
      "Requirement already satisfied: xxhash in /home/cschroeder/.pyenv/versions/3.9.18/envs/notebooks/lib/python3.9/site-packages (from datasets) (3.4.1)\n",
      "Requirement already satisfied: multiprocess in /home/cschroeder/.pyenv/versions/3.9.18/envs/notebooks/lib/python3.9/site-packages (from datasets) (0.70.16)\n",
      "Requirement already satisfied: fsspec[http]<=2024.3.1,>=2023.1.0 in /home/cschroeder/.pyenv/versions/3.9.18/envs/notebooks/lib/python3.9/site-packages (from datasets) (2024.3.1)\n",
      "Requirement already satisfied: pyarrow>=12.0.0 in /home/cschroeder/.pyenv/versions/3.9.18/envs/notebooks/lib/python3.9/site-packages (from datasets) (16.1.0)\n",
      "Requirement already satisfied: aiohttp in /home/cschroeder/.pyenv/versions/3.9.18/envs/notebooks/lib/python3.9/site-packages (from datasets) (3.9.5)\n",
      "Requirement already satisfied: dill<0.3.9,>=0.3.0 in /home/cschroeder/.pyenv/versions/3.9.18/envs/notebooks/lib/python3.9/site-packages (from datasets) (0.3.8)\n",
      "Requirement already satisfied: packaging in /home/cschroeder/.pyenv/versions/3.9.18/envs/notebooks/lib/python3.9/site-packages (from datasets) (24.1)\n",
      "Requirement already satisfied: huggingface-hub>=0.21.2 in /home/cschroeder/.pyenv/versions/3.9.18/envs/notebooks/lib/python3.9/site-packages (from datasets) (0.23.1)\n",
      "Requirement already satisfied: numpy>=1.17 in /home/cschroeder/.pyenv/versions/3.9.18/envs/notebooks/lib/python3.9/site-packages (from datasets) (1.26.4)\n",
      "Requirement already satisfied: pyyaml>=5.1 in /home/cschroeder/.pyenv/versions/3.9.18/envs/notebooks/lib/python3.9/site-packages (from datasets) (6.0.1)\n",
      "Requirement already satisfied: pyarrow-hotfix in /home/cschroeder/.pyenv/versions/3.9.18/envs/notebooks/lib/python3.9/site-packages (from datasets) (0.6)\n",
      "Requirement already satisfied: filelock in /home/cschroeder/.pyenv/versions/3.9.18/envs/notebooks/lib/python3.9/site-packages (from datasets) (3.14.0)\n",
      "Requirement already satisfied: tqdm>=4.62.1 in /home/cschroeder/.pyenv/versions/3.9.18/envs/notebooks/lib/python3.9/site-packages (from datasets) (4.66.4)\n",
      "Requirement already satisfied: cycler>=0.10 in /home/cschroeder/.pyenv/versions/3.9.18/envs/notebooks/lib/python3.9/site-packages (from matplotlib) (0.12.1)\n",
      "Requirement already satisfied: contourpy>=1.0.1 in /home/cschroeder/.pyenv/versions/3.9.18/envs/notebooks/lib/python3.9/site-packages (from matplotlib) (1.2.1)\n",
      "Requirement already satisfied: fonttools>=4.22.0 in /home/cschroeder/.pyenv/versions/3.9.18/envs/notebooks/lib/python3.9/site-packages (from matplotlib) (4.53.1)\n",
      "Requirement already satisfied: python-dateutil>=2.7 in /home/cschroeder/.pyenv/versions/3.9.18/envs/notebooks/lib/python3.9/site-packages (from matplotlib) (2.9.0.post0)\n",
      "Requirement already satisfied: kiwisolver>=1.0.1 in /home/cschroeder/.pyenv/versions/3.9.18/envs/notebooks/lib/python3.9/site-packages (from matplotlib) (1.4.5)\n",
      "Requirement already satisfied: pillow>=6.2.0 in /home/cschroeder/.pyenv/versions/3.9.18/envs/notebooks/lib/python3.9/site-packages (from matplotlib) (10.4.0)\n",
      "Requirement already satisfied: pyparsing>=2.3.1 in /home/cschroeder/.pyenv/versions/3.9.18/envs/notebooks/lib/python3.9/site-packages (from matplotlib) (3.1.2)\n",
      "Requirement already satisfied: importlib-resources>=3.2.0 in /home/cschroeder/.pyenv/versions/3.9.18/envs/notebooks/lib/python3.9/site-packages (from matplotlib) (6.4.2)\n",
      "Requirement already satisfied: pytz>=2020.1 in /home/cschroeder/.pyenv/versions/3.9.18/envs/notebooks/lib/python3.9/site-packages (from pandas) (2024.1)\n",
      "Requirement already satisfied: tzdata>=2022.7 in /home/cschroeder/.pyenv/versions/3.9.18/envs/notebooks/lib/python3.9/site-packages (from pandas) (2024.1)\n",
      "Requirement already satisfied: async-timeout<5.0,>=4.0 in /home/cschroeder/.pyenv/versions/3.9.18/envs/notebooks/lib/python3.9/site-packages (from aiohttp->datasets) (4.0.3)\n",
      "Requirement already satisfied: frozenlist>=1.1.1 in /home/cschroeder/.pyenv/versions/3.9.18/envs/notebooks/lib/python3.9/site-packages (from aiohttp->datasets) (1.4.1)\n",
      "Requirement already satisfied: yarl<2.0,>=1.0 in /home/cschroeder/.pyenv/versions/3.9.18/envs/notebooks/lib/python3.9/site-packages (from aiohttp->datasets) (1.9.4)\n",
      "Requirement already satisfied: attrs>=17.3.0 in /home/cschroeder/.pyenv/versions/3.9.18/envs/notebooks/lib/python3.9/site-packages (from aiohttp->datasets) (23.2.0)\n",
      "Requirement already satisfied: multidict<7.0,>=4.5 in /home/cschroeder/.pyenv/versions/3.9.18/envs/notebooks/lib/python3.9/site-packages (from aiohttp->datasets) (6.0.5)\n",
      "Requirement already satisfied: aiosignal>=1.1.2 in /home/cschroeder/.pyenv/versions/3.9.18/envs/notebooks/lib/python3.9/site-packages (from aiohttp->datasets) (1.3.1)\n",
      "Requirement already satisfied: typing-extensions>=3.7.4.3 in /home/cschroeder/.pyenv/versions/3.9.18/envs/notebooks/lib/python3.9/site-packages (from huggingface-hub>=0.21.2->datasets) (4.11.0)\n",
      "Requirement already satisfied: zipp>=3.1.0 in /home/cschroeder/.pyenv/versions/3.9.18/envs/notebooks/lib/python3.9/site-packages (from importlib-resources>=3.2.0->matplotlib) (3.20.0)\n",
      "Requirement already satisfied: six>=1.5 in /home/cschroeder/.pyenv/versions/3.9.18/envs/notebooks/lib/python3.9/site-packages (from python-dateutil>=2.7->matplotlib) (1.16.0)\n",
      "Requirement already satisfied: charset-normalizer<4,>=2 in /home/cschroeder/.pyenv/versions/3.9.18/envs/notebooks/lib/python3.9/site-packages (from requests>=2.19.0->datasets) (3.3.2)\n",
      "Requirement already satisfied: certifi>=2017.4.17 in /home/cschroeder/.pyenv/versions/3.9.18/envs/notebooks/lib/python3.9/site-packages (from requests>=2.19.0->datasets) (2024.2.2)\n",
      "Requirement already satisfied: idna<4,>=2.5 in /home/cschroeder/.pyenv/versions/3.9.18/envs/notebooks/lib/python3.9/site-packages (from requests>=2.19.0->datasets) (3.7)\n",
      "Requirement already satisfied: urllib3<3,>=1.21.1 in /home/cschroeder/.pyenv/versions/3.9.18/envs/notebooks/lib/python3.9/site-packages (from requests>=2.19.0->datasets) (2.2.1)\n",
      "Installing collected packages: seaborn\n",
      "  Attempting uninstall: seaborn\n",
      "    Found existing installation: seaborn 0.12.2\n",
      "    Uninstalling seaborn-0.12.2:\n",
      "      Successfully uninstalled seaborn-0.12.2\n",
      "Successfully installed seaborn-0.13.2\n",
      "\n",
      "\u001B[1m[\u001B[0m\u001B[34;49mnotice\u001B[0m\u001B[1;39;49m]\u001B[0m\u001B[39;49m A new release of pip is available: \u001B[0m\u001B[31;49m23.0.1\u001B[0m\u001B[39;49m -> \u001B[0m\u001B[32;49m24.2\u001B[0m\n",
      "\u001B[1m[\u001B[0m\u001B[34;49mnotice\u001B[0m\u001B[1;39;49m]\u001B[0m\u001B[39;49m To update, run: \u001B[0m\u001B[32;49mpython3.9 -m pip install --upgrade pip\u001B[0m\n",
      "Note: you may need to restart the kernel to use updated packages.\n"
     ]
    }
   ],
   "source": [
    "%pip install small-text[transformers]==1.4.1\n",
    "\n",
    "# additional dependencies for this example\n",
    "%pip install datasets matplotlib \"seaborn>=0.13.0\" pandas"
   ]
  },
  {
   "cell_type": "markdown",
   "id": "658cddec",
   "metadata": {},
   "source": [
    "### Preparation\n",
    "\n",
    "You can skip this part when reading for the first time if you are only interested in active learning. Here, we configure the loggging behavior and display progress bars display of the `datasets` library to improve its appearance in the notebook. "
   ]
  },
  {
   "cell_type": "code",
   "execution_count": 2,
   "id": "13170d96",
   "metadata": {},
   "outputs": [],
   "source": [
    "import datasets\n",
    "datasets.logging.set_verbosity_error()\n",
    "\n",
    "# disables the progress bar for notebooks: https://github.com/huggingface/datasets/issues/2651\n",
    "datasets.logging.get_verbosity = lambda: logging.NOTSET"
   ]
  },
  {
   "cell_type": "markdown",
   "id": "1c35a787",
   "metadata": {},
   "source": [
    "Moreover, we update the default matplotlib settings to receive a more visually appealing plot at the end of this tutorial."
   ]
  },
  {
   "cell_type": "code",
   "execution_count": 3,
   "id": "269ce876",
   "metadata": {},
   "outputs": [],
   "source": [
    "from matplotlib import rcParams\n",
    "rcParams.update({'xtick.labelsize': 14, 'ytick.labelsize': 14, 'axes.labelsize': 16})"
   ]
  },
  {
   "cell_type": "markdown",
   "id": "741d6d3f",
   "metadata": {},
   "source": [
    "Finally, we will fix the random seeds so that readers do not get confused when the results change upon repeated execution."
   ]
  },
  {
   "cell_type": "code",
   "execution_count": 4,
   "id": "e7be9231",
   "metadata": {},
   "outputs": [],
   "source": [
    "import torch\n",
    "import numpy as np\n",
    "\n",
    "seed = 2022\n",
    "torch.manual_seed(seed)\n",
    "np.random.seed(seed)"
   ]
  },
  {
   "cell_type": "markdown",
   "id": "bdf5fd19",
   "metadata": {},
   "source": [
    "<a id=\"nb1-part2-data\"></a>\n",
    "## II. Data\n",
    "\n",
    "First, we load the rotten tomatoes dataset. This dataset contains movie reviews sentences, which are labeled by their sentiment as either positive or negative."
   ]
  },
  {
   "cell_type": "code",
   "execution_count": 5,
   "id": "754e5b56",
   "metadata": {},
   "outputs": [
    {
     "name": "stdout",
     "output_type": "stream",
     "text": [
      "First 10 training samples:\n",
      "\n",
      "1   the rock is destined to be the 21st century's new \" conan \" and that he's going to make a splash even greater than arnold schwarzenegger , jean-claud van damme or steven segal .\n",
      "1   the gorgeously elaborate continuation of \" the lord of the rings \" trilogy is so huge that a column of words cannot adequately describe co-writer/director peter jackson's expanded vision of j . r . r . tolkien's middle-earth .\n",
      "1   effective but too-tepid biopic\n",
      "1   if you sometimes like to go to the movies to have fun , wasabi is a good place to start .\n",
      "1   emerges as something rare , an issue movie that's so honest and keenly observed that it doesn't feel like one .\n",
      "1   the film provides some great insight into the neurotic mindset of all comics -- even those who have reached the absolute top of the game .\n",
      "1   offers that rare combination of entertainment and education .\n",
      "1   perhaps no picture ever made has more literally showed that the road to hell is paved with good intentions .\n",
      "1   steers turns in a snappy screenplay that curls at the edges ; it's so clever you want to hate it . but he somehow pulls it off .\n",
      "1   take care of my cat offers a refreshingly different slice of asian cinema .\n"
     ]
    }
   ],
   "source": [
    "import logging\n",
    "\n",
    "raw_dataset = datasets.load_dataset('rotten_tomatoes')\n",
    "num_classes = raw_dataset['train'].features['label'].num_classes\n",
    "\n",
    "print('First 10 training samples:\\n')\n",
    "for i in range(10):\n",
    "    print(raw_dataset['train']['label'][i], ' ', raw_dataset['train']['text'][i])"
   ]
  },
  {
   "cell_type": "markdown",
   "id": "1742f7d7",
   "metadata": {},
   "source": [
    "### Preparing the Data\n",
    "\n",
    "Next, we have to convert this raw text data into a format usable by small-text. Since the transformer-based classification in small-text uses huggingface transformers this step is pretty similar to the preprocessing you may know from transformers, with the addition that the end result must be a `TransformersDataset`. In this example, we use `bert-base-uncased` as transformer model."
   ]
  },
  {
   "cell_type": "code",
   "execution_count": 6,
   "id": "2c52f326",
   "metadata": {},
   "outputs": [],
   "source": [
    "from transformers import AutoTokenizer\n",
    "\n",
    "transformer_model_name = 'bert-base-uncased'\n",
    "\n",
    "tokenizer = AutoTokenizer.from_pretrained(\n",
    "    transformer_model_name\n",
    ")"
   ]
  },
  {
   "cell_type": "markdown",
   "id": "3252a546",
   "metadata": {},
   "source": [
    "We use the `TransformersDataset.from_arrays()` helper function which constructs a `TransformersDataset` instance using the tokenizer, text, and labels."
   ]
  },
  {
   "cell_type": "code",
   "execution_count": 7,
   "id": "be151ce8",
   "metadata": {},
   "outputs": [
    {
     "name": "stderr",
     "output_type": "stream",
     "text": [
      "/home/cschroeder/.pyenv/versions/3.9.18/envs/notebooks/lib/python3.9/site-packages/small_text/utils/annotations.py:67: ExperimentalWarning: The function from_arrays is experimental and maybe subject to change soon.\n",
      "  warnings.warn(f'The {subject} {func_or_class.__name__} is experimental '\n"
     ]
    }
   ],
   "source": [
    "from small_text import TransformersDataset\n",
    "\n",
    "\n",
    "target_labels = np.arange(num_classes)\n",
    "\n",
    "train = TransformersDataset.from_arrays(raw_dataset['train']['text'],\n",
    "                                        raw_dataset['train']['label'],\n",
    "                                        tokenizer,\n",
    "                                        max_length=60,\n",
    "                                        target_labels=target_labels)\n",
    "test = TransformersDataset.from_arrays(raw_dataset['test']['text'], \n",
    "                                       raw_dataset['test']['label'],\n",
    "                                       tokenizer,\n",
    "                                       max_length=60,\n",
    "                                       target_labels=target_labels)"
   ]
  },
  {
   "cell_type": "markdown",
   "id": "017ebf3d",
   "metadata": {},
   "source": [
    "---\n",
    "\n",
    "<a name=\"nb1-part3-active-learning\"></a>\n",
    "## III. Setting up the Active Learner\n",
    "\n",
    "Now we constrauct a `PoolBasedActiveLearner` instance which requires a classifier factory, a query strategy, and the train dataset.\n",
    "\n",
    "To obtain a first model, we initialize the active learner by providing the true labels for 10 sentences. This corresponds to an initial labeling the real-world setting."
   ]
  },
  {
   "cell_type": "code",
   "execution_count": 8,
   "id": "66774521",
   "metadata": {},
   "outputs": [
    {
     "name": "stderr",
     "output_type": "stream",
     "text": [
      "/home/cschroeder/.pyenv/versions/3.9.18/envs/notebooks/lib/python3.9/site-packages/huggingface_hub/file_download.py:1132: FutureWarning: `resume_download` is deprecated and will be removed in version 1.0.0. Downloads always resume when possible. If you want to force a new download, use `force_download=True`.\n",
      "  warnings.warn(\n"
     ]
    }
   ],
   "source": [
    "from small_text import (\n",
    "    PoolBasedActiveLearner,\n",
    "    PredictionEntropy,\n",
    "    TransformerBasedClassificationFactory,\n",
    "    TransformerModelArguments,\n",
    "    random_initialization_balanced\n",
    ")\n",
    "\n",
    "\n",
    "# simulates an initial labeling to warm-start the active learning process\n",
    "def initialize_active_learner(active_learner, y_train):\n",
    "\n",
    "    indices_initial = random_initialization_balanced(y_train, n_samples=20)\n",
    "    active_learner.initialize(indices_initial)\n",
    "\n",
    "    return indices_initial\n",
    "\n",
    "\n",
    "transformer_model = TransformerModelArguments(transformer_model_name)\n",
    "clf_factory = TransformerBasedClassificationFactory(transformer_model, \n",
    "                                                    num_classes, \n",
    "                                                    kwargs=dict({'device': 'cuda', \n",
    "                                                                 'mini_batch_size': 32,\n",
    "                                                                 'class_weight': 'balanced'\n",
    "                                                                }))\n",
    "query_strategy = PredictionEntropy()\n",
    "\n",
    "active_learner = PoolBasedActiveLearner(clf_factory, query_strategy, train)\n",
    "indices_labeled = initialize_active_learner(active_learner, train.y)"
   ]
  },
  {
   "cell_type": "markdown",
   "id": "e8888591",
   "metadata": {},
   "source": [
    "### Active Learning Loop\n",
    "\n",
    "The main active learning loop queries the unlabeled pool and thereby decides which documents are labeled next.\n",
    "We then provide the labels for those documents and the active learner retrains the model.\n",
    "After each query, we evaluate the current model against the test set and save the result.\n",
    "\n",
    "\n",
    "Note: This is active learning as it is done in a scientific simulation. In reality, the label feedback would have been given by human annotators, and moreover, we would not be able to measure the test accuracy."
   ]
  },
  {
   "cell_type": "code",
   "execution_count": 9,
   "id": "aacd866c",
   "metadata": {},
   "outputs": [
    {
     "name": "stdout",
     "output_type": "stream",
     "text": [
      "Train accuracy: 0.65\n",
      "Test accuracy: 0.53\n"
     ]
    },
    {
     "name": "stderr",
     "output_type": "stream",
     "text": [
      "/home/cschroeder/.pyenv/versions/3.9.18/envs/notebooks/lib/python3.9/site-packages/huggingface_hub/file_download.py:1132: FutureWarning: `resume_download` is deprecated and will be removed in version 1.0.0. Downloads always resume when possible. If you want to force a new download, use `force_download=True`.\n",
      "  warnings.warn(\n"
     ]
    },
    {
     "name": "stdout",
     "output_type": "stream",
     "text": [
      "---------------\n",
      "Iteration #0 (40 samples)\n",
      "Train accuracy: 0.95\n",
      "Test accuracy: 0.62\n"
     ]
    },
    {
     "name": "stderr",
     "output_type": "stream",
     "text": [
      "/home/cschroeder/.pyenv/versions/3.9.18/envs/notebooks/lib/python3.9/site-packages/huggingface_hub/file_download.py:1132: FutureWarning: `resume_download` is deprecated and will be removed in version 1.0.0. Downloads always resume when possible. If you want to force a new download, use `force_download=True`.\n",
      "  warnings.warn(\n"
     ]
    },
    {
     "name": "stdout",
     "output_type": "stream",
     "text": [
      "---------------\n",
      "Iteration #1 (60 samples)\n",
      "Train accuracy: 0.98\n",
      "Test accuracy: 0.65\n"
     ]
    },
    {
     "name": "stderr",
     "output_type": "stream",
     "text": [
      "/home/cschroeder/.pyenv/versions/3.9.18/envs/notebooks/lib/python3.9/site-packages/huggingface_hub/file_download.py:1132: FutureWarning: `resume_download` is deprecated and will be removed in version 1.0.0. Downloads always resume when possible. If you want to force a new download, use `force_download=True`.\n",
      "  warnings.warn(\n"
     ]
    },
    {
     "name": "stdout",
     "output_type": "stream",
     "text": [
      "---------------\n",
      "Iteration #2 (80 samples)\n",
      "Train accuracy: 0.95\n",
      "Test accuracy: 0.63\n"
     ]
    },
    {
     "name": "stderr",
     "output_type": "stream",
     "text": [
      "/home/cschroeder/.pyenv/versions/3.9.18/envs/notebooks/lib/python3.9/site-packages/huggingface_hub/file_download.py:1132: FutureWarning: `resume_download` is deprecated and will be removed in version 1.0.0. Downloads always resume when possible. If you want to force a new download, use `force_download=True`.\n",
      "  warnings.warn(\n"
     ]
    },
    {
     "name": "stdout",
     "output_type": "stream",
     "text": [
      "---------------\n",
      "Iteration #3 (100 samples)\n",
      "Train accuracy: 0.98\n",
      "Test accuracy: 0.71\n"
     ]
    },
    {
     "name": "stderr",
     "output_type": "stream",
     "text": [
      "/home/cschroeder/.pyenv/versions/3.9.18/envs/notebooks/lib/python3.9/site-packages/huggingface_hub/file_download.py:1132: FutureWarning: `resume_download` is deprecated and will be removed in version 1.0.0. Downloads always resume when possible. If you want to force a new download, use `force_download=True`.\n",
      "  warnings.warn(\n"
     ]
    },
    {
     "name": "stdout",
     "output_type": "stream",
     "text": [
      "---------------\n",
      "Iteration #4 (120 samples)\n",
      "Train accuracy: 0.97\n",
      "Test accuracy: 0.78\n"
     ]
    },
    {
     "name": "stderr",
     "output_type": "stream",
     "text": [
      "/home/cschroeder/.pyenv/versions/3.9.18/envs/notebooks/lib/python3.9/site-packages/huggingface_hub/file_download.py:1132: FutureWarning: `resume_download` is deprecated and will be removed in version 1.0.0. Downloads always resume when possible. If you want to force a new download, use `force_download=True`.\n",
      "  warnings.warn(\n"
     ]
    },
    {
     "name": "stdout",
     "output_type": "stream",
     "text": [
      "---------------\n",
      "Iteration #5 (140 samples)\n",
      "Train accuracy: 0.94\n",
      "Test accuracy: 0.70\n"
     ]
    },
    {
     "name": "stderr",
     "output_type": "stream",
     "text": [
      "/home/cschroeder/.pyenv/versions/3.9.18/envs/notebooks/lib/python3.9/site-packages/huggingface_hub/file_download.py:1132: FutureWarning: `resume_download` is deprecated and will be removed in version 1.0.0. Downloads always resume when possible. If you want to force a new download, use `force_download=True`.\n",
      "  warnings.warn(\n"
     ]
    },
    {
     "name": "stdout",
     "output_type": "stream",
     "text": [
      "---------------\n",
      "Iteration #6 (160 samples)\n",
      "Train accuracy: 0.96\n",
      "Test accuracy: 0.74\n"
     ]
    },
    {
     "name": "stderr",
     "output_type": "stream",
     "text": [
      "/home/cschroeder/.pyenv/versions/3.9.18/envs/notebooks/lib/python3.9/site-packages/huggingface_hub/file_download.py:1132: FutureWarning: `resume_download` is deprecated and will be removed in version 1.0.0. Downloads always resume when possible. If you want to force a new download, use `force_download=True`.\n",
      "  warnings.warn(\n"
     ]
    },
    {
     "name": "stdout",
     "output_type": "stream",
     "text": [
      "---------------\n",
      "Iteration #7 (180 samples)\n",
      "Train accuracy: 0.95\n",
      "Test accuracy: 0.71\n"
     ]
    },
    {
     "name": "stderr",
     "output_type": "stream",
     "text": [
      "/home/cschroeder/.pyenv/versions/3.9.18/envs/notebooks/lib/python3.9/site-packages/huggingface_hub/file_download.py:1132: FutureWarning: `resume_download` is deprecated and will be removed in version 1.0.0. Downloads always resume when possible. If you want to force a new download, use `force_download=True`.\n",
      "  warnings.warn(\n"
     ]
    },
    {
     "name": "stdout",
     "output_type": "stream",
     "text": [
      "---------------\n",
      "Iteration #8 (200 samples)\n",
      "Train accuracy: 0.95\n",
      "Test accuracy: 0.82\n"
     ]
    },
    {
     "name": "stderr",
     "output_type": "stream",
     "text": [
      "/home/cschroeder/.pyenv/versions/3.9.18/envs/notebooks/lib/python3.9/site-packages/huggingface_hub/file_download.py:1132: FutureWarning: `resume_download` is deprecated and will be removed in version 1.0.0. Downloads always resume when possible. If you want to force a new download, use `force_download=True`.\n",
      "  warnings.warn(\n"
     ]
    },
    {
     "name": "stdout",
     "output_type": "stream",
     "text": [
      "---------------\n",
      "Iteration #9 (220 samples)\n",
      "Train accuracy: 0.96\n",
      "Test accuracy: 0.75\n"
     ]
    }
   ],
   "source": [
    "from sklearn.metrics import accuracy_score\n",
    "\n",
    "\n",
    "num_queries = 10\n",
    "\n",
    "\n",
    "def evaluate(active_learner, train, test):\n",
    "    y_pred = active_learner.classifier.predict(train)\n",
    "    y_pred_test = active_learner.classifier.predict(test)\n",
    "    \n",
    "    test_acc = accuracy_score(y_pred_test, test.y)\n",
    "\n",
    "    print('Train accuracy: {:.2f}'.format(accuracy_score(y_pred, train.y)))\n",
    "    print('Test accuracy: {:.2f}'.format(test_acc))\n",
    "    \n",
    "    return test_acc\n",
    "\n",
    "\n",
    "results = []\n",
    "results.append(evaluate(active_learner, train[indices_labeled], test))\n",
    "\n",
    "    \n",
    "for i in range(num_queries):\n",
    "    # ...where each iteration consists of labelling 20 samples\n",
    "    indices_queried = active_learner.query(num_samples=20)\n",
    "\n",
    "    # Simulate user interaction here. Replace this for real-world usage.\n",
    "    y = train.y[indices_queried]\n",
    "\n",
    "    # Return the labels for the current query to the active learner.\n",
    "    active_learner.update(y)\n",
    "\n",
    "    indices_labeled = np.concatenate([indices_queried, indices_labeled])\n",
    "    \n",
    "    print('---------------')\n",
    "    print(f'Iteration #{i} ({len(indices_labeled)} samples)')\n",
    "    results.append(evaluate(active_learner, train[indices_labeled], test))\n"
   ]
  },
  {
   "cell_type": "markdown",
   "id": "5eeb9a63",
   "metadata": {},
   "source": [
    "----\n",
    "\n",
    "<a id=\"nb1-part4-plotting\"></a>\n",
    "## IV. Plotting the Results\n",
    "\n",
    "Using the previously saved results we can plot a [learning curve](https://en.wikipedia.org/wiki/Learning_curve_(machine_learning)) to visualize the resulting accuracy on the test set."
   ]
  },
  {
   "cell_type": "code",
   "execution_count": 10,
   "id": "278c1d13",
   "metadata": {},
   "outputs": [
    {
     "name": "stderr",
     "output_type": "stream",
     "text": [
      "huggingface/tokenizers: The current process just got forked, after parallelism has already been used. Disabling parallelism to avoid deadlocks...\n",
      "To disable this warning, you can either:\n",
      "\t- Avoid using `tokenizers` before the fork if possible\n",
      "\t- Explicitly set the environment variable TOKENIZERS_PARALLELISM=(true | false)\n"
     ]
    },
    {
     "name": "stdout",
     "output_type": "stream",
     "text": [
      "Collecting matplotlib==3.9.0\n",
      "  Using cached matplotlib-3.9.0-cp39-cp39-manylinux_2_17_x86_64.manylinux2014_x86_64.whl (8.3 MB)\n",
      "Requirement already satisfied: kiwisolver>=1.3.1 in /home/cschroeder/.pyenv/versions/3.9.18/envs/notebooks/lib/python3.9/site-packages (from matplotlib==3.9.0) (1.4.5)\n",
      "Requirement already satisfied: pyparsing>=2.3.1 in /home/cschroeder/.pyenv/versions/3.9.18/envs/notebooks/lib/python3.9/site-packages (from matplotlib==3.9.0) (3.1.2)\n",
      "Requirement already satisfied: python-dateutil>=2.7 in /home/cschroeder/.pyenv/versions/3.9.18/envs/notebooks/lib/python3.9/site-packages (from matplotlib==3.9.0) (2.9.0.post0)\n",
      "Requirement already satisfied: cycler>=0.10 in /home/cschroeder/.pyenv/versions/3.9.18/envs/notebooks/lib/python3.9/site-packages (from matplotlib==3.9.0) (0.12.1)\n",
      "Requirement already satisfied: contourpy>=1.0.1 in /home/cschroeder/.pyenv/versions/3.9.18/envs/notebooks/lib/python3.9/site-packages (from matplotlib==3.9.0) (1.2.1)\n",
      "Requirement already satisfied: fonttools>=4.22.0 in /home/cschroeder/.pyenv/versions/3.9.18/envs/notebooks/lib/python3.9/site-packages (from matplotlib==3.9.0) (4.53.1)\n",
      "Requirement already satisfied: importlib-resources>=3.2.0 in /home/cschroeder/.pyenv/versions/3.9.18/envs/notebooks/lib/python3.9/site-packages (from matplotlib==3.9.0) (6.4.2)\n",
      "Requirement already satisfied: pillow>=8 in /home/cschroeder/.pyenv/versions/3.9.18/envs/notebooks/lib/python3.9/site-packages (from matplotlib==3.9.0) (10.4.0)\n",
      "Requirement already satisfied: packaging>=20.0 in /home/cschroeder/.pyenv/versions/3.9.18/envs/notebooks/lib/python3.9/site-packages (from matplotlib==3.9.0) (24.1)\n",
      "Requirement already satisfied: numpy>=1.23 in /home/cschroeder/.pyenv/versions/3.9.18/envs/notebooks/lib/python3.9/site-packages (from matplotlib==3.9.0) (1.26.4)\n",
      "Requirement already satisfied: zipp>=3.1.0 in /home/cschroeder/.pyenv/versions/3.9.18/envs/notebooks/lib/python3.9/site-packages (from importlib-resources>=3.2.0->matplotlib==3.9.0) (3.20.0)\n",
      "Requirement already satisfied: six>=1.5 in /home/cschroeder/.pyenv/versions/3.9.18/envs/notebooks/lib/python3.9/site-packages (from python-dateutil>=2.7->matplotlib==3.9.0) (1.16.0)\n",
      "Installing collected packages: matplotlib\n",
      "  Attempting uninstall: matplotlib\n",
      "    Found existing installation: matplotlib 3.7.3\n",
      "    Uninstalling matplotlib-3.7.3:\n",
      "      Successfully uninstalled matplotlib-3.7.3\n",
      "Successfully installed matplotlib-3.9.0\n",
      "\n",
      "\u001B[1m[\u001B[0m\u001B[34;49mnotice\u001B[0m\u001B[1;39;49m]\u001B[0m\u001B[39;49m A new release of pip is available: \u001B[0m\u001B[31;49m23.0.1\u001B[0m\u001B[39;49m -> \u001B[0m\u001B[32;49m24.2\u001B[0m\n",
      "\u001B[1m[\u001B[0m\u001B[34;49mnotice\u001B[0m\u001B[1;39;49m]\u001B[0m\u001B[39;49m To update, run: \u001B[0m\u001B[32;49mpython3.9 -m pip install --upgrade pip\u001B[0m\n",
      "Note: you may need to restart the kernel to use updated packages.\n"
     ]
    },
    {
     "data": {
      "image/png": "[encoded data removed]",
      "text/plain": [
       "<Figure size 1200x800 with 1 Axes>"
      ]
     },
     "metadata": {},
     "output_type": "display_data"
    }
   ],
   "source": [
    "%matplotlib inline\n",
    "%pip install \"matplotlib==3.9.0\"\n",
    "import pandas as pd\n",
    "import seaborn as sns\n",
    "import matplotlib.pyplot as plt\n",
    "\n",
    "fig = plt.figure(figsize=(12, 8))\n",
    "ax = plt.axes()\n",
    "\n",
    "data = np.array([np.arange(num_queries+1), np.array(results)]).T\n",
    "df = pd.DataFrame(data, columns=['query', 'accuracy'])\n",
    "sns.lineplot(x='query', y='accuracy', data=df)\n",
    "\n",
    "plt.xlabel('number of queries', labelpad=15)\n",
    "plt.ylabel('test accuracy', labelpad=25)\n",
    "\n",
    "sns.despine()"
   ]
  },
  {
   "cell_type": "code",
   "execution_count": null,
   "id": "885202ad-a3f0-41e8-b3e5-6b35927f44a5",
   "metadata": {},
   "outputs": [],
   "source": []
  }
 ],
 "metadata": {
  "hide_input": false,
  "kernelspec": {
   "display_name": "Python 3 (ipykernel)",
   "language": "python",
   "name": "python3"
  },
  "language_info": {
   "codemirror_mode": {
    "name": "ipython",
    "version": 3
   },
   "file_extension": ".py",
   "mimetype": "text/x-python",
   "name": "python",
   "nbconvert_exporter": "python",
   "pygments_lexer": "ipython3",
   "version": "3.9.18"
  }
 },
 "nbformat": 4,
 "nbformat_minor": 5
}
